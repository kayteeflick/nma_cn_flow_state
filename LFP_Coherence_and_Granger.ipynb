{
  "nbformat": 4,
  "nbformat_minor": 0,
  "metadata": {
    "colab": {
      "name": "LFP_Coherence_and_Granger.ipynb",
      "provenance": [],
      "include_colab_link": true
    },
    "kernelspec": {
      "name": "python3",
      "display_name": "Python 3"
    },
    "language_info": {
      "name": "python"
    }
  },
  "cells": [
    {
      "cell_type": "markdown",
      "metadata": {
        "id": "view-in-github",
        "colab_type": "text"
      },
      "source": [
        "<a href=\"https://colab.research.google.com/github/kayteeflick/nma_cn_flow_state/blob/cleaned_up_LFP_analysis/LFP_Coherence_and_Granger.ipynb\" target=\"_parent\"><img src=\"https://colab.research.google.com/assets/colab-badge.svg\" alt=\"Open In Colab\"/></a>"
      ]
    },
    {
      "cell_type": "markdown",
      "metadata": {
        "id": "nxiMhxrvMqQ8"
      },
      "source": [
        "# Flow state notebook for coherence and granger analyses"
      ]
    },
    {
      "cell_type": "markdown",
      "metadata": {
        "id": "hozFcItEts4v"
      },
      "source": [
        "This notebook shows the step by step processs of generating these analyses for the neuromatch academy summer 2021.  \n",
        "Written by: Carlos Daniel Carrasco, UC Davis, 2021 "
      ]
    },
    {
      "cell_type": "markdown",
      "metadata": {
        "id": "UeXo3ijTMIxb"
      },
      "source": [
        "## Imports"
      ]
    },
    {
      "cell_type": "code",
      "metadata": {
        "id": "9qWJi-siDfYx"
      },
      "source": [
        "#title \n",
        "import numpy as np\n",
        "import matplotlib.pyplot as plt\n",
        "from scipy import signal\n",
        "from scipy.signal import butter, lfilter, filtfilt"
      ],
      "execution_count": 18,
      "outputs": []
    },
    {
      "cell_type": "code",
      "metadata": {
        "colab": {
          "base_uri": "https://localhost:8080/"
        },
        "id": "0TRRGzo9iwu0",
        "outputId": "6a0f87b9-370b-4cda-de2e-482089275842"
      },
      "source": [
        "# package needed to run Granger \n",
        "!pip install nitime\n",
        "import nitime\n",
        "import nitime.analysis as nta\n",
        "import nitime.timeseries as ts\n",
        "import nitime.utils as tsu\n",
        "from nitime.viz import drawmatrix_channels"
      ],
      "execution_count": 3,
      "outputs": [
        {
          "output_type": "stream",
          "text": [
            "Collecting nitime\n",
            "  Downloading nitime-0.9.tar.gz (6.2 MB)\n",
            "\u001b[K     |████████████████████████████████| 6.2 MB 7.7 MB/s \n",
            "\u001b[?25hRequirement already satisfied: numpy in /usr/local/lib/python3.7/dist-packages (from nitime) (1.19.5)\n",
            "Requirement already satisfied: cython in /usr/local/lib/python3.7/dist-packages (from nitime) (0.29.23)\n",
            "Requirement already satisfied: scipy in /usr/local/lib/python3.7/dist-packages (from nitime) (1.4.1)\n",
            "Requirement already satisfied: matplotlib in /usr/local/lib/python3.7/dist-packages (from nitime) (3.2.2)\n",
            "Requirement already satisfied: networkx in /usr/local/lib/python3.7/dist-packages (from nitime) (2.5.1)\n",
            "Requirement already satisfied: nibabel in /usr/local/lib/python3.7/dist-packages (from nitime) (3.0.2)\n",
            "Requirement already satisfied: cycler>=0.10 in /usr/local/lib/python3.7/dist-packages (from matplotlib->nitime) (0.10.0)\n",
            "Requirement already satisfied: python-dateutil>=2.1 in /usr/local/lib/python3.7/dist-packages (from matplotlib->nitime) (2.8.1)\n",
            "Requirement already satisfied: kiwisolver>=1.0.1 in /usr/local/lib/python3.7/dist-packages (from matplotlib->nitime) (1.3.1)\n",
            "Requirement already satisfied: pyparsing!=2.0.4,!=2.1.2,!=2.1.6,>=2.0.1 in /usr/local/lib/python3.7/dist-packages (from matplotlib->nitime) (2.4.7)\n",
            "Requirement already satisfied: six in /usr/local/lib/python3.7/dist-packages (from cycler>=0.10->matplotlib->nitime) (1.15.0)\n",
            "Requirement already satisfied: decorator<5,>=4.3 in /usr/local/lib/python3.7/dist-packages (from networkx->nitime) (4.4.2)\n",
            "Building wheels for collected packages: nitime\n",
            "  Building wheel for nitime (setup.py) ... \u001b[?25l\u001b[?25hdone\n",
            "  Created wheel for nitime: filename=nitime-0.9-cp37-cp37m-linux_x86_64.whl size=4032151 sha256=1c42108f410ed4a90282ab03fd948bbca271d463617ad3c9090a9975dfe7501f\n",
            "  Stored in directory: /root/.cache/pip/wheels/8e/1b/71/d7d584087121ac331c444b913abeb116b527dad2a0f1d9157a\n",
            "Successfully built nitime\n",
            "Installing collected packages: nitime\n",
            "Successfully installed nitime-0.9\n"
          ],
          "name": "stdout"
        }
      ]
    },
    {
      "cell_type": "markdown",
      "metadata": {
        "id": "q8F_e8RsMFRv"
      },
      "source": [
        "## Data Retrieval - spikes"
      ]
    },
    {
      "cell_type": "code",
      "metadata": {
        "id": "-VOCPJJFCk_i"
      },
      "source": [
        "#title Data retrieval - spikes\n",
        "import os, requests\n",
        "\n",
        "fname = []\n",
        "for j in range(3):\n",
        "  fname.append('steinmetz_part%d.npz'%j)\n",
        "url = [\"https://osf.io/agvxh/download\"]\n",
        "url.append(\"https://osf.io/uv3mw/download\")\n",
        "url.append(\"https://osf.io/ehmw2/download\")\n",
        "\n",
        "for j in range(len(url)):\n",
        "  if not os.path.isfile(fname[j]):\n",
        "    try:\n",
        "      r = requests.get(url[j])\n",
        "    except requests.ConnectionError:\n",
        "      print(\"!!! Failed to download data !!!\")\n",
        "    else:\n",
        "      if r.status_code != requests.codes.ok:\n",
        "        print(\"!!! Failed to download data !!!\")\n",
        "      else:\n",
        "        with open(fname[j], \"wb\") as fid:\n",
        "          fid.write(r.content)\n",
        "\n",
        "alldat = np.array([])\n",
        "for j in range(len(fname)):\n",
        "  alldat = np.hstack((alldat, np.load('steinmetz_part%d.npz'%j, allow_pickle=True)['dat']))"
      ],
      "execution_count": 4,
      "outputs": []
    },
    {
      "cell_type": "markdown",
      "metadata": {
        "id": "Qh_K2aup8jrn"
      },
      "source": [
        "## Data retrieval - LFP"
      ]
    },
    {
      "cell_type": "code",
      "metadata": {
        "id": "CL13fYEYDl6d"
      },
      "source": [
        " \n",
        "import os, requests\n",
        "\n",
        "fname = ['steinmetz_st.npz']\n",
        "fname.append('steinmetz_wav.npz')\n",
        "fname.append('steinmetz_lfp.npz')\n",
        "\n",
        "url = [\"https://osf.io/4bjns/download\"]\n",
        "url.append(\"https://osf.io/ugm9v/download\")\n",
        "url.append(\"https://osf.io/kx3v9/download\")\n",
        "\n",
        "for j in range(len(url)):\n",
        "  if not os.path.isfile(fname[j]):\n",
        "    try:\n",
        "      r = requests.get(url[j])\n",
        "    except requests.ConnectionError:\n",
        "      print(\"!!! Failed to download data !!!\")\n",
        "    else:\n",
        "      if r.status_code != requests.codes.ok:\n",
        "        print(\"!!! Failed to download data !!!\")\n",
        "      else:\n",
        "        with open(fname[j], \"wb\") as fid:\n",
        "          fid.write(r.content)\n",
        "\n",
        "dat_LFP = np.load('steinmetz_lfp.npz', allow_pickle=True)['dat']\n"
      ],
      "execution_count": 5,
      "outputs": []
    },
    {
      "cell_type": "markdown",
      "metadata": {
        "id": "5K7UT7dyj_6R"
      },
      "source": [
        "`dat_LFP`, `dat_WAV`, `dat_ST` contain 39 sessions from 10 mice, data from Steinmetz et al, 2019, supplemental to the main data provided for NMA. Time bins for all measurements are 10ms, starting 500ms before stimulus onset (same as the main data). The followin fields are available across the three supplemental files. \n",
        "\n",
        "* `dat['lfp']`: recording of the local field potential in each brain area from this experiment, binned at `10ms`.\n",
        "* `dat['brain_area_lfp']`: brain area names for the LFP channels. \n",
        "* `dat['trough_to_peak']`: measures the width of the action potential waveform for each neuron. Widths `<=10` samples are \"putative fast spiking neurons\". \n",
        "* `dat['waveform_w']`: temporal components of spike waveforms. `w@u` reconstructs the time by channels action potential shape. \n",
        "* `dat['waveform_u]`: spatial components of spike waveforms.\n",
        "* `dat['ss']`: neurons by trials. Exact spikes times for each neuron and each trial, reference to the stimulus onset. A (neuron,trial) entry can be an empty list if that neuron did not fire at all on that trial. \n",
        "* `dat['%X%_passive']`: same as above for `X` = {`lfp`, `ss`} but for  passive trials at the end of the recording when the mouse was no longer engaged and stopped making responses. \n",
        "\n",
        "\n"
      ]
    },
    {
      "cell_type": "markdown",
      "metadata": {
        "id": "xFCTeF8P8JGs"
      },
      "source": [
        "## Functions"
      ]
    },
    {
      "cell_type": "code",
      "metadata": {
        "id": "fogo6aADEKV6"
      },
      "source": [
        "# commmon functions\n",
        "\n",
        "def select_brois(data, brois, data_type, selection=True):\n",
        "  '''\n",
        "  Args:\n",
        "    data: a numpy array of the Steinmetz 2019 data\n",
        "    brois: a list of brain regions of interest\n",
        "    data_type: \"LFP\" or \"spikes\"\n",
        "    selection: if True, filters for sessions that contain all brois. If False, filters\n",
        "        for sessions that contain any of the brois\n",
        "  Returns:\n",
        "    an embedded 1-d numpy array, with length = number of filtered session\n",
        "  '''\n",
        "  selected_data = np.array([])\n",
        "\n",
        "  if data_type == \"LFP\":\n",
        "    brain_area = \"brain_area_lfp\"\n",
        "  elif data_type == \"spikes\":\n",
        "    brain_area = \"brain_area\"\n",
        "\n",
        "  if selection == True:\n",
        "    for i in range(len(data)):\n",
        "      if all(item in data[i][brain_area] for item in brois):\n",
        "        selected_data = np.hstack((selected_data, data[i]))\n",
        "  else:\n",
        "    for i in range(len(data)):\n",
        "      if any(item in data[i][brain_area] for item in brois):\n",
        "        selected_data = np.hstack((selected_data, data[i]))\n",
        "\n",
        "  return selected_data\n",
        "\n",
        "def sel_neurons():\n",
        "  print('todo')\n",
        "  return\n",
        "\n",
        "def spks_to_rate(spks):\n",
        "  print('todo')\n",
        "  return\n",
        "\n",
        "def butter_bandpass_backend(lowcut, highcut, fs, order=6):\n",
        "  nyq = 0.5 * fs\n",
        "  low = lowcut / nyq\n",
        "  high = highcut / nyq\n",
        "  b, a = butter(order, [low, high], btype='band')\n",
        "  return b, a\n",
        "\n",
        "def butter_bandpass_filter_good_func(data, lowcut, highcut, fs, order=6):\n",
        "  b, a = butter_bandpass_backend(lowcut, highcut, fs, order=order)\n",
        "  y = filtfilt(b, a, data)\n",
        "  return y \n",
        "\n",
        "def get_behavioral_idx(recording_session):\n",
        "  '''\n",
        "  Args:\n",
        "    alldat: spiking data as loaded in originally \n",
        "    recording session: what recording session as an integer you want to pull behavioral indices for \n",
        "  Returns:\n",
        "    series of arrays that you can use to index behavior \n",
        "  '''\n",
        "  response = recording_session['response'] # right - nogo - left (-1, 0, 1)\n",
        "  vis_right = recording_session['contrast_right'] # 0 - low - high\n",
        "  vis_left = recording_session['contrast_left'] # 0 - low - high\n",
        "  gocue_idx = recording_session['gocue']\n",
        "  rt_idx = recording_session['reaction_time']\n",
        "  is_correct = np.sign(response)==np.sign(vis_left-vis_right)\n",
        "  return response, vis_right, vis_left, gocue_idx, rt_idx, is_correct\n",
        "\n",
        "def concatenate_lfp(brain_area_raw_dat,zeropadsize=0): \n",
        "  '''\n",
        "  Args:\n",
        "    data: a 2d array of raw brain area LFP should be 2d after you select a specific session and area to pull. \n",
        "    zeropadsize: if you'd like to add padding to the concatenation. Default is 0 (no padding)\n",
        "  Returns:\n",
        "    1D Array of Concatenated trials for a given brain area recording. \n",
        "  '''\n",
        "  concatenated_data = np.array([])\n",
        "  N = zeropadsize\n",
        "  for i in range(len(brain_area_raw_dat)):\n",
        "    single_trial = brain_area_raw_dat[i,:]\n",
        "    trial_padded = np.pad(single_trial,(N,N),'constant')\n",
        "    concatenated_data = np.concatenate([concatenated_data,trial_padded])\n",
        "  return concatenated_data\n",
        "\n",
        "def spikes_avg(data):\n",
        "  '''\n",
        "  Args:\n",
        "    data: a single session data frame from Steinmetz 2019 data\n",
        "  Returns:\n",
        "    A 2d numpy array of trial averages. Rows are neurons. Column are time step\n",
        "  '''\n",
        "  avg = np.mean(data['spks'], axis = 1)\n",
        "\n",
        "  return avg\n",
        "\n",
        "def add_avg(data):\n",
        "  '''\n",
        "  Adds the trial average to the data structure\n",
        "\n",
        "  Args: \n",
        "    data: a single session dataframe from Steinmetz\n",
        "  '''\n",
        "  data[\"spks_avg\"] = spikes_avg(data)\n",
        "  return data\n",
        "\n",
        "def multi_add_avg(alldat):\n",
        "  \"\"\"\n",
        "  Adds trial averages to all sessions in the dataframe\n",
        "  Args:\n",
        "    alldat: a numpy array of sessions\n",
        "  \"\"\"\n",
        "  for i in range(len(alldat)):\n",
        "    alldat[i] = add_avg(alldat[i])\n",
        "  return alldat\n",
        "\n",
        "def concat_trials(data, bin_start, bin_end):\n",
        "  \"\"\"\n",
        "  Args:\n",
        "    data: a single session data frame from Steinmetz 2019 data\n",
        "    bin_start, bin_end: integers indicating which bin to start and end at\n",
        "  Returns:\n",
        "    A 2d numpy array of with trials concatenated horizontally with shape N×TK \n",
        "    (number of neurons by number of time points times number of trials).\n",
        "  \"\"\"   \n",
        "  NN = len(data['spks'][0])\n",
        "  X = np.reshape(data['spks'][:,:,bin_start:bin_end], (NN,-1))\n",
        "\n",
        "  return X\n",
        "\n",
        "def trial_result(data):\n",
        "  '''\n",
        "  Args:\n",
        "    data: a single session data frame\n",
        "  Returns:\n",
        "    numpy logical arrarys corresponding to right trials, correct right, incorrect\n",
        "    right trials, miss right trials, no_go trials\n",
        "  '''\n",
        "  # response: right - nogo - left (-1, 0, 1)\n",
        "  # vis left/right 0 - low - high\n",
        "  response, vis_right, vis_left, gocue_idx, rt_idx, is_correct = get_behavioral_idx(data)\n",
        "  ind = {}\n",
        "\n",
        "  # trial types\n",
        "  ind[\"right_go\"] = np.array(vis_right > vis_left)\n",
        "  ind[\"left_go\"] = np.array(vis_left > vis_right)\n",
        "  ind[\"nogo\"] = np.logical_and(vis_left == 0, vis_right == 0)\n",
        "  ind[\"equal\"] = np.logical_and(vis_right >0, vis_right == vis_left)\n",
        "\n",
        "  # right trials by response\n",
        "  ind[\"right_cor\"] = np.logical_and(response == -1, vis_right > vis_left)\n",
        "  ind[\"right_error\"] = np.logical_and(response == 1, vis_right > vis_left)\n",
        "  ind[\"right_miss\"] = np.logical_and(response == 0, vis_right > vis_left)\n",
        "\n",
        "  # left trials by response\n",
        "  ind[\"left_cor\"] = np.logical_and(response == 1, vis_right < vis_left)\n",
        "  ind[\"left_error\"] = np.logical_and(response == -1, vis_right < vis_left)\n",
        "  ind[\"left_miss\"] = np.logical_and(response == 0, vis_right < vis_left)\n",
        "\n",
        "  # nogo trials by response\n",
        "  ind[\"nogo_cor\"] = np.logical_and(response == 0, ind[\"nogo\"])\n",
        "  ind[\"nogo_error\"] = np.logical_and(response != 0, ind[\"nogo\"])\n",
        "\n",
        "  return ind\n",
        "\n",
        "def frequencyband_coherence_analysis(raw_dat,correct_idx,region_of_interest,timepoints,freq_band,corr):\n",
        "  '''\n",
        "  Args:\n",
        "    raw_dat = array of LFP data for a specific session you would like to look at should be (brain_area,340,250)\n",
        "    correct_idx = idx of correct or incorrect trials to look at one vector so dimension should match second dimension ie. len = 340 \n",
        "    region_of_interest = (i = 1:12) what brain area you'd like to look at in a digit form. if using loop can go through all brain areas and do pair wise comparison. \n",
        "    timepoints =  (tp = [0,50]) what timepoints you'd like to run the coherence analysis over\n",
        "    freq_band =  (fb = [5,8]) --> Theta, What frequence band you'd like to average coherence analysis over. \n",
        "  Returns:\n",
        "    should return a vector for each comparison you chose to do. \n",
        "  '''\n",
        "\n",
        "  coherence_array = np.empty((raw_dat.shape[0]))\n",
        "  zeropadsize = 0 \n",
        "\n",
        "  for i in range(raw_dat.shape[0]):\n",
        "\n",
        "    if corr == 1:\n",
        "      brain_area_1 = raw_dat[region_of_interest,correct_idx==1,timepoints[0]:timepoints[1]] # 1 is correct response\n",
        "      brain_area_2 = raw_dat [i,correct_idx==1,timepoints[0]:timepoints[1]]\n",
        "    else:\n",
        "      brain_area_1 = raw_dat[region_of_interest,correct_idx==0,timepoints[0]:timepoints[1]] # 1 is correct response\n",
        "      brain_area_2 = raw_dat [i,correct_idx==0,timepoints[0]:timepoints[1]]\n",
        "\n",
        "    brain_area_1 = concatenate_lfp(brain_area_1,zeropadsize)\n",
        "    brain_area_2 = concatenate_lfp(brain_area_2,zeropadsize)\n",
        "    f, Cxy = signal.coherence(brain_area_1, brain_area_2, 100, nperseg=100)\n",
        "    Cxy_avg = np.mean(Cxy[freq_band[0]:freq_band[1]])\n",
        "    coherence_array[i] = Cxy_avg\n",
        "\n",
        "  return coherence_array\n",
        "\n",
        "\n",
        "def granger_causality_analysis(averaged_data,TR,freq_band): \n",
        "  '''\n",
        "  Args:\n",
        "    averaged_data = array of averaged LFP Data over a specific ROI and then the timeseries should look like if taking all brain regions (12,250)\n",
        "    TR = the sampling rate of your signal in seconds, for our case this is .01 = 100 hz = 10 ms \n",
        "    freq_band = the lower and upper frequency bands you'd like to look at [5,8] for theta . \n",
        "  Returns:\n",
        "    G which is a granger class with a bunch of different parameters related to your analysis including causality metric.\n",
        "    g2 which is a form of granger where we are examing the difference between Fx→y and Fy→x to get a clearer understanding of which is leading. \n",
        "  '''\n",
        "  f_ub = freq_band[1]\n",
        "  f_lb = freq_band[0]\n",
        "  pdata = tsu.percent_change(averaged_data)\n",
        "  time_series = ts.TimeSeries(pdata, sampling_interval=TR)\n",
        "  G = nta.GrangerAnalyzer(time_series, order=1)\n",
        "  freq_idx_G = np.where((G.frequencies > f_lb) * (G.frequencies < f_ub))[0]\n",
        "  g2 = np.mean(G.causality_xy[:, :, freq_idx_G] - G.causality_yx[:, :, freq_idx_G], -1)\n",
        "  return G, g2\n",
        "\n",
        "\n",
        "def get_high_firing_spikes(spike_data, min_rate, sr=100):\n",
        "  '''\n",
        "  Takes spike data and returns only the neurons with a high enough firing rate\n",
        "  averaged across all trials/time\n",
        "\n",
        "  Parameters\n",
        "  --------------------------------\n",
        "  spike_data : 3d array of spikes with dimensions (neurons, trials, time)\n",
        "  min_rate : The firing rate to filter above (in spikes/sec)\n",
        "  sr : sampling rate of data\n",
        "\n",
        "  Returns\n",
        "  --------------------------------\n",
        "  spikes_subset : 3d array of spikes with dimensions (neurons (filtered), trials, time)\n",
        "  '''\n",
        "  spike_counts = np.sum(np.reshape(spike_data, (spike_data.shape[0], -1)), axis=1)\n",
        "  total_time = spike_data.shape[1] * spike_data.shape[2] / sr\n",
        "  spike_rate = spike_counts / total_time\n",
        "  spikes_subset = spike_data[spike_rate > min_rate]\n",
        "  return(spikes_subset)\n"
      ],
      "execution_count": 55,
      "outputs": []
    },
    {
      "cell_type": "markdown",
      "metadata": {
        "id": "gzh18ak_kLgf"
      },
      "source": [
        "#LFP Coherence Analysis "
      ]
    },
    {
      "cell_type": "code",
      "metadata": {
        "colab": {
          "base_uri": "https://localhost:8080/"
        },
        "id": "B0TIpOSrkNmG",
        "outputId": "87b3037d-9d16-43ba-b3e8-77cf909e3a96"
      },
      "source": [
        "#@title Pulling relevant indices \n",
        "temp_dat = alldat[11]\n",
        "idx = trial_result(temp_dat) \n",
        "print(idx.keys())\n",
        "# don't have enough right error trials so collapsing across errors \n",
        "no_go_error = idx['nogo_error']\n",
        "right_error = idx['right_error']\n",
        "no_go_error = no_go_error.astype('uint8')\n",
        "right_error = right_error.astype('uint8')\n",
        "#Indices of interest \n",
        "correct_right_idx = idx['right_cor']#only at correct trials and for regions of interest\n",
        "error_idx = right_error + no_go_error\n"
      ],
      "execution_count": 45,
      "outputs": [
        {
          "output_type": "stream",
          "text": [
            "dict_keys(['right_go', 'left_go', 'nogo', 'equal', 'right_cor', 'right_error', 'right_miss', 'left_cor', 'left_error', 'left_miss', 'nogo_cor', 'nogo_error'])\n"
          ],
          "name": "stdout"
        }
      ]
    },
    {
      "cell_type": "code",
      "metadata": {
        "id": "t_NkisQPmlni"
      },
      "source": [
        "#@title Running coherence @ Theta Right and Incorrect Trials \n",
        "#pulling data and idx of interest\n",
        "session11 = dat_LFP[11]\n",
        "session11_lfp = session11['lfp']\n",
        "session11_lfp_roi = np.delete(session11_lfp,[0,8,9],axis=0)\n",
        "#parameters \n",
        "timepoints = [0,50]\n",
        "fb = [5,8]\n",
        "\n",
        "#running analysis \n",
        "theta_array = np.empty([9,9])\n",
        "theta_array_incorr = np.empty([9,9])\n",
        "for i in range(theta_array.shape[0]): \n",
        "\n",
        "  theta_array[i,:] = frequencyband_coherence_analysis(session11_lfp_roi,correct_right_idx,i,timepoints,fb,1)\n",
        "  theta_array_incorr[i,:] = frequencyband_coherence_analysis(session11_lfp_roi,error_idx,i,timepoints,fb,1)"
      ],
      "execution_count": 46,
      "outputs": []
    },
    {
      "cell_type": "code",
      "metadata": {
        "colab": {
          "base_uri": "https://localhost:8080/",
          "height": 321
        },
        "id": "tpNlq2W5nAIv",
        "outputId": "87145d2f-ae9c-4fe6-e596-0db68e515156"
      },
      "source": [
        "#@title Plotting Right Correct Coherence \n",
        "positions = (0,1, 2, 3,4,5,6,7,8)\n",
        "labels = session11['brain_area_lfp']\n",
        "roi_labels = np.delete(labels,[0,8,9])\n",
        "plt.xticks(positions, roi_labels,rotation = 'vertical')\n",
        "plt.yticks(positions, roi_labels)\n",
        "plt.imshow(theta_array)\n",
        "plt.colorbar()\n",
        "plt.title('Theta Coherence Right Correct Trials Pre Stim')\n"
      ],
      "execution_count": 47,
      "outputs": [
        {
          "output_type": "execute_result",
          "data": {
            "text/plain": [
              "Text(0.5, 1.0, 'Theta Coherence Right Correct Trials Pre Stim')"
            ]
          },
          "metadata": {
            "tags": []
          },
          "execution_count": 47
        },
        {
          "output_type": "display_data",
          "data": {
            "image/png": "[encoded data removed]",
            "text/plain": [
              "<Figure size 432x288 with 2 Axes>"
            ]
          },
          "metadata": {
            "tags": [],
            "needs_background": "light"
          }
        }
      ]
    },
    {
      "cell_type": "code",
      "metadata": {
        "colab": {
          "base_uri": "https://localhost:8080/",
          "height": 321
        },
        "id": "M4nPx2rLpFMv",
        "outputId": "ef620978-ec04-4b9c-f1eb-aabcaac1af5d"
      },
      "source": [
        "#@title Plotting Error \n",
        "positions = (0,1, 2, 3,4,5,6,7,8)\n",
        "plt.xticks(positions, roi_labels,rotation = 'vertical')\n",
        "plt.yticks(positions, roi_labels)\n",
        "plt.imshow(theta_array)\n",
        "plt.colorbar()\n",
        "plt.title('Theta Coherence Incorrect Trials Pre Stim')"
      ],
      "execution_count": 48,
      "outputs": [
        {
          "output_type": "execute_result",
          "data": {
            "text/plain": [
              "Text(0.5, 1.0, 'Theta Coherence Incorrect Trials Pre Stim')"
            ]
          },
          "metadata": {
            "tags": []
          },
          "execution_count": 48
        },
        {
          "output_type": "display_data",
          "data": {
            "image/png": "[encoded data removed]",
            "text/plain": [
              "<Figure size 432x288 with 2 Axes>"
            ]
          },
          "metadata": {
            "tags": [],
            "needs_background": "light"
          }
        }
      ]
    },
    {
      "cell_type": "code",
      "metadata": {
        "colab": {
          "base_uri": "https://localhost:8080/",
          "height": 321
        },
        "id": "prRk5HlHpTny",
        "outputId": "76692515-a271-447a-931a-e4643a23cdf1"
      },
      "source": [
        "#@title Difference matrix Correct - Incorrect \n",
        "difference_coherence = np.subtract(theta_array,theta_array_incorr)\n",
        "plt.imshow(difference_coherence)\n",
        "positions = (0,1, 2, 3,4,5,6,7,8)\n",
        "plt.xticks(positions, roi_labels,rotation = 'vertical')\n",
        "plt.yticks(positions, roi_labels)\n",
        "plt.colorbar()\n",
        "plt.clim(0,.25) \n",
        "plt.title('Theta Coherence Corr - Incorr: -500 - 0 ms')"
      ],
      "execution_count": 49,
      "outputs": [
        {
          "output_type": "execute_result",
          "data": {
            "text/plain": [
              "Text(0.5, 1.0, 'Theta Coherence Corr - Incorr: -500 - 0 ms')"
            ]
          },
          "metadata": {
            "tags": []
          },
          "execution_count": 49
        },
        {
          "output_type": "display_data",
          "data": {
            "image/png": "[encoded data removed]",
            "text/plain": [
              "<Figure size 432x288 with 2 Axes>"
            ]
          },
          "metadata": {
            "tags": [],
            "needs_background": "light"
          }
        }
      ]
    },
    {
      "cell_type": "markdown",
      "metadata": {
        "id": "oK-RHJ11qDSH"
      },
      "source": [
        "#Granger Causality Analysis"
      ]
    },
    {
      "cell_type": "code",
      "metadata": {
        "id": "UYTYQ0UrqGNT"
      },
      "source": [
        "#@title Prepping Averaged Data \n",
        "session11_lfp_corr = session11_lfp[:,correct_right_idx==1,:] # pulling correct trials only \n",
        "session11_lfp_incorr = session11_lfp[:,error_idx==1,:] #pulling incorrect trials only \n",
        "session11_lfp_corr_avg = np.mean(session11_lfp_corr,axis=1) #averaging \n",
        "session11_lfp_incorr_avg = np.mean(session11_lfp_incorr,axis=1)\n"
      ],
      "execution_count": 56,
      "outputs": []
    },
    {
      "cell_type": "code",
      "metadata": {
        "id": "5s2A5xJ-tX2o"
      },
      "source": [
        "#@title Running Grangers \n",
        "TR = .01 #time res 100 hz = 10 ms  \n",
        "fb = [5,8] # theta band \n",
        "\n",
        "G_corr, g2_corr = granger_causality_analysis(session11_lfp_corr_avg,TR,freq_band=fb)\n",
        "G_incorr, g2_incorr = granger_causality_analysis(session11_lfp_incorr_avg,TR,freq_band=fb)"
      ],
      "execution_count": 57,
      "outputs": []
    },
    {
      "cell_type": "code",
      "metadata": {
        "colab": {
          "base_uri": "https://localhost:8080/",
          "height": 320
        },
        "id": "qLsH9vJUu3yd",
        "outputId": "e0e90417-915b-4875-f692-7c2df0a06023"
      },
      "source": [
        "#@title Plotting Correct Right Granger\n",
        "fig01 = drawmatrix_channels(np.transpose(g2_corr), labels, size=[5., 5.], color_anchor=0)"
      ],
      "execution_count": 67,
      "outputs": [
        {
          "output_type": "display_data",
          "data": {
            "image/png": "[encoded data removed]",
            "text/plain": [
              "<Figure size 360x360 with 2 Axes>"
            ]
          },
          "metadata": {
            "tags": [],
            "needs_background": "light"
          }
        }
      ]
    },
    {
      "cell_type": "code",
      "metadata": {
        "colab": {
          "base_uri": "https://localhost:8080/",
          "height": 320
        },
        "id": "u6lewrFqwEJ9",
        "outputId": "e1809e1c-cecf-4b79-8c73-59c58b7e8ce1"
      },
      "source": [
        "#@title Plotting Error Granger \n",
        "fig02 = drawmatrix_channels(np.transpose(g2_incorr), labels, size=[5., 5.], color_anchor=0)"
      ],
      "execution_count": 68,
      "outputs": [
        {
          "output_type": "display_data",
          "data": {
            "image/png": "[encoded data removed]",
            "text/plain": [
              "<Figure size 360x360 with 2 Axes>"
            ]
          },
          "metadata": {
            "tags": [],
            "needs_background": "light"
          }
        }
      ]
    },
    {
      "cell_type": "code",
      "metadata": {
        "colab": {
          "base_uri": "https://localhost:8080/",
          "height": 320
        },
        "id": "mZm_kEE_wLJK",
        "outputId": "19191b19-7a09-4cc9-bc49-ca4344ca3962"
      },
      "source": [
        "#@title Plotting Difference Granger \n",
        "g2_diff = np.subtract(g2_corr,g2_incorr)\n",
        "fig03 = drawmatrix_channels(np.transpose(g2_diff), labels, size=[5., 5.], color_anchor=0)"
      ],
      "execution_count": 70,
      "outputs": [
        {
          "output_type": "display_data",
          "data": {
            "image/png": "[encoded data removed]",
            "text/plain": [
              "<Figure size 360x360 with 2 Axes>"
            ]
          },
          "metadata": {
            "tags": [],
            "needs_background": "light"
          }
        }
      ]
    }
  ]
}