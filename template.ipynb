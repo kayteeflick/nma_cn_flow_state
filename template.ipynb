{
  "nbformat": 4,
  "nbformat_minor": 0,
  "metadata": {
    "colab": {
      "name": "Copy of template.ipynb",
      "provenance": [],
      "include_colab_link": true
    },
    "kernelspec": {
      "name": "python3",
      "display_name": "Python 3"
    },
    "language_info": {
      "name": "python"
    }
  },
  "cells": [
    {
      "cell_type": "markdown",
      "metadata": {
        "id": "view-in-github",
        "colab_type": "text"
      },
      "source": [
        "<a href=\"https://colab.research.google.com/github/kayteeflick/nma_cn_flow_state/blob/updated_lfp_indexing/template.ipynb\" target=\"_parent\"><img src=\"https://colab.research.google.com/assets/colab-badge.svg\" alt=\"Open In Colab\"/></a>"
      ]
    },
    {
      "cell_type": "markdown",
      "metadata": {
        "id": "nxiMhxrvMqQ8"
      },
      "source": [
        "# Flow State Template Analysis File"
      ]
    },
    {
      "cell_type": "markdown",
      "metadata": {
        "id": "atk2QuhRCn7i"
      },
      "source": [
        "General functions to use in all notebooks. Make a copy of this to start a new type of analysis.\n",
        "\n",
        "\n"
      ]
    },
    {
      "cell_type": "markdown",
      "metadata": {
        "id": "UeXo3ijTMIxb"
      },
      "source": [
        "## Imports"
      ]
    },
    {
      "cell_type": "code",
      "metadata": {
        "id": "9qWJi-siDfYx",
        "colab": {
          "base_uri": "https://localhost:8080/"
        },
        "outputId": "ae1d07a4-72ad-425c-b882-4ec7c101974d"
      },
      "source": [
        "#title \n",
        "import numpy as np\n",
        "import matplotlib.pyplot as plt\n",
        "from scipy.signal import butter, lfilter, filtfilt\n",
        "from scipy import signal\n",
        "from statsmodels.tsa.api import VAR"
      ],
      "execution_count": 100,
      "outputs": [
        {
          "output_type": "stream",
          "text": [
            "/usr/local/lib/python3.7/dist-packages/statsmodels/tools/_testing.py:19: FutureWarning: pandas.util.testing is deprecated. Use the functions in the public API at pandas.testing instead.\n",
            "  import pandas.util.testing as tm\n"
          ],
          "name": "stderr"
        }
      ]
    },
    {
      "cell_type": "markdown",
      "metadata": {
        "id": "q8F_e8RsMFRv"
      },
      "source": [
        "## Data Retrieval - spikes"
      ]
    },
    {
      "cell_type": "code",
      "metadata": {
        "id": "-VOCPJJFCk_i"
      },
      "source": [
        "#title Data retrieval - spikes\n",
        "import os, requests\n",
        "\n",
        "fname = []\n",
        "for j in range(3):\n",
        "  fname.append('steinmetz_part%d.npz'%j)\n",
        "url = [\"https://osf.io/agvxh/download\"]\n",
        "url.append(\"https://osf.io/uv3mw/download\")\n",
        "url.append(\"https://osf.io/ehmw2/download\")\n",
        "\n",
        "for j in range(len(url)):\n",
        "  if not os.path.isfile(fname[j]):\n",
        "    try:\n",
        "      r = requests.get(url[j])\n",
        "    except requests.ConnectionError:\n",
        "      print(\"!!! Failed to download data !!!\")\n",
        "    else:\n",
        "      if r.status_code != requests.codes.ok:\n",
        "        print(\"!!! Failed to download data !!!\")\n",
        "      else:\n",
        "        with open(fname[j], \"wb\") as fid:\n",
        "          fid.write(r.content)\n",
        "\n",
        "alldat = np.array([])\n",
        "for j in range(len(fname)):\n",
        "  alldat = np.hstack((alldat, np.load('steinmetz_part%d.npz'%j, allow_pickle=True)['dat']))"
      ],
      "execution_count": 2,
      "outputs": []
    },
    {
      "cell_type": "markdown",
      "metadata": {
        "id": "Qh_K2aup8jrn"
      },
      "source": [
        "## Data retrieval - LFP"
      ]
    },
    {
      "cell_type": "code",
      "metadata": {
        "id": "CL13fYEYDl6d"
      },
      "source": [
        " \n",
        "import os, requests\n",
        "\n",
        "fname = ['steinmetz_st.npz']\n",
        "fname.append('steinmetz_wav.npz')\n",
        "fname.append('steinmetz_lfp.npz')\n",
        "\n",
        "url = [\"https://osf.io/4bjns/download\"]\n",
        "url.append(\"https://osf.io/ugm9v/download\")\n",
        "url.append(\"https://osf.io/kx3v9/download\")\n",
        "\n",
        "for j in range(len(url)):\n",
        "  if not os.path.isfile(fname[j]):\n",
        "    try:\n",
        "      r = requests.get(url[j])\n",
        "    except requests.ConnectionError:\n",
        "      print(\"!!! Failed to download data !!!\")\n",
        "    else:\n",
        "      if r.status_code != requests.codes.ok:\n",
        "        print(\"!!! Failed to download data !!!\")\n",
        "      else:\n",
        "        with open(fname[j], \"wb\") as fid:\n",
        "          fid.write(r.content)\n",
        "\n",
        "dat_LFP = np.load('steinmetz_lfp.npz', allow_pickle=True)['dat']\n"
      ],
      "execution_count": 3,
      "outputs": []
    },
    {
      "cell_type": "markdown",
      "metadata": {
        "id": "5K7UT7dyj_6R"
      },
      "source": [
        "`dat_LFP`, `dat_WAV`, `dat_ST` contain 39 sessions from 10 mice, data from Steinmetz et al, 2019, supplemental to the main data provided for NMA. Time bins for all measurements are 10ms, starting 500ms before stimulus onset (same as the main data). The followin fields are available across the three supplemental files. \n",
        "\n",
        "* `dat['lfp']`: recording of the local field potential in each brain area from this experiment, binned at `10ms`.\n",
        "* `dat['brain_area_lfp']`: brain area names for the LFP channels. \n",
        "* `dat['trough_to_peak']`: measures the width of the action potential waveform for each neuron. Widths `<=10` samples are \"putative fast spiking neurons\". \n",
        "* `dat['waveform_w']`: temporal components of spike waveforms. `w@u` reconstructs the time by channels action potential shape. \n",
        "* `dat['waveform_u]`: spatial components of spike waveforms.\n",
        "* `dat['ss']`: neurons by trials. Exact spikes times for each neuron and each trial, reference to the stimulus onset. A (neuron,trial) entry can be an empty list if that neuron did not fire at all on that trial. \n",
        "* `dat['%X%_passive']`: same as above for `X` = {`lfp`, `ss`} but for  passive trials at the end of the recording when the mouse was no longer engaged and stopped making responses. \n",
        "\n",
        "\n"
      ]
    },
    {
      "cell_type": "markdown",
      "metadata": {
        "id": "xFCTeF8P8JGs"
      },
      "source": [
        "## Functions"
      ]
    },
    {
      "cell_type": "code",
      "metadata": {
        "id": "fogo6aADEKV6"
      },
      "source": [
        "# commmon functions\n",
        "\n",
        "def select_brois(data, brois, data_type, selection=True):\n",
        "  '''\n",
        "  Args:\n",
        "    data: a numpy array of the Steinmetz 2019 data\n",
        "    brois: a list of brain regions of interest\n",
        "    data_type: \"LFP\" or \"spikes\"\n",
        "    selection: if True, filters for sessions that contain all brois. If False, filters\n",
        "        for sessions that contain any of the brois\n",
        "  Returns:\n",
        "    an embedded 1-d numpy array, with length = number of filtered session\n",
        "  '''\n",
        "  selected_data = np.array([])\n",
        "\n",
        "  if data_type == \"LFP\":\n",
        "    brain_area = \"brain_area_lfp\"\n",
        "  elif data_type == \"spikes\":\n",
        "    brain_area = \"brain_area\"\n",
        "\n",
        "  if selection == True:\n",
        "    for i in range(len(data)):\n",
        "      if all(item in data[i][brain_area] for item in brois):\n",
        "        selected_data = np.hstack((selected_data, data[i]))\n",
        "  else:\n",
        "    for i in range(len(data)):\n",
        "      if any(item in data[i][brain_area] for item in brois):\n",
        "        selected_data = np.hstack((selected_data, data[i]))\n",
        "\n",
        "  return selected_data\n",
        "\n",
        "def sel_neurons():\n",
        "  print('todo')\n",
        "  return\n",
        "\n",
        "def spks_to_rate(spks):\n",
        "  print('todo')\n",
        "  return\n",
        "\n",
        "def butter_bandpass_backend(lowcut, highcut, fs, order=6):\n",
        "  nyq = 0.5 * fs\n",
        "  low = lowcut / nyq\n",
        "  high = highcut / nyq\n",
        "  b, a = butter(order, [low, high], btype='band')\n",
        "  return b, a\n",
        "\n",
        "def butter_bandpass_filter_good_func(data, lowcut, highcut, fs, order=6):\n",
        "  b, a = butter_bandpass_backend(lowcut, highcut, fs, order=order)\n",
        "  y = filtfilt(b, a, data)\n",
        "  return y \n",
        "\n",
        "def get_behavioral_idx(recording_session):\n",
        "  '''\n",
        "  Args:\n",
        "    alldat: spiking data as loaded in originally \n",
        "    recording session: what recording session as an integer you want to pull behavioral indices for \n",
        "  Returns:\n",
        "    series of arrays that you can use to index behavior \n",
        "  '''\n",
        "  response = recording_session['response'] # right - nogo - left (-1, 0, 1)\n",
        "  vis_right = recording_session['contrast_right'] # 0 - low - high\n",
        "  vis_left = recording_session['contrast_left'] # 0 - low - high\n",
        "  gocue_idx = recording_session['gocue']\n",
        "  rt_idx = recording_session['reaction_time']\n",
        "  is_correct = np.sign(response)==np.sign(vis_left-vis_right)\n",
        "  return response, vis_right, vis_left, gocue_idx, rt_idx, is_correct\n",
        "\n",
        "def concatenate_lfp(brain_area_raw_dat,zeropadsize=0): \n",
        "  '''\n",
        "  Args:\n",
        "    data: a 2d array of raw brain area LFP should be 2d after you select a specific session and area to pull. \n",
        "    zeropadsize: if you'd like to add padding to the concatenation. Default is 0 (no padding)\n",
        "  Returns:\n",
        "    1D Array of Concatenated trials for a given brain area recording. \n",
        "  '''\n",
        "  concatenated_data = np.array([])\n",
        "  N = zeropadsize\n",
        "  for i in range(len(brain_area_raw_dat)):\n",
        "    single_trial = brain_area_raw_dat[i,:]\n",
        "    trial_padded = np.pad(single_trial,(N,N),'constant')\n",
        "    concatenated_data = np.concatenate([concatenated_data,trial_padded])\n",
        "  return concatenated_data\n",
        "\n",
        "def spikes_avg(data):\n",
        "  '''\n",
        "  Args:\n",
        "    data: a single session data frame from Steinmetz 2019 data\n",
        "  Returns:\n",
        "    A 2d numpy array of trial averages. Rows are neurons. Column are time step\n",
        "  '''\n",
        "  avg = np.mean(data['spks'], axis = 1)\n",
        "\n",
        "  return avg\n",
        "\n",
        "def add_avg(data):\n",
        "  '''\n",
        "  Adds the trial average to the data structure\n",
        "\n",
        "  Args: \n",
        "    data: a single session dataframe from Steinmetz\n",
        "  '''\n",
        "  data[\"spks_avg\"] = spikes_avg(data)\n",
        "  return data\n",
        "\n",
        "def multi_add_avg(alldat):\n",
        "  \"\"\"\n",
        "  Adds trial averages to all sessions in the dataframe\n",
        "  Args:\n",
        "    alldat: a numpy array of sessions\n",
        "  \"\"\"\n",
        "  for i in range(len(alldat)):\n",
        "    alldat[i] = add_avg(alldat[i])\n",
        "  return alldat\n",
        "\n",
        "def concat_trials(data, bin_start, bin_end):\n",
        "  \"\"\"\n",
        "  Args:\n",
        "    data: a single session data frame from Steinmetz 2019 data\n",
        "    bin_start, bin_end: integers indicating which bin to start and end at\n",
        "  Returns:\n",
        "    A 2d numpy array of with trials concatenated horizontally with shape N×TK \n",
        "    (number of neurons by number of time points times number of trials).\n",
        "  \"\"\"   \n",
        "  NN = len(data['spks'][0])\n",
        "  X = np.reshape(data['spks'][:,:,bin_start:bin_end], (NN,-1))\n",
        "\n",
        "  return X\n",
        "\n",
        "def trial_result(data):\n",
        "  '''\n",
        "  Args:\n",
        "    data: a single session data frame\n",
        "  Returns:\n",
        "    numpy logical arrarys corresponding to right trials, correct right, incorrect\n",
        "    right trials, miss right trials, no_go trials\n",
        "  '''\n",
        "  # response: right - nogo - left (-1, 0, 1)\n",
        "  # vis left/right 0 - low - high\n",
        "  response, vis_right, vis_left, gocue_idx, rt_idx, is_correct = get_behavioral_idx(data)\n",
        "  ind = {}\n",
        "\n",
        "  # trial types\n",
        "  ind[\"right_go\"] = np.array(vis_right > vis_left)\n",
        "  ind[\"left_go\"] = np.array(vis_left > vis_right)\n",
        "  ind[\"nogo\"] = np.logical_and(vis_left == 0, vis_right == 0)\n",
        "  ind[\"equal\"] = np.logical_and(vis_right >0, vis_right == vis_left)\n",
        "\n",
        "  # right trials by response\n",
        "  ind[\"right_cor\"] = np.logical_and(response == -1, vis_right > vis_left)\n",
        "  ind[\"right_error\"] = np.logical_and(response == 1, vis_right > vis_left)\n",
        "  ind[\"right_miss\"] = np.logical_and(response == 0, vis_right > vis_left)\n",
        "\n",
        "  # left trials by response\n",
        "  ind[\"left_cor\"] = np.logical_and(response == 1, vis_right < vis_left)\n",
        "  ind[\"left_error\"] = np.logical_and(response == -1, vis_right < vis_left)\n",
        "  ind[\"left_miss\"] = np.logical_and(response == 0, vis_right < vis_left)\n",
        "\n",
        "  # nogo trials by response\n",
        "  ind[\"nogo_cor\"] = np.logical_and(response == 0, ind[\"nogo\"])\n",
        "  ind[\"nogo_error\"] = np.logical_and(response != 0, ind[\"nogo\"])\n",
        "  # difficulty \n",
        "  ind[\"difficulty\"] = np.array(abs(vis_left-vis_right))\n",
        "\n",
        "  return ind\n",
        "\n",
        "def frequencyband_coherence_analysis(raw_dat,correct_idx,region_of_interest,timepoints,freq_band,corr):\n",
        "  '''\n",
        "  Args:\n",
        "    raw_dat = array of LFP data for a specific session you would like to look at should be (brain_area,340,250)\n",
        "    correct_idx = idx of correct or incorrect trials to look at one vector so dimension should match second dimension ie. len = 340 \n",
        "    region_of_interest = (i = 1:12) what brain area you'd like to look at in a digit form. if using loop can go through all brain areas and do pair wise comparison. \n",
        "    timepoints =  (tp = [0,50]) what timepoints you'd like to run the coherence analysis over\n",
        "    freq_band =  (fb = [5,8]) --> Theta, What frequence band you'd like to average coherence analysis over. \n",
        "  Returns:\n",
        "    should return a vector for each comparison you chose to do. \n",
        "  '''\n",
        "\n",
        "  coherence_array = np.empty((raw_dat.shape[0]))\n",
        "  zeropadsize = 0 \n",
        "\n",
        "  for i in range(raw_dat.shape[0]):\n",
        "\n",
        "    if corr == 1:\n",
        "      brain_area_1 = raw_dat[region_of_interest,correct_idx==1,timepoints[0]:timepoints[1]] # 1 is correct response\n",
        "      brain_area_2 = raw_dat [i,correct_idx==1,timepoints[0]:timepoints[1]]\n",
        "    else:\n",
        "      brain_area_1 = raw_dat[region_of_interest,correct_idx==0,timepoints[0]:timepoints[1]] # 1 is correct response\n",
        "      brain_area_2 = raw_dat [i,correct_idx==0,timepoints[0]:timepoints[1]]\n",
        "\n",
        "    brain_area_1 = concatenate_lfp(brain_area_1,zeropadsize)\n",
        "    brain_area_2 = concatenate_lfp(brain_area_2,zeropadsize)\n",
        "    f, Cxy = signal.coherence(brain_area_1, brain_area_2, 100, nperseg=100)\n",
        "    Cxy_avg = np.mean(Cxy[freq_band[0]:freq_band[1]])\n",
        "    coherence_array[i] = Cxy_avg\n",
        "\n",
        "  return coherence_array\n",
        "\n",
        "\n"
      ],
      "execution_count": 52,
      "outputs": []
    },
    {
      "cell_type": "markdown",
      "metadata": {
        "id": "P2jZFBFKmKc1"
      },
      "source": [
        "## Testing Coherence Function with new indices "
      ]
    },
    {
      "cell_type": "code",
      "metadata": {
        "cellView": "form",
        "colab": {
          "base_uri": "https://localhost:8080/"
        },
        "id": "3bZpuW4_Ennq",
        "outputId": "119ce236-021c-40df-f897-4775e05b345e"
      },
      "source": [
        "#@title Pulling relevant indices \n",
        "temp_dat = alldat[11]\n",
        "idx = trial_result(temp_dat) \n",
        "print(idx.keys())"
      ],
      "execution_count": 53,
      "outputs": [
        {
          "output_type": "stream",
          "text": [
            "dict_keys(['right_go', 'left_go', 'nogo', 'equal', 'right_cor', 'right_error', 'right_miss', 'left_cor', 'left_error', 'left_miss', 'nogo_cor', 'nogo_error', 'difficulty'])\n"
          ],
          "name": "stdout"
        }
      ]
    },
    {
      "cell_type": "code",
      "metadata": {
        "id": "r00N6VdCFlvW"
      },
      "source": [
        "#@title Running coherence @ Theta Right Correct Trials \n",
        "#pulling data and idx of interest\n",
        "session11 = dat_LFP[11]\n",
        "session11_lfp = session11['lfp']\n",
        "correct_right_idx = idx['right_cor']\n",
        "\n",
        "#parameters \n",
        "timepoints = [0,50]\n",
        "fb = [5,8]\n",
        "\n",
        "#running analysis \n",
        "theta_array = np.empty([12,12])\n",
        "for i in range(theta_array.shape[0]): \n",
        "\n",
        "  theta_array[i,:] = frequencyband_coherence_analysis(session11_lfp,correct_right_idx,i,timepoints,fb,1)"
      ],
      "execution_count": 15,
      "outputs": []
    },
    {
      "cell_type": "code",
      "metadata": {
        "cellView": "form",
        "colab": {
          "base_uri": "https://localhost:8080/",
          "height": 321
        },
        "id": "w3nR5psJIKg1",
        "outputId": "134e613c-7774-4c1c-812a-f6dda0f15848"
      },
      "source": [
        "#@title Plotting Coherence \n",
        "positions = (0,1, 2, 3,4,5,6,7,8,9,10,11)\n",
        "labels = session11['brain_area_lfp']\n",
        "plt.xticks(positions, labels,rotation = 'vertical')\n",
        "plt.yticks(positions, labels)\n",
        "plt.imshow(theta_array)\n",
        "plt.colorbar()\n",
        "plt.title('Theta Coherence Right Correct Trials Pre Stim')\n"
      ],
      "execution_count": 25,
      "outputs": [
        {
          "output_type": "execute_result",
          "data": {
            "text/plain": [
              "Text(0.5, 1.0, 'Theta Coherence Right Correct Trials Pre Stim')"
            ]
          },
          "metadata": {
            "tags": []
          },
          "execution_count": 25
        },
        {
          "output_type": "display_data",
          "data": {
            "image/png": "[encoded data removed]",
            "text/plain": [
              "<Figure size 432x288 with 2 Axes>"
            ]
          },
          "metadata": {
            "tags": [],
            "needs_background": "light"
          }
        }
      ]
    },
    {
      "cell_type": "code",
      "metadata": {
        "id": "qeH7IfUKJC-R"
      },
      "source": [
        "#@title Repeating analysis for error trials \n",
        "#parameters \n",
        "timepoints = [0,50]\n",
        "fb = [5,8]\n",
        "\n",
        "#running analysis \n",
        "theta_array_incorr = np.empty([12,12])\n",
        "for i in range(theta_array.shape[0]): \n",
        "\n",
        "  theta_array_incorr[i,:] = frequencyband_coherence_analysis(session11_lfp,correct_right_idx,i,timepoints,fb,0)"
      ],
      "execution_count": 26,
      "outputs": []
    },
    {
      "cell_type": "code",
      "metadata": {
        "cellView": "form",
        "colab": {
          "base_uri": "https://localhost:8080/",
          "height": 321
        },
        "id": "tKVT5JsaJPy3",
        "outputId": "79ba1950-6786-4481-ebc8-93a1e459e462"
      },
      "source": [
        "#@title Plotting Incorrect Coherence \n",
        "positions = (0,1, 2, 3,4,5,6,7,8,9,10,11)\n",
        "labels = session11['brain_area_lfp']\n",
        "plt.xticks(positions, labels,rotation = 'vertical')\n",
        "plt.yticks(positions, labels)\n",
        "plt.imshow(theta_array_incorr)\n",
        "plt.colorbar()\n",
        "plt.title('Theta Coherence Right Incorrect Trials Pre Stim')"
      ],
      "execution_count": 27,
      "outputs": [
        {
          "output_type": "execute_result",
          "data": {
            "text/plain": [
              "Text(0.5, 1.0, 'Theta Coherence Right Incorrect Trials Pre Stim')"
            ]
          },
          "metadata": {
            "tags": []
          },
          "execution_count": 27
        },
        {
          "output_type": "display_data",
          "data": {
            "image/png": "[encoded data removed]",
            "text/plain": [
              "<Figure size 432x288 with 2 Axes>"
            ]
          },
          "metadata": {
            "tags": [],
            "needs_background": "light"
          }
        }
      ]
    },
    {
      "cell_type": "code",
      "metadata": {
        "colab": {
          "base_uri": "https://localhost:8080/",
          "height": 321
        },
        "id": "tDQl0FpTJaPW",
        "outputId": "41339e0c-7481-4bd0-c16f-b4d73b6c703b"
      },
      "source": [
        "#@title Difference matrix @ right trials \n",
        "difference_coherence = np.subtract(theta_array,theta_array_incorr)\n",
        "plt.imshow(difference_coherence)\n",
        "positions = (0,1, 2, 3,4,5,6,7,8,9,10,11)\n",
        "labels = session11['brain_area_lfp']\n",
        "plt.xticks(positions, labels,rotation = 'vertical')\n",
        "plt.yticks(positions, labels)\n",
        "plt.colorbar()\n",
        "plt.clim(0,.25) \n",
        "plt.title('Theta Coherence Corr - Incorr: -500 - 0 ms')"
      ],
      "execution_count": 41,
      "outputs": [
        {
          "output_type": "execute_result",
          "data": {
            "text/plain": [
              "Text(0.5, 1.0, 'Theta Coherence Corr - Incorr: -500 - 0 ms')"
            ]
          },
          "metadata": {
            "tags": []
          },
          "execution_count": 41
        },
        {
          "output_type": "display_data",
          "data": {
            "image/png": "[encoded data removed]",
            "text/plain": [
              "<Figure size 432x288 with 2 Axes>"
            ]
          },
          "metadata": {
            "tags": [],
            "needs_background": "light"
          }
        }
      ]
    },
    {
      "cell_type": "code",
      "metadata": {
        "cellView": "form",
        "id": "IetWpgQyKVUQ"
      },
      "source": [
        "#@title repeating analysis at stim onset till 500 ms out. \n",
        "timepoints = [51,100]\n",
        "fb = [5,8]\n",
        "#running analysis \n",
        "theta_array_stimon = np.empty([12,12])\n",
        "theta_array_stimon_incorr = np.empty([12,12])\n",
        "for i in range(theta_array_stimon.shape[0]): \n",
        "\n",
        "  theta_array_stimon[i,:] = frequencyband_coherence_analysis(session11_lfp,correct_right_idx,i,timepoints,fb,1)\n",
        "  theta_array_stimon_incorr[i,:] = frequencyband_coherence_analysis(session11_lfp,correct_right_idx,i,timepoints,fb,0)\n"
      ],
      "execution_count": 35,
      "outputs": []
    },
    {
      "cell_type": "code",
      "metadata": {
        "colab": {
          "base_uri": "https://localhost:8080/",
          "height": 321
        },
        "cellView": "form",
        "id": "x8plDnSKLGmk",
        "outputId": "d8f0c1d3-b895-4731-ab10-04e5c7bbbafc"
      },
      "source": [
        "#@title Plotting again \n",
        "difference_coherence_stimon = np.subtract(theta_array_stimon,theta_array_stimon_incorr)\n",
        "plt.imshow(difference_coherence_stimon)\n",
        "positions = (0,1, 2, 3,4,5,6,7,8,9,10,11)\n",
        "labels = session11['brain_area_lfp']\n",
        "plt.xticks(positions, labels,rotation = 'vertical')\n",
        "plt.yticks(positions, labels)\n",
        "plt.colorbar()\n",
        "plt.clim(0,.25) \n",
        "plt.title('Theta Coherence Corr - Incorr: 0 - 500 ms ')"
      ],
      "execution_count": 39,
      "outputs": [
        {
          "output_type": "execute_result",
          "data": {
            "text/plain": [
              "Text(0.5, 1.0, 'Theta Coherence Corr - Incorr: 0 - 500 ms ')"
            ]
          },
          "metadata": {
            "tags": []
          },
          "execution_count": 39
        },
        {
          "output_type": "display_data",
          "data": {
            "image/png": "[encoded data removed]",
            "text/plain": [
              "<Figure size 432x288 with 2 Axes>"
            ]
          },
          "metadata": {
            "tags": [],
            "needs_background": "light"
          }
        }
      ]
    },
    {
      "cell_type": "code",
      "metadata": {
        "cellView": "form",
        "id": "k4OrtDPvMEK_"
      },
      "source": [
        "#@title Repeating Process one more time for gamma \n",
        "#parameters \n",
        "timepoints = [0,50]\n",
        "fb = [30,50]\n",
        "\n",
        "#running analysis \n",
        "gamma_array = np.empty([12,12])\n",
        "gamma_array_incorr = np.empty([12,12])\n",
        "for i in range(gamma_array.shape[0]): \n",
        "\n",
        "  gamma_array[i,:] = frequencyband_coherence_analysis(session11_lfp,correct_right_idx,i,timepoints,fb,1)\n",
        "  gamma_array_incorr[i,:] = frequencyband_coherence_analysis(session11_lfp,correct_right_idx,i,timepoints,fb,0)"
      ],
      "execution_count": 44,
      "outputs": []
    },
    {
      "cell_type": "code",
      "metadata": {
        "colab": {
          "base_uri": "https://localhost:8080/",
          "height": 321
        },
        "id": "wAUOiPOnMhFm",
        "outputId": "dddb4caf-079a-4425-d7b4-58f22cfa4c1c"
      },
      "source": [
        "#@title Plotting gamma diff \n",
        "difference_coherence_gamma = np.subtract(gamma_array,gamma_array_incorr)\n",
        "plt.imshow(difference_coherence_gamma)\n",
        "positions = (0,1, 2, 3,4,5,6,7,8,9,10,11)\n",
        "labels = session11['brain_area_lfp']\n",
        "plt.xticks(positions, labels,rotation = 'vertical')\n",
        "plt.yticks(positions, labels)\n",
        "plt.colorbar()\n",
        "plt.clim(0,.125) \n",
        "plt.title('Gamma Coherence Corr - Incorr: 0 - 500 ms ')"
      ],
      "execution_count": 51,
      "outputs": [
        {
          "output_type": "execute_result",
          "data": {
            "text/plain": [
              "Text(0.5, 1.0, 'Gamma Coherence Corr - Incorr: 0 - 500 ms ')"
            ]
          },
          "metadata": {
            "tags": []
          },
          "execution_count": 51
        },
        {
          "output_type": "display_data",
          "data": {
            "image/png": "[encoded data removed]",
            "text/plain": [
              "<Figure size 432x288 with 2 Axes>"
            ]
          },
          "metadata": {
            "tags": [],
            "needs_background": "light"
          }
        }
      ]
    },
    {
      "cell_type": "code",
      "metadata": {
        "id": "_RPhlPF6RUtx"
      },
      "source": [
        "#@title Trying difficulty index. \n",
        "\n",
        "#pulling data and idx of interest\n",
        "session11 = dat_LFP[11]\n",
        "session11_lfp = session11['lfp']\n",
        "diff_idx = idx['difficulty']\n",
        "\n",
        "low_diff_idx = diff_idx == 0.25\n",
        "low_med_diff_idx = diff_idx == 0.5 \n",
        "high_med_diff_idx = diff_idx == 0.75\n",
        "high_diff_idx = diff_idx == 1\n",
        "#parameters \n",
        "timepoints = [51,100]\n",
        "fb = [5,8]\n",
        "\n",
        "\n",
        "#running analysis \n",
        "theta_array_low = np.empty([12,12])\n",
        "theta_array_low_med = np.empty([12,12])\n",
        "theta_array_high_med = np.empty([12,12])\n",
        "theta_array_high = np.empty([12,12])\n",
        "\n",
        "for i in range(theta_array_low.shape[0]): \n",
        "\n",
        "  theta_array_low[i,:] = frequencyband_coherence_analysis(session11_lfp,low_diff_idx,i,timepoints,fb,1)\n",
        "  theta_array_low_med[i,:] = frequencyband_coherence_analysis(session11_lfp,low_med_diff_idx,i,timepoints,fb,1)\n",
        "  theta_array_high_med[i,:] = frequencyband_coherence_analysis(session11_lfp,high_med_diff_idx,i,timepoints,fb,1)\n",
        "  theta_array_high[i,:] = frequencyband_coherence_analysis(session11_lfp,high_diff_idx,i,timepoints,fb,1)"
      ],
      "execution_count": 91,
      "outputs": []
    },
    {
      "cell_type": "code",
      "metadata": {
        "colab": {
          "base_uri": "https://localhost:8080/",
          "height": 287
        },
        "id": "Fzc5lwXgSy8W",
        "outputId": "07fa163a-abbf-4d22-e047-41a08397981c"
      },
      "source": [
        "#@title Plotting difficulty \n",
        "plt.imshow(theta_array_low)\n",
        "# positions = (0,1, 2, 3,4,5,6,7,8,9,10,11)\n",
        "# labels = session11['brain_area_lfp']\n",
        "# plt.xticks(positions, labels,rotation = 'vertical')\n",
        "# plt.yticks(positions, labels)\n",
        "plt.colorbar()\n",
        "#plt.clim(0,.25) "
      ],
      "execution_count": 94,
      "outputs": [
        {
          "output_type": "execute_result",
          "data": {
            "text/plain": [
              "<matplotlib.colorbar.Colorbar at 0x7f441514b950>"
            ]
          },
          "metadata": {
            "tags": []
          },
          "execution_count": 94
        },
        {
          "output_type": "display_data",
          "data": {
            "image/png": "[encoded data removed]",
            "text/plain": [
              "<Figure size 432x288 with 2 Axes>"
            ]
          },
          "metadata": {
            "tags": [],
            "needs_background": "light"
          }
        }
      ]
    },
    {
      "cell_type": "code",
      "metadata": {
        "colab": {
          "base_uri": "https://localhost:8080/",
          "height": 321
        },
        "id": "2_kPo3qPbppf",
        "outputId": "dd50c5e6-ae08-457c-9963-086c4916eb0c"
      },
      "source": [
        "difference_coherence_diff = np.subtract(theta_array_low,theta_array_high)\n",
        "plt.imshow(difference_coherence_diff)\n",
        "plt.colorbar()\n",
        "positions = (0,1, 2, 3,4,5,6,7,8,9,10,11)\n",
        "labels = session11['brain_area_lfp']\n",
        "plt.xticks(positions, labels,rotation = 'vertical')\n",
        "plt.yticks(positions, labels)\n",
        "plt.clim(0,.25) \n",
        "plt.title('Theta low - high diff: 0 - 100 ms ')"
      ],
      "execution_count": 99,
      "outputs": [
        {
          "output_type": "execute_result",
          "data": {
            "text/plain": [
              "Text(0.5, 1.0, 'Theta low - high diff: 0 - 100 ms ')"
            ]
          },
          "metadata": {
            "tags": []
          },
          "execution_count": 99
        },
        {
          "output_type": "display_data",
          "data": {
            "image/png": "[encoded data removed]",
            "text/plain": [
              "<Figure size 432x288 with 2 Axes>"
            ]
          },
          "metadata": {
            "tags": [],
            "needs_background": "light"
          }
        }
      ]
    },
    {
      "cell_type": "code",
      "metadata": {
        "colab": {
          "base_uri": "https://localhost:8080/"
        },
        "id": "knNiMbx7fRjx",
        "outputId": "78648d02-5440-4e43-ca45-9198ec9fb0f8"
      },
      "source": [
        "# obtain the lag P for VAR\n",
        "session11_lfp.shape\n",
        "brain_area_1 = concatenate_lfp(session11_lfp[6,:,:],0)\n",
        "brain_area_2 = concatenate_lfp(session11_lfp[7,:,:],0)\n",
        "rawData = np.column_stack((brain_area_1, brain_area_2))\n",
        "\n",
        "\n",
        "model = VAR(rawData) #recall that rawData is w/o difference operation\n",
        "\n",
        "for i in [1,2,3,4,5,6,7,8,9,10,11,12]:\n",
        "    result = model.fit(i)\n",
        "    try:\n",
        "        print('Lag Order =', i)\n",
        "        print('AIC : ', result.aic)\n",
        "        print('BIC : ', result.bic)\n",
        "        print('FPE : ', result.fpe)\n",
        "        print('HQIC: ', result.hqic, '\\n')\n",
        "    except:\n",
        "        continue\n"
      ],
      "execution_count": 109,
      "outputs": [
        {
          "output_type": "stream",
          "text": [
            "Lag Order = 1\n",
            "AIC :  9.815193459386332\n",
            "BIC :  9.815853495017624\n",
            "FPE :  18309.831946424776\n",
            "HQIC:  9.815395238587248 \n",
            "\n",
            "Lag Order = 2\n",
            "AIC :  9.792766638237259\n",
            "BIC :  9.793866709180785\n",
            "FPE :  17903.770967871922\n",
            "HQIC:  9.793102940618105 \n",
            "\n",
            "Lag Order = 3\n",
            "AIC :  9.773462960218955\n",
            "BIC :  9.775003075721505\n",
            "FPE :  17561.476735707936\n",
            "HQIC:  9.773933788749977 \n",
            "\n",
            "Lag Order = 4\n",
            "AIC :  9.759869847083866\n",
            "BIC :  9.761850016392536\n",
            "FPE :  17324.376710160865\n",
            "HQIC:  9.760475204735403 \n",
            "\n",
            "Lag Order = 5\n",
            "AIC :  9.749687051657203\n",
            "BIC :  9.752107284019397\n",
            "FPE :  17148.861261789094\n",
            "HQIC:  9.750426941399702 \n",
            "\n",
            "Lag Order = 6\n",
            "AIC :  9.742131028322907\n",
            "BIC :  9.744991332986336\n",
            "FPE :  17019.772379451413\n",
            "HQIC:  9.743005453126912 \n",
            "\n",
            "Lag Order = 7\n",
            "AIC :  9.73680499162819\n",
            "BIC :  9.74010537784087\n",
            "FPE :  16929.36541637945\n",
            "HQIC:  9.737813954464347 \n",
            "\n",
            "Lag Order = 8\n",
            "AIC :  9.736292975948539\n",
            "BIC :  9.74003345295879\n",
            "FPE :  16920.69953461923\n",
            "HQIC:  9.737436479787595 \n",
            "\n",
            "Lag Order = 9\n",
            "AIC :  9.735583419573695\n",
            "BIC :  9.739763996630154\n",
            "FPE :  16908.697602996235\n",
            "HQIC:  9.736861467386502 \n",
            "\n",
            "Lag Order = 10\n",
            "AIC :  9.734717005448703\n",
            "BIC :  9.739337691800305\n",
            "FPE :  16894.054013268473\n",
            "HQIC:  9.736129600206207 \n",
            "\n",
            "Lag Order = 11\n",
            "AIC :  9.732353319157628\n",
            "BIC :  9.73741412405362\n",
            "FPE :  16854.168925990056\n",
            "HQIC:  9.733900463830881 \n",
            "\n",
            "Lag Order = 12\n",
            "AIC :  9.730114763848968\n",
            "BIC :  9.735615696538899\n",
            "FPE :  16816.48213451552\n",
            "HQIC:  9.731796461409122 \n",
            "\n"
          ],
          "name": "stdout"
        }
      ]
    },
    {
      "cell_type": "code",
      "metadata": {
        "colab": {
          "base_uri": "https://localhost:8080/"
        },
        "id": "ZfkuT1_hoF-x",
        "outputId": "a27920d7-d932-479c-9885-5405b4e7842b"
      },
      "source": [
        "!pip install nitime\n",
        "import nitime\n",
        "import nitime.analysis as nta\n",
        "import nitime.timeseries as ts\n",
        "import nitime.utils as tsu\n",
        "from nitime.viz import drawmatrix_channels\n"
      ],
      "execution_count": 113,
      "outputs": [
        {
          "output_type": "stream",
          "text": [
            "Collecting nitime\n",
            "  Downloading nitime-0.9.tar.gz (6.2 MB)\n",
            "\u001b[K     |████████████████████████████████| 6.2 MB 7.7 MB/s \n",
            "\u001b[?25hRequirement already satisfied: numpy in /usr/local/lib/python3.7/dist-packages (from nitime) (1.19.5)\n",
            "Requirement already satisfied: cython in /usr/local/lib/python3.7/dist-packages (from nitime) (0.29.23)\n",
            "Requirement already satisfied: scipy in /usr/local/lib/python3.7/dist-packages (from nitime) (1.4.1)\n",
            "Requirement already satisfied: matplotlib in /usr/local/lib/python3.7/dist-packages (from nitime) (3.2.2)\n",
            "Requirement already satisfied: networkx in /usr/local/lib/python3.7/dist-packages (from nitime) (2.5.1)\n",
            "Requirement already satisfied: nibabel in /usr/local/lib/python3.7/dist-packages (from nitime) (3.0.2)\n",
            "Requirement already satisfied: kiwisolver>=1.0.1 in /usr/local/lib/python3.7/dist-packages (from matplotlib->nitime) (1.3.1)\n",
            "Requirement already satisfied: pyparsing!=2.0.4,!=2.1.2,!=2.1.6,>=2.0.1 in /usr/local/lib/python3.7/dist-packages (from matplotlib->nitime) (2.4.7)\n",
            "Requirement already satisfied: python-dateutil>=2.1 in /usr/local/lib/python3.7/dist-packages (from matplotlib->nitime) (2.8.1)\n",
            "Requirement already satisfied: cycler>=0.10 in /usr/local/lib/python3.7/dist-packages (from matplotlib->nitime) (0.10.0)\n",
            "Requirement already satisfied: six in /usr/local/lib/python3.7/dist-packages (from cycler>=0.10->matplotlib->nitime) (1.15.0)\n",
            "Requirement already satisfied: decorator<5,>=4.3 in /usr/local/lib/python3.7/dist-packages (from networkx->nitime) (4.4.2)\n",
            "Building wheels for collected packages: nitime\n",
            "  Building wheel for nitime (setup.py) ... \u001b[?25l\u001b[?25hdone\n",
            "  Created wheel for nitime: filename=nitime-0.9-cp37-cp37m-linux_x86_64.whl size=4032181 sha256=96e1ba8210df953fc73a03460daa0f110edb5051532bafcbfb163437103c27a3\n",
            "  Stored in directory: /root/.cache/pip/wheels/8e/1b/71/d7d584087121ac331c444b913abeb116b527dad2a0f1d9157a\n",
            "Successfully built nitime\n",
            "Installing collected packages: nitime\n",
            "Successfully installed nitime-0.9\n"
          ],
          "name": "stdout"
        }
      ]
    },
    {
      "cell_type": "code",
      "metadata": {
        "colab": {
          "base_uri": "https://localhost:8080/"
        },
        "id": "W6PM_ofoo6ui",
        "outputId": "e0deb457-ec6b-4b7f-97ff-e166c2035764"
      },
      "source": [
        "#@title Trying different package for Granger \n",
        "!pip install spectral_connectivity"
      ],
      "execution_count": 119,
      "outputs": [
        {
          "output_type": "stream",
          "text": [
            "Collecting spectral_connectivity\n",
            "  Downloading spectral_connectivity-0.2.5.dev0-py3-none-any.whl (44 kB)\n",
            "\u001b[K     |████████████████████████████████| 44 kB 1.6 MB/s \n",
            "\u001b[?25hRequirement already satisfied: numpy>=1.11 in /usr/local/lib/python3.7/dist-packages (from spectral_connectivity) (1.19.5)\n",
            "Requirement already satisfied: pandas>=0.18.0 in /usr/local/lib/python3.7/dist-packages (from spectral_connectivity) (1.1.5)\n",
            "Requirement already satisfied: matplotlib in /usr/local/lib/python3.7/dist-packages (from spectral_connectivity) (3.2.2)\n",
            "Requirement already satisfied: xarray in /usr/local/lib/python3.7/dist-packages (from spectral_connectivity) (0.18.2)\n",
            "Requirement already satisfied: scipy in /usr/local/lib/python3.7/dist-packages (from spectral_connectivity) (1.4.1)\n",
            "Requirement already satisfied: pytz>=2017.2 in /usr/local/lib/python3.7/dist-packages (from pandas>=0.18.0->spectral_connectivity) (2018.9)\n",
            "Requirement already satisfied: python-dateutil>=2.7.3 in /usr/local/lib/python3.7/dist-packages (from pandas>=0.18.0->spectral_connectivity) (2.8.1)\n",
            "Requirement already satisfied: six>=1.5 in /usr/local/lib/python3.7/dist-packages (from python-dateutil>=2.7.3->pandas>=0.18.0->spectral_connectivity) (1.15.0)\n",
            "Requirement already satisfied: pyparsing!=2.0.4,!=2.1.2,!=2.1.6,>=2.0.1 in /usr/local/lib/python3.7/dist-packages (from matplotlib->spectral_connectivity) (2.4.7)\n",
            "Requirement already satisfied: cycler>=0.10 in /usr/local/lib/python3.7/dist-packages (from matplotlib->spectral_connectivity) (0.10.0)\n",
            "Requirement already satisfied: kiwisolver>=1.0.1 in /usr/local/lib/python3.7/dist-packages (from matplotlib->spectral_connectivity) (1.3.1)\n",
            "Requirement already satisfied: setuptools>=40.4 in /usr/local/lib/python3.7/dist-packages (from xarray->spectral_connectivity) (57.2.0)\n",
            "Installing collected packages: spectral-connectivity\n",
            "Successfully installed spectral-connectivity-0.2.5.dev0\n"
          ],
          "name": "stdout"
        }
      ]
    },
    {
      "cell_type": "code",
      "metadata": {
        "id": "j36FnNyorEN7"
      },
      "source": [
        "def baccala_example3():\n",
        "    '''Baccalá, L.A., and Sameshima, K. (2001). Partial directed coherence:\n",
        "    a new concept in neural structure determination. Biological\n",
        "    Cybernetics 84, 463–474.\n",
        "    '''\n",
        "    sampling_frequency = 500\n",
        "    n_time_samples, n_lags, n_signals = 510, 3, 5\n",
        "    coefficients = np.zeros((n_lags, n_signals, n_signals))\n",
        "\n",
        "    coefficients[0, 0, 0] = 0.95 * np.sqrt(2)\n",
        "    coefficients[1, 0, 0] = -0.9025\n",
        "\n",
        "    coefficients[1, 1, 0] = 0.50\n",
        "    coefficients[2, 2, 0] = -0.40\n",
        "\n",
        "    coefficients[1, 3, 0] = -0.5\n",
        "    coefficients[0, 3, 3] = 0.25 * np.sqrt(2)\n",
        "    coefficients[0, 3, 4] = 0.25 * np.sqrt(2)\n",
        "\n",
        "    coefficients[0, 4, 3] = -0.25 * np.sqrt(2)\n",
        "    coefficients[0, 4, 4] = 0.25 * np.sqrt(2)\n",
        "\n",
        "    noise_covariance = None\n",
        "    \n",
        "    return simulate_MVAR(\n",
        "        coefficients, noise_covariance=noise_covariance, n_time_samples=n_time_samples,\n",
        "        n_trials=500, n_burnin_samples=500), sampling_frequency\n",
        "\n",
        "plot_directional(*baccala_example3(), time_halfbandwidth_product=3)"
      ],
      "execution_count": null,
      "outputs": []
    },
    {
      "cell_type": "code",
      "metadata": {
        "colab": {
          "base_uri": "https://localhost:8080/",
          "height": 321
        },
        "id": "61j4n4XrtM7i",
        "outputId": "09307351-4426-4628-a726-984e28eb3528"
      },
      "source": [
        "#@title Getting nowhere going back to Correlation calculation \n",
        "\n",
        "from scipy import stats\n",
        "rho, pval = stats.spearmanr(theta_array, theta_array_incorr)\n",
        "plt.imshow(rho[0:12,0:12])\n",
        "plt.colorbar()\n",
        "positions = (0,1, 2, 3,4,5,6,7,8,9,10,11)\n",
        "labels = session11['brain_area_lfp']\n",
        "plt.xticks(positions, labels,rotation = 'vertical')\n",
        "plt.yticks(positions, labels)\n",
        "plt.clim(0,1) \n",
        "plt.title('Correlation Between Brain Areas Theta: -500 - 0 ms')"
      ],
      "execution_count": 150,
      "outputs": [
        {
          "output_type": "execute_result",
          "data": {
            "text/plain": [
              "Text(0.5, 1.0, 'Correlation Between Brain Areas Theta: -500 - 0 ms')"
            ]
          },
          "metadata": {
            "tags": []
          },
          "execution_count": 150
        },
        {
          "output_type": "display_data",
          "data": {
            "image/png": "[encoded data removed]",
            "text/plain": [
              "<Figure size 432x288 with 2 Axes>"
            ]
          },
          "metadata": {
            "tags": [],
            "needs_background": "light"
          }
        }
      ]
    },
    {
      "cell_type": "code",
      "metadata": {
        "id": "jSVogYqVyF1P",
        "outputId": "90b0027e-bf67-428b-c4cf-e942ff52fed2",
        "colab": {
          "base_uri": "https://localhost:8080/",
          "height": 321
        }
      },
      "source": [
        "pval[pval > 0.05] = -1\n",
        "plt.imshow(pval[0:12,0:12])\n",
        "plt.colorbar()\n",
        "plt.clim(0,0.05) \n",
        "positions = (0,1, 2, 3,4,5,6,7,8,9,10,11)\n",
        "labels = session11['brain_area_lfp']\n",
        "plt.xticks(positions, labels,rotation = 'vertical')\n",
        "plt.yticks(positions, labels)\n",
        "plt.title('Correlation Between Brain Areas Theta: -500 - 0 ms')"
      ],
      "execution_count": 151,
      "outputs": [
        {
          "output_type": "execute_result",
          "data": {
            "text/plain": [
              "Text(0.5, 1.0, 'Correlation Between Brain Areas Theta: -500 - 0 ms')"
            ]
          },
          "metadata": {
            "tags": []
          },
          "execution_count": 151
        },
        {
          "output_type": "display_data",
          "data": {
            "image/png": "[encoded data removed]",
            "text/plain": [
              "<Figure size 432x288 with 2 Axes>"
            ]
          },
          "metadata": {
            "tags": [],
            "needs_background": "light"
          }
        }
      ]
    }
  ]
}