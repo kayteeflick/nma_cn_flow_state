{
  "nbformat": 4,
  "nbformat_minor": 0,
  "metadata": {
    "colab": {
      "name": "Copy of template.ipynb",
      "provenance": [],
      "include_colab_link": true
    },
    "kernelspec": {
      "name": "python3",
      "display_name": "Python 3"
    },
    "language_info": {
      "name": "python"
    }
  },
  "cells": [
    {
      "cell_type": "markdown",
      "metadata": {
        "id": "view-in-github",
        "colab_type": "text"
      },
      "source": [
        "<a href=\"https://colab.research.google.com/github/kayteeflick/nma_cn_flow_state/blob/updated_lfp_indexing/template.ipynb\" target=\"_parent\"><img src=\"https://colab.research.google.com/assets/colab-badge.svg\" alt=\"Open In Colab\"/></a>"
      ]
    },
    {
      "cell_type": "markdown",
      "metadata": {
        "id": "nxiMhxrvMqQ8"
      },
      "source": [
        "# Flow State Template Analysis File"
      ]
    },
    {
      "cell_type": "markdown",
      "metadata": {
        "id": "atk2QuhRCn7i"
      },
      "source": [
        "General functions to use in all notebooks. Make a copy of this to start a new type of analysis.\n",
        "\n",
        "\n"
      ]
    },
    {
      "cell_type": "markdown",
      "metadata": {
        "id": "UeXo3ijTMIxb"
      },
      "source": [
        "## Imports"
      ]
    },
    {
      "cell_type": "code",
      "metadata": {
        "id": "9qWJi-siDfYx"
      },
      "source": [
        "#title \n",
        "import numpy as np\n",
        "import matplotlib.pyplot as plt\n",
        "from scipy.signal import butter, lfilter, filtfilt\n",
        "from scipy import signal\n",
        "from statsmodels.tsa.api import VAR"
      ],
      "execution_count": 250,
      "outputs": []
    },
    {
      "cell_type": "markdown",
      "metadata": {
        "id": "q8F_e8RsMFRv"
      },
      "source": [
        "## Data Retrieval - spikes"
      ]
    },
    {
      "cell_type": "code",
      "metadata": {
        "id": "-VOCPJJFCk_i"
      },
      "source": [
        "#title Data retrieval - spikes\n",
        "import os, requests\n",
        "\n",
        "fname = []\n",
        "for j in range(3):\n",
        "  fname.append('steinmetz_part%d.npz'%j)\n",
        "url = [\"https://osf.io/agvxh/download\"]\n",
        "url.append(\"https://osf.io/uv3mw/download\")\n",
        "url.append(\"https://osf.io/ehmw2/download\")\n",
        "\n",
        "for j in range(len(url)):\n",
        "  if not os.path.isfile(fname[j]):\n",
        "    try:\n",
        "      r = requests.get(url[j])\n",
        "    except requests.ConnectionError:\n",
        "      print(\"!!! Failed to download data !!!\")\n",
        "    else:\n",
        "      if r.status_code != requests.codes.ok:\n",
        "        print(\"!!! Failed to download data !!!\")\n",
        "      else:\n",
        "        with open(fname[j], \"wb\") as fid:\n",
        "          fid.write(r.content)\n",
        "\n",
        "alldat = np.array([])\n",
        "for j in range(len(fname)):\n",
        "  alldat = np.hstack((alldat, np.load('steinmetz_part%d.npz'%j, allow_pickle=True)['dat']))"
      ],
      "execution_count": 251,
      "outputs": []
    },
    {
      "cell_type": "markdown",
      "metadata": {
        "id": "Qh_K2aup8jrn"
      },
      "source": [
        "## Data retrieval - LFP"
      ]
    },
    {
      "cell_type": "code",
      "metadata": {
        "id": "CL13fYEYDl6d"
      },
      "source": [
        " \n",
        "import os, requests\n",
        "\n",
        "fname = ['steinmetz_st.npz']\n",
        "fname.append('steinmetz_wav.npz')\n",
        "fname.append('steinmetz_lfp.npz')\n",
        "\n",
        "url = [\"https://osf.io/4bjns/download\"]\n",
        "url.append(\"https://osf.io/ugm9v/download\")\n",
        "url.append(\"https://osf.io/kx3v9/download\")\n",
        "\n",
        "for j in range(len(url)):\n",
        "  if not os.path.isfile(fname[j]):\n",
        "    try:\n",
        "      r = requests.get(url[j])\n",
        "    except requests.ConnectionError:\n",
        "      print(\"!!! Failed to download data !!!\")\n",
        "    else:\n",
        "      if r.status_code != requests.codes.ok:\n",
        "        print(\"!!! Failed to download data !!!\")\n",
        "      else:\n",
        "        with open(fname[j], \"wb\") as fid:\n",
        "          fid.write(r.content)\n",
        "\n",
        "dat_LFP = np.load('steinmetz_lfp.npz', allow_pickle=True)['dat']\n"
      ],
      "execution_count": 252,
      "outputs": []
    },
    {
      "cell_type": "markdown",
      "metadata": {
        "id": "5K7UT7dyj_6R"
      },
      "source": [
        "`dat_LFP`, `dat_WAV`, `dat_ST` contain 39 sessions from 10 mice, data from Steinmetz et al, 2019, supplemental to the main data provided for NMA. Time bins for all measurements are 10ms, starting 500ms before stimulus onset (same as the main data). The followin fields are available across the three supplemental files. \n",
        "\n",
        "* `dat['lfp']`: recording of the local field potential in each brain area from this experiment, binned at `10ms`.\n",
        "* `dat['brain_area_lfp']`: brain area names for the LFP channels. \n",
        "* `dat['trough_to_peak']`: measures the width of the action potential waveform for each neuron. Widths `<=10` samples are \"putative fast spiking neurons\". \n",
        "* `dat['waveform_w']`: temporal components of spike waveforms. `w@u` reconstructs the time by channels action potential shape. \n",
        "* `dat['waveform_u]`: spatial components of spike waveforms.\n",
        "* `dat['ss']`: neurons by trials. Exact spikes times for each neuron and each trial, reference to the stimulus onset. A (neuron,trial) entry can be an empty list if that neuron did not fire at all on that trial. \n",
        "* `dat['%X%_passive']`: same as above for `X` = {`lfp`, `ss`} but for  passive trials at the end of the recording when the mouse was no longer engaged and stopped making responses. \n",
        "\n",
        "\n"
      ]
    },
    {
      "cell_type": "markdown",
      "metadata": {
        "id": "xFCTeF8P8JGs"
      },
      "source": [
        "## Functions"
      ]
    },
    {
      "cell_type": "code",
      "metadata": {
        "id": "fogo6aADEKV6"
      },
      "source": [
        "# commmon functions\n",
        "\n",
        "def select_brois(data, brois, data_type, selection=True):\n",
        "  '''\n",
        "  Args:\n",
        "    data: a numpy array of the Steinmetz 2019 data\n",
        "    brois: a list of brain regions of interest\n",
        "    data_type: \"LFP\" or \"spikes\"\n",
        "    selection: if True, filters for sessions that contain all brois. If False, filters\n",
        "        for sessions that contain any of the brois\n",
        "  Returns:\n",
        "    an embedded 1-d numpy array, with length = number of filtered session\n",
        "  '''\n",
        "  selected_data = np.array([])\n",
        "\n",
        "  if data_type == \"LFP\":\n",
        "    brain_area = \"brain_area_lfp\"\n",
        "  elif data_type == \"spikes\":\n",
        "    brain_area = \"brain_area\"\n",
        "\n",
        "  if selection == True:\n",
        "    for i in range(len(data)):\n",
        "      if all(item in data[i][brain_area] for item in brois):\n",
        "        selected_data = np.hstack((selected_data, data[i]))\n",
        "  else:\n",
        "    for i in range(len(data)):\n",
        "      if any(item in data[i][brain_area] for item in brois):\n",
        "        selected_data = np.hstack((selected_data, data[i]))\n",
        "\n",
        "  return selected_data\n",
        "\n",
        "def sel_neurons():\n",
        "  print('todo')\n",
        "  return\n",
        "\n",
        "def spks_to_rate(spks):\n",
        "  print('todo')\n",
        "  return\n",
        "\n",
        "def butter_bandpass_backend(lowcut, highcut, fs, order=6):\n",
        "  nyq = 0.5 * fs\n",
        "  low = lowcut / nyq\n",
        "  high = highcut / nyq\n",
        "  b, a = butter(order, [low, high], btype='band')\n",
        "  return b, a\n",
        "\n",
        "def butter_bandpass_filter_good_func(data, lowcut, highcut, fs, order=6):\n",
        "  b, a = butter_bandpass_backend(lowcut, highcut, fs, order=order)\n",
        "  y = filtfilt(b, a, data)\n",
        "  return y \n",
        "\n",
        "def get_behavioral_idx(recording_session):\n",
        "  '''\n",
        "  Args:\n",
        "    alldat: spiking data as loaded in originally \n",
        "    recording session: what recording session as an integer you want to pull behavioral indices for \n",
        "  Returns:\n",
        "    series of arrays that you can use to index behavior \n",
        "  '''\n",
        "  response = recording_session['response'] # right - nogo - left (-1, 0, 1)\n",
        "  vis_right = recording_session['contrast_right'] # 0 - low - high\n",
        "  vis_left = recording_session['contrast_left'] # 0 - low - high\n",
        "  gocue_idx = recording_session['gocue']\n",
        "  rt_idx = recording_session['reaction_time']\n",
        "  is_correct = np.sign(response)==np.sign(vis_left-vis_right)\n",
        "  return response, vis_right, vis_left, gocue_idx, rt_idx, is_correct\n",
        "\n",
        "def concatenate_lfp(brain_area_raw_dat,zeropadsize=0): \n",
        "  '''\n",
        "  Args:\n",
        "    data: a 2d array of raw brain area LFP should be 2d after you select a specific session and area to pull. \n",
        "    zeropadsize: if you'd like to add padding to the concatenation. Default is 0 (no padding)\n",
        "  Returns:\n",
        "    1D Array of Concatenated trials for a given brain area recording. \n",
        "  '''\n",
        "  concatenated_data = np.array([])\n",
        "  N = zeropadsize\n",
        "  for i in range(len(brain_area_raw_dat)):\n",
        "    single_trial = brain_area_raw_dat[i,:]\n",
        "    trial_padded = np.pad(single_trial,(N,N),'constant')\n",
        "    concatenated_data = np.concatenate([concatenated_data,trial_padded])\n",
        "  return concatenated_data\n",
        "\n",
        "def spikes_avg(data):\n",
        "  '''\n",
        "  Args:\n",
        "    data: a single session data frame from Steinmetz 2019 data\n",
        "  Returns:\n",
        "    A 2d numpy array of trial averages. Rows are neurons. Column are time step\n",
        "  '''\n",
        "  avg = np.mean(data['spks'], axis = 1)\n",
        "\n",
        "  return avg\n",
        "\n",
        "def add_avg(data):\n",
        "  '''\n",
        "  Adds the trial average to the data structure\n",
        "\n",
        "  Args: \n",
        "    data: a single session dataframe from Steinmetz\n",
        "  '''\n",
        "  data[\"spks_avg\"] = spikes_avg(data)\n",
        "  return data\n",
        "\n",
        "def multi_add_avg(alldat):\n",
        "  \"\"\"\n",
        "  Adds trial averages to all sessions in the dataframe\n",
        "  Args:\n",
        "    alldat: a numpy array of sessions\n",
        "  \"\"\"\n",
        "  for i in range(len(alldat)):\n",
        "    alldat[i] = add_avg(alldat[i])\n",
        "  return alldat\n",
        "\n",
        "def concat_trials(data, bin_start, bin_end):\n",
        "  \"\"\"\n",
        "  Args:\n",
        "    data: a single session data frame from Steinmetz 2019 data\n",
        "    bin_start, bin_end: integers indicating which bin to start and end at\n",
        "  Returns:\n",
        "    A 2d numpy array of with trials concatenated horizontally with shape N×TK \n",
        "    (number of neurons by number of time points times number of trials).\n",
        "  \"\"\"   \n",
        "  NN = len(data['spks'][0])\n",
        "  X = np.reshape(data['spks'][:,:,bin_start:bin_end], (NN,-1))\n",
        "\n",
        "  return X\n",
        "\n",
        "def trial_result(data):\n",
        "  '''\n",
        "  Args:\n",
        "    data: a single session data frame\n",
        "  Returns:\n",
        "    numpy logical arrarys corresponding to right trials, correct right, incorrect\n",
        "    right trials, miss right trials, no_go trials\n",
        "  '''\n",
        "  # response: right - nogo - left (-1, 0, 1)\n",
        "  # vis left/right 0 - low - high\n",
        "  response, vis_right, vis_left, gocue_idx, rt_idx, is_correct = get_behavioral_idx(data)\n",
        "  ind = {}\n",
        "\n",
        "  # trial types\n",
        "  ind[\"right_go\"] = np.array(vis_right > vis_left)\n",
        "  ind[\"left_go\"] = np.array(vis_left > vis_right)\n",
        "  ind[\"nogo\"] = np.logical_and(vis_left == 0, vis_right == 0)\n",
        "  ind[\"equal\"] = np.logical_and(vis_right >0, vis_right == vis_left)\n",
        "\n",
        "  # right trials by response\n",
        "  ind[\"right_cor\"] = np.logical_and(response == -1, vis_right > vis_left)\n",
        "  ind[\"right_error\"] = np.logical_and(response == 1, vis_right > vis_left)\n",
        "  ind[\"right_miss\"] = np.logical_and(response == 0, vis_right > vis_left)\n",
        "\n",
        "  # left trials by response\n",
        "  ind[\"left_cor\"] = np.logical_and(response == 1, vis_right < vis_left)\n",
        "  ind[\"left_error\"] = np.logical_and(response == -1, vis_right < vis_left)\n",
        "  ind[\"left_miss\"] = np.logical_and(response == 0, vis_right < vis_left)\n",
        "\n",
        "  # nogo trials by response\n",
        "  ind[\"nogo_cor\"] = np.logical_and(response == 0, ind[\"nogo\"])\n",
        "  ind[\"nogo_error\"] = np.logical_and(response != 0, ind[\"nogo\"])\n",
        "  # difficulty \n",
        "  ind[\"difficulty\"] = np.array(abs(vis_left-vis_right))\n",
        "\n",
        "  return ind\n",
        "\n",
        "def frequencyband_coherence_analysis(raw_dat,correct_idx,region_of_interest,timepoints,freq_band,corr):\n",
        "  '''\n",
        "  Args:\n",
        "    raw_dat = array of LFP data for a specific session you would like to look at should be (brain_area,340,250)\n",
        "    correct_idx = idx of correct or incorrect trials to look at one vector so dimension should match second dimension ie. len = 340 \n",
        "    region_of_interest = (i = 1:12) what brain area you'd like to look at in a digit form. if using loop can go through all brain areas and do pair wise comparison. \n",
        "    timepoints =  (tp = [0,50]) what timepoints you'd like to run the coherence analysis over\n",
        "    freq_band =  (fb = [5,8]) --> Theta, What frequence band you'd like to average coherence analysis over. \n",
        "  Returns:\n",
        "    should return a vector for each comparison you chose to do. \n",
        "  '''\n",
        "\n",
        "  coherence_array = np.empty((raw_dat.shape[0]))\n",
        "  zeropadsize = 0 \n",
        "\n",
        "  for i in range(raw_dat.shape[0]):\n",
        "\n",
        "    if corr == 1:\n",
        "      brain_area_1 = raw_dat[region_of_interest,correct_idx==1,timepoints[0]:timepoints[1]] # 1 is correct response\n",
        "      brain_area_2 = raw_dat [i,correct_idx==1,timepoints[0]:timepoints[1]]\n",
        "    else:\n",
        "      brain_area_1 = raw_dat[region_of_interest,correct_idx==0,timepoints[0]:timepoints[1]] # 1 is correct response\n",
        "      brain_area_2 = raw_dat [i,correct_idx==0,timepoints[0]:timepoints[1]]\n",
        "\n",
        "    brain_area_1 = concatenate_lfp(brain_area_1,zeropadsize)\n",
        "    brain_area_2 = concatenate_lfp(brain_area_2,zeropadsize)\n",
        "    f, Cxy = signal.coherence(brain_area_1, brain_area_2, 100, nperseg=100)\n",
        "    Cxy_avg = np.mean(Cxy[freq_band[0]:freq_band[1]])\n",
        "    coherence_array[i] = Cxy_avg\n",
        "\n",
        "  return coherence_array\n",
        "\n",
        "\n"
      ],
      "execution_count": 253,
      "outputs": []
    },
    {
      "cell_type": "markdown",
      "metadata": {
        "id": "P2jZFBFKmKc1"
      },
      "source": [
        "## Testing Coherence Function with new indices "
      ]
    },
    {
      "cell_type": "code",
      "metadata": {
        "colab": {
          "base_uri": "https://localhost:8080/"
        },
        "id": "3bZpuW4_Ennq",
        "outputId": "2c7e17ea-126c-4ef1-9333-2f74f33c85c4"
      },
      "source": [
        "#@title Pulling relevant indices \n",
        "temp_dat = alldat[11]\n",
        "idx = trial_result(temp_dat) \n",
        "print(idx.keys())"
      ],
      "execution_count": 254,
      "outputs": [
        {
          "output_type": "stream",
          "text": [
            "dict_keys(['right_go', 'left_go', 'nogo', 'equal', 'right_cor', 'right_error', 'right_miss', 'left_cor', 'left_error', 'left_miss', 'nogo_cor', 'nogo_error', 'difficulty'])\n"
          ],
          "name": "stdout"
        }
      ]
    },
    {
      "cell_type": "code",
      "metadata": {
        "id": "r00N6VdCFlvW"
      },
      "source": [
        "#@title Running coherence @ Theta Right Correct Trials \n",
        "#pulling data and idx of interest\n",
        "session11 = dat_LFP[11]\n",
        "session11_lfp = session11['lfp']\n",
        "correct_right_idx = idx['right_cor']\n",
        "\n",
        "#parameters \n",
        "timepoints = [0,50]\n",
        "fb = [5,8]\n",
        "\n",
        "#running analysis \n",
        "theta_array = np.empty([12,12])\n",
        "for i in range(theta_array.shape[0]): \n",
        "\n",
        "  theta_array[i,:] = frequencyband_coherence_analysis(session11_lfp,correct_right_idx,i,timepoints,fb,1)"
      ],
      "execution_count": 255,
      "outputs": []
    },
    {
      "cell_type": "code",
      "metadata": {
        "colab": {
          "base_uri": "https://localhost:8080/",
          "height": 321
        },
        "id": "w3nR5psJIKg1",
        "outputId": "edde76f0-f78d-4425-b54c-3990f7131208"
      },
      "source": [
        "#@title Plotting Coherence \n",
        "positions = (0,1, 2, 3,4,5,6,7,8,9,10,11)\n",
        "labels = session11['brain_area_lfp']\n",
        "plt.xticks(positions, labels,rotation = 'vertical')\n",
        "plt.yticks(positions, labels)\n",
        "plt.imshow(theta_array)\n",
        "plt.colorbar()\n",
        "plt.title('Theta Coherence Right Correct Trials Pre Stim')\n"
      ],
      "execution_count": 256,
      "outputs": [
        {
          "output_type": "execute_result",
          "data": {
            "text/plain": [
              "Text(0.5, 1.0, 'Theta Coherence Right Correct Trials Pre Stim')"
            ]
          },
          "metadata": {
            "tags": []
          },
          "execution_count": 256
        },
        {
          "output_type": "display_data",
          "data": {
            "image/png": "[encoded data removed]",
            "text/plain": [
              "<Figure size 432x288 with 2 Axes>"
            ]
          },
          "metadata": {
            "tags": [],
            "needs_background": "light"
          }
        }
      ]
    },
    {
      "cell_type": "code",
      "metadata": {
        "id": "qeH7IfUKJC-R"
      },
      "source": [
        "#@title Repeating analysis for error trials \n",
        "#parameters \n",
        "timepoints = [0,50]\n",
        "fb = [5,8]\n",
        "\n",
        "#running analysis \n",
        "theta_array_incorr = np.empty([12,12])\n",
        "for i in range(theta_array.shape[0]): \n",
        "\n",
        "  theta_array_incorr[i,:] = frequencyband_coherence_analysis(session11_lfp,correct_right_idx,i,timepoints,fb,0)"
      ],
      "execution_count": 257,
      "outputs": []
    },
    {
      "cell_type": "code",
      "metadata": {
        "cellView": "form",
        "colab": {
          "base_uri": "https://localhost:8080/",
          "height": 321
        },
        "id": "tKVT5JsaJPy3",
        "outputId": "aac78579-d439-4887-881f-50de60b6530c"
      },
      "source": [
        "#@title Plotting Incorrect Coherence \n",
        "positions = (0,1, 2, 3,4,5,6,7,8,9,10,11)\n",
        "labels = session11['brain_area_lfp']\n",
        "plt.xticks(positions, labels,rotation = 'vertical')\n",
        "plt.yticks(positions, labels)\n",
        "plt.imshow(theta_array_incorr)\n",
        "plt.colorbar()\n",
        "plt.title('Theta Coherence Right Incorrect Trials Pre Stim')"
      ],
      "execution_count": 258,
      "outputs": [
        {
          "output_type": "execute_result",
          "data": {
            "text/plain": [
              "Text(0.5, 1.0, 'Theta Coherence Right Incorrect Trials Pre Stim')"
            ]
          },
          "metadata": {
            "tags": []
          },
          "execution_count": 258
        },
        {
          "output_type": "display_data",
          "data": {
            "image/png": "[encoded data removed]",
            "text/plain": [
              "<Figure size 432x288 with 2 Axes>"
            ]
          },
          "metadata": {
            "tags": [],
            "needs_background": "light"
          }
        }
      ]
    },
    {
      "cell_type": "code",
      "metadata": {
        "colab": {
          "base_uri": "https://localhost:8080/",
          "height": 321
        },
        "id": "tDQl0FpTJaPW",
        "outputId": "6cdd2991-9c3d-473c-9daf-d1e738e97f4e"
      },
      "source": [
        "#@title Difference matrix @ right trials \n",
        "difference_coherence = np.subtract(theta_array,theta_array_incorr)\n",
        "plt.imshow(difference_coherence)\n",
        "positions = (0,1, 2, 3,4,5,6,7,8,9,10,11)\n",
        "labels = session11['brain_area_lfp']\n",
        "plt.xticks(positions, labels,rotation = 'vertical')\n",
        "plt.yticks(positions, labels)\n",
        "plt.colorbar()\n",
        "plt.clim(0,.25) \n",
        "plt.title('Theta Coherence Corr - Incorr: -500 - 0 ms')"
      ],
      "execution_count": 259,
      "outputs": [
        {
          "output_type": "execute_result",
          "data": {
            "text/plain": [
              "Text(0.5, 1.0, 'Theta Coherence Corr - Incorr: -500 - 0 ms')"
            ]
          },
          "metadata": {
            "tags": []
          },
          "execution_count": 259
        },
        {
          "output_type": "display_data",
          "data": {
            "image/png": "[encoded data removed]",
            "text/plain": [
              "<Figure size 432x288 with 2 Axes>"
            ]
          },
          "metadata": {
            "tags": [],
            "needs_background": "light"
          }
        }
      ]
    },
    {
      "cell_type": "code",
      "metadata": {
        "cellView": "form",
        "id": "IetWpgQyKVUQ"
      },
      "source": [
        "#@title repeating analysis at stim onset till 500 ms out. \n",
        "timepoints = [51,100]\n",
        "fb = [5,8]\n",
        "#running analysis \n",
        "theta_array_stimon = np.empty([12,12])\n",
        "theta_array_stimon_incorr = np.empty([12,12])\n",
        "for i in range(theta_array_stimon.shape[0]): \n",
        "\n",
        "  theta_array_stimon[i,:] = frequencyband_coherence_analysis(session11_lfp,correct_right_idx,i,timepoints,fb,1)\n",
        "  theta_array_stimon_incorr[i,:] = frequencyband_coherence_analysis(session11_lfp,correct_right_idx,i,timepoints,fb,0)\n"
      ],
      "execution_count": 260,
      "outputs": []
    },
    {
      "cell_type": "code",
      "metadata": {
        "colab": {
          "base_uri": "https://localhost:8080/",
          "height": 321
        },
        "cellView": "form",
        "id": "x8plDnSKLGmk",
        "outputId": "af1e11f0-66b1-40a2-ecde-16623da3c981"
      },
      "source": [
        "#@title Plotting again \n",
        "difference_coherence_stimon = np.subtract(theta_array_stimon,theta_array_stimon_incorr)\n",
        "plt.imshow(difference_coherence_stimon)\n",
        "positions = (0,1, 2, 3,4,5,6,7,8,9,10,11)\n",
        "labels = session11['brain_area_lfp']\n",
        "plt.xticks(positions, labels,rotation = 'vertical')\n",
        "plt.yticks(positions, labels)\n",
        "plt.colorbar()\n",
        "plt.clim(0,.25) \n",
        "plt.title('Theta Coherence Corr - Incorr: 0 - 500 ms ')"
      ],
      "execution_count": 261,
      "outputs": [
        {
          "output_type": "execute_result",
          "data": {
            "text/plain": [
              "Text(0.5, 1.0, 'Theta Coherence Corr - Incorr: 0 - 500 ms ')"
            ]
          },
          "metadata": {
            "tags": []
          },
          "execution_count": 261
        },
        {
          "output_type": "display_data",
          "data": {
            "image/png": "[encoded data removed]",
            "text/plain": [
              "<Figure size 432x288 with 2 Axes>"
            ]
          },
          "metadata": {
            "tags": [],
            "needs_background": "light"
          }
        }
      ]
    },
    {
      "cell_type": "code",
      "metadata": {
        "cellView": "form",
        "id": "k4OrtDPvMEK_"
      },
      "source": [
        "#@title Repeating Process one more time for gamma \n",
        "#parameters \n",
        "timepoints = [0,50]\n",
        "fb = [30,50]\n",
        "\n",
        "#running analysis \n",
        "gamma_array = np.empty([12,12])\n",
        "gamma_array_incorr = np.empty([12,12])\n",
        "for i in range(gamma_array.shape[0]): \n",
        "\n",
        "  gamma_array[i,:] = frequencyband_coherence_analysis(session11_lfp,correct_right_idx,i,timepoints,fb,1)\n",
        "  gamma_array_incorr[i,:] = frequencyband_coherence_analysis(session11_lfp,correct_right_idx,i,timepoints,fb,0)"
      ],
      "execution_count": 262,
      "outputs": []
    },
    {
      "cell_type": "code",
      "metadata": {
        "colab": {
          "base_uri": "https://localhost:8080/",
          "height": 321
        },
        "id": "wAUOiPOnMhFm",
        "outputId": "eb1c342e-ff07-467b-a90d-9c8f2a90a20a"
      },
      "source": [
        "#@title Plotting gamma diff \n",
        "difference_coherence_gamma = np.subtract(gamma_array,gamma_array_incorr)\n",
        "plt.imshow(difference_coherence_gamma)\n",
        "positions = (0,1, 2, 3,4,5,6,7,8,9,10,11)\n",
        "labels = session11['brain_area_lfp']\n",
        "plt.xticks(positions, labels,rotation = 'vertical')\n",
        "plt.yticks(positions, labels)\n",
        "plt.colorbar()\n",
        "plt.clim(0,.125) \n",
        "plt.title('Gamma Coherence Corr - Incorr: 0 - 500 ms ')"
      ],
      "execution_count": 263,
      "outputs": [
        {
          "output_type": "execute_result",
          "data": {
            "text/plain": [
              "Text(0.5, 1.0, 'Gamma Coherence Corr - Incorr: 0 - 500 ms ')"
            ]
          },
          "metadata": {
            "tags": []
          },
          "execution_count": 263
        },
        {
          "output_type": "display_data",
          "data": {
            "image/png": "[encoded data removed]",
            "text/plain": [
              "<Figure size 432x288 with 2 Axes>"
            ]
          },
          "metadata": {
            "tags": [],
            "needs_background": "light"
          }
        }
      ]
    },
    {
      "cell_type": "code",
      "metadata": {
        "id": "_RPhlPF6RUtx"
      },
      "source": [
        "#@title Trying difficulty index. \n",
        "\n",
        "#pulling data and idx of interest\n",
        "session11 = dat_LFP[11]\n",
        "session11_lfp = session11['lfp']\n",
        "diff_idx = idx['difficulty']\n",
        "\n",
        "low_diff_idx = diff_idx == 0.25\n",
        "low_med_diff_idx = diff_idx == 0.5 \n",
        "high_med_diff_idx = diff_idx == 0.75\n",
        "high_diff_idx = diff_idx == 1\n",
        "#parameters \n",
        "timepoints = [51,100]\n",
        "fb = [5,8]\n",
        "\n",
        "\n",
        "#running analysis \n",
        "theta_array_low = np.empty([12,12])\n",
        "theta_array_low_med = np.empty([12,12])\n",
        "theta_array_high_med = np.empty([12,12])\n",
        "theta_array_high = np.empty([12,12])\n",
        "\n",
        "for i in range(theta_array_low.shape[0]): \n",
        "\n",
        "  theta_array_low[i,:] = frequencyband_coherence_analysis(session11_lfp,low_diff_idx,i,timepoints,fb,1)\n",
        "  theta_array_low_med[i,:] = frequencyband_coherence_analysis(session11_lfp,low_med_diff_idx,i,timepoints,fb,1)\n",
        "  theta_array_high_med[i,:] = frequencyband_coherence_analysis(session11_lfp,high_med_diff_idx,i,timepoints,fb,1)\n",
        "  theta_array_high[i,:] = frequencyband_coherence_analysis(session11_lfp,high_diff_idx,i,timepoints,fb,1)"
      ],
      "execution_count": 264,
      "outputs": []
    },
    {
      "cell_type": "code",
      "metadata": {
        "colab": {
          "base_uri": "https://localhost:8080/",
          "height": 287
        },
        "id": "Fzc5lwXgSy8W",
        "outputId": "602d57c4-44bd-4533-e5f4-696a48c212d6"
      },
      "source": [
        "#@title Plotting difficulty \n",
        "plt.imshow(theta_array_low)\n",
        "# positions = (0,1, 2, 3,4,5,6,7,8,9,10,11)\n",
        "# labels = session11['brain_area_lfp']\n",
        "# plt.xticks(positions, labels,rotation = 'vertical')\n",
        "# plt.yticks(positions, labels)\n",
        "plt.colorbar()\n",
        "#plt.clim(0,.25) "
      ],
      "execution_count": 265,
      "outputs": [
        {
          "output_type": "execute_result",
          "data": {
            "text/plain": [
              "<matplotlib.colorbar.Colorbar at 0x7f2ae6813b50>"
            ]
          },
          "metadata": {
            "tags": []
          },
          "execution_count": 265
        },
        {
          "output_type": "display_data",
          "data": {
            "image/png": "[encoded data removed]",
            "text/plain": [
              "<Figure size 432x288 with 2 Axes>"
            ]
          },
          "metadata": {
            "tags": [],
            "needs_background": "light"
          }
        }
      ]
    },
    {
      "cell_type": "code",
      "metadata": {
        "colab": {
          "base_uri": "https://localhost:8080/",
          "height": 321
        },
        "id": "2_kPo3qPbppf",
        "outputId": "80ea2886-cd70-4735-f6d8-4a8f653a72a7"
      },
      "source": [
        "difference_coherence_diff = np.subtract(theta_array_low,theta_array_high)\n",
        "plt.imshow(difference_coherence_diff)\n",
        "plt.colorbar()\n",
        "positions = (0,1, 2, 3,4,5,6,7,8,9,10,11)\n",
        "labels = session11['brain_area_lfp']\n",
        "plt.xticks(positions, labels,rotation = 'vertical')\n",
        "plt.yticks(positions, labels)\n",
        "plt.clim(0,.25) \n",
        "plt.title('Theta low - high diff: 0 - 100 ms ')"
      ],
      "execution_count": 266,
      "outputs": [
        {
          "output_type": "execute_result",
          "data": {
            "text/plain": [
              "Text(0.5, 1.0, 'Theta low - high diff: 0 - 100 ms ')"
            ]
          },
          "metadata": {
            "tags": []
          },
          "execution_count": 266
        },
        {
          "output_type": "display_data",
          "data": {
            "image/png": "[encoded data removed]",
            "text/plain": [
              "<Figure size 432x288 with 2 Axes>"
            ]
          },
          "metadata": {
            "tags": [],
            "needs_background": "light"
          }
        }
      ]
    },
    {
      "cell_type": "code",
      "metadata": {
        "colab": {
          "base_uri": "https://localhost:8080/"
        },
        "id": "knNiMbx7fRjx",
        "outputId": "1991406e-f55d-4efc-e2c2-9bd16ab99212"
      },
      "source": [
        "# obtain the lag P for VAR\n",
        "session11_lfp.shape\n",
        "brain_area_1 = concatenate_lfp(session11_lfp[6,:,:],0)\n",
        "brain_area_2 = concatenate_lfp(session11_lfp[7,:,:],0)\n",
        "rawData = np.column_stack((brain_area_1, brain_area_2))\n",
        "\n",
        "\n",
        "model = VAR(rawData) #recall that rawData is w/o difference operation\n",
        "\n",
        "for i in [1,2,3,4,5,6,7,8,9,10,11,12]:\n",
        "    result = model.fit(i)\n",
        "    try:\n",
        "        print('Lag Order =', i)\n",
        "        print('AIC : ', result.aic)\n",
        "        print('BIC : ', result.bic)\n",
        "        print('FPE : ', result.fpe)\n",
        "        print('HQIC: ', result.hqic, '\\n')\n",
        "    except:\n",
        "        continue\n"
      ],
      "execution_count": 267,
      "outputs": [
        {
          "output_type": "stream",
          "text": [
            "Lag Order = 1\n",
            "AIC :  9.815193459386332\n",
            "BIC :  9.815853495017624\n",
            "FPE :  18309.831946424776\n",
            "HQIC:  9.815395238587248 \n",
            "\n",
            "Lag Order = 2\n",
            "AIC :  9.792766638237259\n",
            "BIC :  9.793866709180785\n",
            "FPE :  17903.770967871922\n",
            "HQIC:  9.793102940618105 \n",
            "\n",
            "Lag Order = 3\n",
            "AIC :  9.773462960218955\n",
            "BIC :  9.775003075721505\n",
            "FPE :  17561.476735707936\n",
            "HQIC:  9.773933788749977 \n",
            "\n",
            "Lag Order = 4\n",
            "AIC :  9.759869847083866\n",
            "BIC :  9.761850016392536\n",
            "FPE :  17324.376710160865\n",
            "HQIC:  9.760475204735403 \n",
            "\n",
            "Lag Order = 5\n",
            "AIC :  9.749687051657203\n",
            "BIC :  9.752107284019397\n",
            "FPE :  17148.861261789094\n",
            "HQIC:  9.750426941399702 \n",
            "\n",
            "Lag Order = 6\n",
            "AIC :  9.742131028322907\n",
            "BIC :  9.744991332986336\n",
            "FPE :  17019.772379451413\n",
            "HQIC:  9.743005453126912 \n",
            "\n",
            "Lag Order = 7\n",
            "AIC :  9.73680499162819\n",
            "BIC :  9.74010537784087\n",
            "FPE :  16929.36541637945\n",
            "HQIC:  9.737813954464347 \n",
            "\n",
            "Lag Order = 8\n",
            "AIC :  9.736292975948539\n",
            "BIC :  9.74003345295879\n",
            "FPE :  16920.69953461923\n",
            "HQIC:  9.737436479787595 \n",
            "\n",
            "Lag Order = 9\n",
            "AIC :  9.735583419573695\n",
            "BIC :  9.739763996630154\n",
            "FPE :  16908.697602996235\n",
            "HQIC:  9.736861467386502 \n",
            "\n",
            "Lag Order = 10\n",
            "AIC :  9.734717005448703\n",
            "BIC :  9.739337691800305\n",
            "FPE :  16894.054013268473\n",
            "HQIC:  9.736129600206207 \n",
            "\n",
            "Lag Order = 11\n",
            "AIC :  9.732353319157628\n",
            "BIC :  9.73741412405362\n",
            "FPE :  16854.168925990056\n",
            "HQIC:  9.733900463830881 \n",
            "\n",
            "Lag Order = 12\n",
            "AIC :  9.730114763848968\n",
            "BIC :  9.735615696538899\n",
            "FPE :  16816.48213451552\n",
            "HQIC:  9.731796461409122 \n",
            "\n"
          ],
          "name": "stdout"
        }
      ]
    },
    {
      "cell_type": "code",
      "metadata": {
        "colab": {
          "base_uri": "https://localhost:8080/"
        },
        "id": "ZfkuT1_hoF-x",
        "outputId": "1ccb539c-f568-4e5b-e475-134c43492933"
      },
      "source": [
        "!pip install nitime\n",
        "import nitime\n",
        "import nitime.analysis as nta\n",
        "import nitime.timeseries as ts\n",
        "import nitime.utils as tsu\n",
        "from nitime.viz import drawmatrix_channels\n"
      ],
      "execution_count": 268,
      "outputs": [
        {
          "output_type": "stream",
          "text": [
            "Requirement already satisfied: nitime in /usr/local/lib/python3.7/dist-packages (0.9)\n",
            "Requirement already satisfied: numpy in /usr/local/lib/python3.7/dist-packages (from nitime) (1.19.5)\n",
            "Requirement already satisfied: networkx in /usr/local/lib/python3.7/dist-packages (from nitime) (2.5.1)\n",
            "Requirement already satisfied: matplotlib in /usr/local/lib/python3.7/dist-packages (from nitime) (3.2.2)\n",
            "Requirement already satisfied: cython in /usr/local/lib/python3.7/dist-packages (from nitime) (0.29.23)\n",
            "Requirement already satisfied: scipy in /usr/local/lib/python3.7/dist-packages (from nitime) (1.4.1)\n",
            "Requirement already satisfied: nibabel in /usr/local/lib/python3.7/dist-packages (from nitime) (3.0.2)\n",
            "Requirement already satisfied: cycler>=0.10 in /usr/local/lib/python3.7/dist-packages (from matplotlib->nitime) (0.10.0)\n",
            "Requirement already satisfied: python-dateutil>=2.1 in /usr/local/lib/python3.7/dist-packages (from matplotlib->nitime) (2.8.1)\n",
            "Requirement already satisfied: pyparsing!=2.0.4,!=2.1.2,!=2.1.6,>=2.0.1 in /usr/local/lib/python3.7/dist-packages (from matplotlib->nitime) (2.4.7)\n",
            "Requirement already satisfied: kiwisolver>=1.0.1 in /usr/local/lib/python3.7/dist-packages (from matplotlib->nitime) (1.3.1)\n",
            "Requirement already satisfied: six in /usr/local/lib/python3.7/dist-packages (from cycler>=0.10->matplotlib->nitime) (1.15.0)\n",
            "Requirement already satisfied: decorator<5,>=4.3 in /usr/local/lib/python3.7/dist-packages (from networkx->nitime) (4.4.2)\n"
          ],
          "name": "stdout"
        }
      ]
    },
    {
      "cell_type": "code",
      "metadata": {
        "colab": {
          "base_uri": "https://localhost:8080/"
        },
        "id": "W6PM_ofoo6ui",
        "outputId": "876e5446-f1c2-4168-bc3a-3ee209228541"
      },
      "source": [
        "#@title Trying different package for Granger \n",
        "!pip install spectral_connectivity"
      ],
      "execution_count": 269,
      "outputs": [
        {
          "output_type": "stream",
          "text": [
            "Collecting spectral_connectivity\n",
            "  Downloading spectral_connectivity-0.2.5.dev0-py3-none-any.whl (44 kB)\n",
            "\u001b[?25l\r\u001b[K     |███████▍                        | 10 kB 23.8 MB/s eta 0:00:01\r\u001b[K     |██████████████▉                 | 20 kB 29.4 MB/s eta 0:00:01\r\u001b[K     |██████████████████████▎         | 30 kB 31.9 MB/s eta 0:00:01\r\u001b[K     |█████████████████████████████▊  | 40 kB 20.9 MB/s eta 0:00:01\r\u001b[K     |████████████████████████████████| 44 kB 1.6 MB/s \n",
            "\u001b[?25hRequirement already satisfied: numpy>=1.11 in /usr/local/lib/python3.7/dist-packages (from spectral_connectivity) (1.19.5)\n",
            "Requirement already satisfied: scipy in /usr/local/lib/python3.7/dist-packages (from spectral_connectivity) (1.4.1)\n",
            "Requirement already satisfied: pandas>=0.18.0 in /usr/local/lib/python3.7/dist-packages (from spectral_connectivity) (1.1.5)\n",
            "Requirement already satisfied: matplotlib in /usr/local/lib/python3.7/dist-packages (from spectral_connectivity) (3.2.2)\n",
            "Requirement already satisfied: xarray in /usr/local/lib/python3.7/dist-packages (from spectral_connectivity) (0.18.2)\n",
            "Requirement already satisfied: pytz>=2017.2 in /usr/local/lib/python3.7/dist-packages (from pandas>=0.18.0->spectral_connectivity) (2018.9)\n",
            "Requirement already satisfied: python-dateutil>=2.7.3 in /usr/local/lib/python3.7/dist-packages (from pandas>=0.18.0->spectral_connectivity) (2.8.1)\n",
            "Requirement already satisfied: six>=1.5 in /usr/local/lib/python3.7/dist-packages (from python-dateutil>=2.7.3->pandas>=0.18.0->spectral_connectivity) (1.15.0)\n",
            "Requirement already satisfied: pyparsing!=2.0.4,!=2.1.2,!=2.1.6,>=2.0.1 in /usr/local/lib/python3.7/dist-packages (from matplotlib->spectral_connectivity) (2.4.7)\n",
            "Requirement already satisfied: kiwisolver>=1.0.1 in /usr/local/lib/python3.7/dist-packages (from matplotlib->spectral_connectivity) (1.3.1)\n",
            "Requirement already satisfied: cycler>=0.10 in /usr/local/lib/python3.7/dist-packages (from matplotlib->spectral_connectivity) (0.10.0)\n",
            "Requirement already satisfied: setuptools>=40.4 in /usr/local/lib/python3.7/dist-packages (from xarray->spectral_connectivity) (57.2.0)\n",
            "Installing collected packages: spectral-connectivity\n",
            "Successfully installed spectral-connectivity-0.2.5.dev0\n"
          ],
          "name": "stdout"
        }
      ]
    },
    {
      "cell_type": "code",
      "metadata": {
        "colab": {
          "base_uri": "https://localhost:8080/",
          "height": 321
        },
        "id": "61j4n4XrtM7i",
        "outputId": "e7c2857b-88ee-45be-845c-d68bd7bb5980"
      },
      "source": [
        "#@title Getting nowhere going back to Correlation calculation \n",
        "\n",
        "from scipy import stats\n",
        "rho, pval = stats.spearmanr(theta_array, theta_array)\n",
        "plt.imshow(rho[0:12,0:12])\n",
        "plt.colorbar()\n",
        "positions = (0,1, 2, 3,4,5,6,7,8,9,10,11)\n",
        "labels = session11['brain_area_lfp']\n",
        "plt.xticks(positions, labels,rotation = 'vertical')\n",
        "plt.yticks(positions, labels)\n",
        "plt.clim(0,1) \n",
        "plt.title('Correlation Between Brain Areas Theta: -500 - 0 ms')"
      ],
      "execution_count": 270,
      "outputs": [
        {
          "output_type": "execute_result",
          "data": {
            "text/plain": [
              "Text(0.5, 1.0, 'Correlation Between Brain Areas Theta: -500 - 0 ms')"
            ]
          },
          "metadata": {
            "tags": []
          },
          "execution_count": 270
        },
        {
          "output_type": "display_data",
          "data": {
            "image/png": "[encoded data removed]",
            "text/plain": [
              "<Figure size 432x288 with 2 Axes>"
            ]
          },
          "metadata": {
            "tags": [],
            "needs_background": "light"
          }
        }
      ]
    },
    {
      "cell_type": "code",
      "metadata": {
        "id": "jSVogYqVyF1P",
        "colab": {
          "base_uri": "https://localhost:8080/",
          "height": 321
        },
        "outputId": "c86151d5-dc51-41d2-de24-b05b0c4d8fcc"
      },
      "source": [
        "pval[pval > 0.05] = -1\n",
        "plt.imshow(pval[0:12,0:12])\n",
        "plt.colorbar()\n",
        "plt.clim(0,0.05) \n",
        "positions = (0,1, 2, 3,4,5,6,7,8,9,10,11)\n",
        "labels = session11['brain_area_lfp']\n",
        "plt.xticks(positions, labels,rotation = 'vertical')\n",
        "plt.yticks(positions, labels)\n",
        "plt.title('Correlation Between Brain Areas Theta: -500 - 0 ms')"
      ],
      "execution_count": 271,
      "outputs": [
        {
          "output_type": "execute_result",
          "data": {
            "text/plain": [
              "Text(0.5, 1.0, 'Correlation Between Brain Areas Theta: -500 - 0 ms')"
            ]
          },
          "metadata": {
            "tags": []
          },
          "execution_count": 271
        },
        {
          "output_type": "display_data",
          "data": {
            "image/png": "[encoded data removed]",
            "text/plain": [
              "<Figure size 432x288 with 2 Axes>"
            ]
          },
          "metadata": {
            "tags": [],
            "needs_background": "light"
          }
        }
      ]
    },
    {
      "cell_type": "code",
      "metadata": {
        "id": "h4RB1YvEogPo"
      },
      "source": [
        "#@title need to bandpass signal for granger (DO NOT DO THIS)\n",
        "brain_area_1 = concatenate_lfp(session11_lfp[6,:,:],0)\n",
        "brain_area_2 = concatenate_lfp(session11_lfp[7,:,:],0)\n",
        "\n",
        "low_freq = 5 \n",
        "high_freq = 8 \n",
        "fs = 100 \n",
        "\n",
        "theta_ba1 = butter_bandpass_filter_good_func(brain_area_1, low_freq, high_freq, fs, order=6)\n",
        "theta_ba2 = butter_bandpass_filter_good_func(brain_area_2, low_freq, high_freq, fs, order=6)\n"
      ],
      "execution_count": 272,
      "outputs": []
    },
    {
      "cell_type": "code",
      "metadata": {
        "id": "WcZ5R_bpgYqA",
        "colab": {
          "base_uri": "https://localhost:8080/"
        },
        "outputId": "6d508267-07c3-406c-d384-168eb358015c"
      },
      "source": [
        "#@title Testing if concatenated lfp can be considered stationary \n",
        "from statsmodels.tsa.stattools import adfuller\n",
        "\n",
        "def adf_test(df):\n",
        "    result = adfuller(df)\n",
        "    print('ADF Statistics: %f' % result[0])\n",
        "    print('p-value: %f' % result[1])\n",
        "    print('Critical values:')\n",
        "    for key, value in result[4].items():\n",
        "        print('\\t%s: %.3f' % (key, value))\n",
        "        \n",
        "print('ADF Test: Brain Area 1')\n",
        "adf_test(brain_area_1)\n",
        "print('ADF Test: Brain Area 2')\n",
        "adf_test(brain_area_2)"
      ],
      "execution_count": 274,
      "outputs": [
        {
          "output_type": "stream",
          "text": [
            "ADF Test: Brain Area 1\n",
            "ADF Statistics: -38.850186\n",
            "p-value: 0.000000\n",
            "Critical values:\n",
            "\t1%: -3.430\n",
            "\t5%: -2.862\n",
            "\t10%: -2.567\n",
            "ADF Test: Brain Area 2\n",
            "ADF Statistics: -35.972823\n",
            "p-value: 0.000000\n",
            "Critical values:\n",
            "\t1%: -3.430\n",
            "\t5%: -2.862\n",
            "\t10%: -2.567\n"
          ],
          "name": "stdout"
        }
      ]
    },
    {
      "cell_type": "code",
      "metadata": {
        "id": "HFFyDo17p7As",
        "colab": {
          "base_uri": "https://localhost:8080/"
        },
        "outputId": "adf18285-6c51-44f9-de64-d387e2f70416"
      },
      "source": [
        "from statsmodels.tsa.stattools import kpss\n",
        "\n",
        "def kpss_test(df):    \n",
        "    statistic, p_value, n_lags, critical_values = kpss(df)\n",
        "    \n",
        "    print(f'KPSS Statistic: {statistic}')\n",
        "    print(f'p-value: {p_value}')\n",
        "    print(f'num lags: {n_lags}')\n",
        "    print('Critial Values:')\n",
        "    for key, value in critical_values.items():\n",
        "        print(f'   {key} : {value}')\n",
        "        \n",
        "print('KPSS Test: Brain Area 1')\n",
        "kpss_test(brain_area_1)\n",
        "print('KPSS Test: Brain Area 2')\n",
        "kpss_test(brain_area_2)"
      ],
      "execution_count": 275,
      "outputs": [
        {
          "output_type": "stream",
          "text": [
            "KPSS Test: Brain Area 1\n",
            "KPSS Statistic: 0.2765472914234745\n",
            "p-value: 0.1\n",
            "num lags: 65\n",
            "Critial Values:\n",
            "   10% : 0.347\n",
            "   5% : 0.463\n",
            "   2.5% : 0.574\n",
            "   1% : 0.739\n",
            "KPSS Test: Brain Area 2\n",
            "KPSS Statistic: 0.522994292057455\n",
            "p-value: 0.036487772059131764\n",
            "num lags: 65\n",
            "Critial Values:\n",
            "   10% : 0.347\n",
            "   5% : 0.463\n",
            "   2.5% : 0.574\n",
            "   1% : 0.739\n"
          ],
          "name": "stdout"
        },
        {
          "output_type": "stream",
          "text": [
            "/usr/local/lib/python3.7/dist-packages/statsmodels/tsa/stattools.py:1685: FutureWarning: The behavior of using lags=None will change in the next release. Currently lags=None is the same as lags='legacy', and so a sample-size lag length is used. After the next release, the default will change to be the same as lags='auto' which uses an automatic lag length selection method. To silence this warning, either use 'auto' or 'legacy'\n",
            "  warn(msg, FutureWarning)\n",
            "/usr/local/lib/python3.7/dist-packages/statsmodels/tsa/stattools.py:1711: InterpolationWarning: p-value is greater than the indicated p-value\n",
            "  warn(\"p-value is greater than the indicated p-value\", InterpolationWarning)\n"
          ],
          "name": "stderr"
        }
      ]
    },
    {
      "cell_type": "code",
      "metadata": {
        "id": "3sbq-QiOrYg0",
        "colab": {
          "base_uri": "https://localhost:8080/"
        },
        "outputId": "0ad7dd0c-3558-4386-c5a1-830451d1a25c"
      },
      "source": [
        "rawData = np.column_stack((theta_ba1, theta_ba2))\n",
        "\n",
        "\n",
        "model = VAR(rawData) #recall that rawData is w/o difference operation\n",
        "\n",
        "for i in [1,2,3,4,5,6,7,8,9,10,11,12]:\n",
        "    result = model.fit(i)\n",
        "    try:\n",
        "        print('Lag Order =', i)\n",
        "        print('AIC : ', result.aic)\n",
        "        print('BIC : ', result.bic)\n",
        "        print('FPE : ', result.fpe)\n",
        "        print('HQIC: ', result.hqic, '\\n')\n",
        "    except:\n",
        "        continue"
      ],
      "execution_count": 276,
      "outputs": [
        {
          "output_type": "stream",
          "text": [
            "Lag Order = 1\n",
            "AIC :  4.078329836268001\n",
            "BIC :  4.078989871899293\n",
            "FPE :  59.04676967689827\n",
            "HQIC:  4.078531615468917 \n",
            "\n",
            "Lag Order = 2\n",
            "AIC :  -5.213945392615399\n",
            "BIC :  -5.212845321671873\n",
            "FPE :  0.005440167693300025\n",
            "HQIC:  -5.213609090234552 \n",
            "\n",
            "Lag Order = 3\n",
            "AIC :  -9.05344765290253\n",
            "BIC :  -9.05190753739998\n",
            "FPE :  0.00011698701024211177\n",
            "HQIC:  -9.052976824371509 \n",
            "\n",
            "Lag Order = 4\n",
            "AIC :  -18.11999983706963\n",
            "BIC :  -18.11801966776096\n",
            "FPE :  1.3507782487223172e-08\n",
            "HQIC:  -18.119394479418094 \n",
            "\n",
            "Lag Order = 5\n",
            "AIC :  -21.93449937667624\n",
            "BIC :  -21.932079144314045\n",
            "FPE :  2.9782966801750044e-10\n",
            "HQIC:  -21.93375948693374 \n",
            "\n",
            "Lag Order = 6\n",
            "AIC :  -30.842771660900606\n",
            "BIC :  -30.83991135623718\n",
            "FPE :  4.028602900426326e-14\n",
            "HQIC:  -30.841897236096603 \n",
            "\n",
            "Lag Order = 7\n",
            "AIC :  -34.59735027241128\n",
            "BIC :  -34.594049886198604\n",
            "FPE :  9.431085633293736e-16\n",
            "HQIC:  -34.59634130957513 \n",
            "\n",
            "Lag Order = 8\n",
            "AIC :  -43.152324635965265\n",
            "BIC :  -43.14858415895501\n",
            "FPE :  1.8162830470237287e-19\n",
            "HQIC:  -43.15118113212621 \n",
            "\n",
            "Lag Order = 9\n",
            "AIC :  -46.80750592410699\n",
            "BIC :  -46.80332534705053\n",
            "FPE :  4.6963284791110175e-21\n",
            "HQIC:  -46.80622787629418 \n",
            "\n",
            "Lag Order = 10\n",
            "AIC :  -54.94124281237951\n",
            "BIC :  -54.936622126027906\n",
            "FPE :  1.3782291072804513e-24\n",
            "HQIC:  -54.939830217622 \n",
            "\n",
            "Lag Order = 11\n",
            "AIC :  -58.46869368857114\n",
            "BIC :  -58.46363288367515\n",
            "FPE :  4.049197564641818e-26\n",
            "HQIC:  -58.46714654389789 \n",
            "\n",
            "Lag Order = 12\n",
            "AIC :  -65.83167234846381\n",
            "BIC :  -65.82617141577389\n",
            "FPE :  2.5684313641045656e-29\n",
            "HQIC:  -65.82999065090367 \n",
            "\n"
          ],
          "name": "stdout"
        }
      ]
    },
    {
      "cell_type": "code",
      "metadata": {
        "id": "yWvoGJLktDFD",
        "colab": {
          "base_uri": "https://localhost:8080/"
        },
        "outputId": "20d6faca-6c49-42a0-adb5-8ad32ae914a7"
      },
      "source": [
        "results = model.fit(maxlags=10, ic='aic')\n",
        "results.summary()"
      ],
      "execution_count": 277,
      "outputs": [
        {
          "output_type": "stream",
          "text": [
            "/usr/local/lib/python3.7/dist-packages/statsmodels/tsa/vector_ar/var_model.py:1431: RuntimeWarning: invalid value encountered in sqrt\n",
            "  stderr = np.sqrt(np.diag(self._cov_params()))\n"
          ],
          "name": "stderr"
        },
        {
          "output_type": "execute_result",
          "data": {
            "text/plain": [
              "  Summary of Regression Results   \n",
              "==================================\n",
              "Model:                         VAR\n",
              "Method:                        OLS\n",
              "Date:           Thu, 22, Jul, 2021\n",
              "Time:                     15:11:26\n",
              "--------------------------------------------------------------------\n",
              "No. of Equations:         2.00000    BIC:                   -54.9366\n",
              "Nobs:                     84990.0    HQIC:                  -54.9398\n",
              "Log likelihood:       2.09358e+06    FPE:                1.37823e-24\n",
              "AIC:                     -54.9412    Det(Omega_mle):     1.37755e-24\n",
              "--------------------------------------------------------------------\n",
              "Results for equation y1\n",
              "=========================================================================\n",
              "            coefficient       std. error           t-stat            prob\n",
              "-------------------------------------------------------------------------\n",
              "const          0.000000         0.000000            0.010           0.992\n",
              "L1.y1          9.111357         0.000503        18130.623           0.000\n",
              "L1.y2         -0.015791              NAN              NAN             NAN\n",
              "L2.y1        -38.192529         0.004063        -9400.684           0.000\n",
              "L2.y2          0.128235              NAN              NAN             NAN\n",
              "L3.y1         96.867249         0.014959         6475.432           0.000\n",
              "L3.y2         -0.474032              NAN              NAN             NAN\n",
              "L4.y1       -164.497245         0.032875        -5003.780           0.000\n",
              "L4.y2          1.045499              NAN              NAN             NAN\n",
              "L5.y1        195.350567         0.047478         4114.531           0.000\n",
              "L5.y2         -1.515015              NAN              NAN             NAN\n",
              "L6.y1       -164.278957         0.046712        -3516.866           0.000\n",
              "L6.y2          1.495269              NAN              NAN             NAN\n",
              "L7.y1         96.610775         0.031307         3085.872           0.000\n",
              "L7.y2         -1.005107              NAN              NAN             NAN\n",
              "L8.y1        -38.041393         0.013789        -2758.882           0.000\n",
              "L8.y2          0.443836              NAN              NAN             NAN\n",
              "L9.y1          9.063522         0.003624         2500.871           0.000\n",
              "L9.y2         -0.116904              NAN              NAN             NAN\n",
              "L10.y1        -0.993480         0.000434        -2290.629           0.000\n",
              "L10.y2         0.014009         0.000079          177.519           0.000\n",
              "=========================================================================\n",
              "\n",
              "Results for equation y2\n",
              "=========================================================================\n",
              "            coefficient       std. error           t-stat            prob\n",
              "-------------------------------------------------------------------------\n",
              "const          0.000000         0.000000            0.001           0.999\n",
              "L1.y1          0.004975         0.000362           13.759           0.000\n",
              "L1.y2          9.102201              NAN              NAN             NAN\n",
              "L2.y1         -0.040511         0.002923          -13.858           0.000\n",
              "L2.y2        -38.122849              NAN              NAN             NAN\n",
              "L3.y1          0.150460         0.010764           13.979           0.000\n",
              "L3.y2         96.625149              NAN              NAN             NAN\n",
              "L4.y1         -0.333844         0.023654          -14.114           0.000\n",
              "L4.y2       -163.994877              NAN              NAN             NAN\n",
              "L5.y1          0.487053         0.034162           14.257           0.000\n",
              "L5.y2        194.666192              NAN              NAN             NAN\n",
              "L6.y1         -0.484113         0.033610          -14.404           0.000\n",
              "L6.y2       -163.645639              NAN              NAN             NAN\n",
              "L7.y1          0.327675         0.022527           14.546           0.000\n",
              "L7.y2         96.213611              NAN              NAN             NAN\n",
              "L8.y1         -0.145607         0.009921          -14.676           0.000\n",
              "L8.y2        -37.879116              NAN              NAN             NAN\n",
              "L9.y1          0.038547         0.002608           14.782           0.000\n",
              "L9.y2          9.024492              NAN              NAN             NAN\n",
              "L10.y1        -0.004633         0.000312          -14.847           0.000\n",
              "L10.y2        -0.989303         0.000057       -17422.431           0.000\n",
              "=========================================================================\n",
              "\n",
              "Correlation matrix of residuals\n",
              "            y1        y2\n",
              "y1    1.000000  0.347328\n",
              "y2    0.347328  1.000000\n",
              "\n"
            ]
          },
          "metadata": {
            "tags": []
          },
          "execution_count": 277
        }
      ]
    },
    {
      "cell_type": "code",
      "metadata": {
        "id": "cu4yNp3ny7ID",
        "colab": {
          "base_uri": "https://localhost:8080/"
        },
        "outputId": "dcb5bc8a-6c86-45a6-afcc-b4afa43cb09d"
      },
      "source": [
        "#@title Still not understanding this granger the best moving on to using a toolbox instead \n",
        "!pip install nitime"
      ],
      "execution_count": 278,
      "outputs": [
        {
          "output_type": "stream",
          "text": [
            "Requirement already satisfied: nitime in /usr/local/lib/python3.7/dist-packages (0.9)\n",
            "Requirement already satisfied: nibabel in /usr/local/lib/python3.7/dist-packages (from nitime) (3.0.2)\n",
            "Requirement already satisfied: numpy in /usr/local/lib/python3.7/dist-packages (from nitime) (1.19.5)\n",
            "Requirement already satisfied: cython in /usr/local/lib/python3.7/dist-packages (from nitime) (0.29.23)\n",
            "Requirement already satisfied: networkx in /usr/local/lib/python3.7/dist-packages (from nitime) (2.5.1)\n",
            "Requirement already satisfied: scipy in /usr/local/lib/python3.7/dist-packages (from nitime) (1.4.1)\n",
            "Requirement already satisfied: matplotlib in /usr/local/lib/python3.7/dist-packages (from nitime) (3.2.2)\n",
            "Requirement already satisfied: cycler>=0.10 in /usr/local/lib/python3.7/dist-packages (from matplotlib->nitime) (0.10.0)\n",
            "Requirement already satisfied: kiwisolver>=1.0.1 in /usr/local/lib/python3.7/dist-packages (from matplotlib->nitime) (1.3.1)\n",
            "Requirement already satisfied: pyparsing!=2.0.4,!=2.1.2,!=2.1.6,>=2.0.1 in /usr/local/lib/python3.7/dist-packages (from matplotlib->nitime) (2.4.7)\n",
            "Requirement already satisfied: python-dateutil>=2.1 in /usr/local/lib/python3.7/dist-packages (from matplotlib->nitime) (2.8.1)\n",
            "Requirement already satisfied: six in /usr/local/lib/python3.7/dist-packages (from cycler>=0.10->matplotlib->nitime) (1.15.0)\n",
            "Requirement already satisfied: decorator<5,>=4.3 in /usr/local/lib/python3.7/dist-packages (from networkx->nitime) (4.4.2)\n"
          ],
          "name": "stdout"
        }
      ]
    },
    {
      "cell_type": "code",
      "metadata": {
        "id": "ljXxVzlqzlpX"
      },
      "source": [
        "import nitime\n",
        "import nitime.analysis as nta\n",
        "import nitime.timeseries as ts\n",
        "import nitime.utils as tsu\n",
        "from nitime.viz import drawmatrix_channels"
      ],
      "execution_count": 279,
      "outputs": []
    },
    {
      "cell_type": "code",
      "metadata": {
        "id": "Nvd5DBU60HR1"
      },
      "source": [
        "#Our Data\n",
        "# TR = .01 #sampling rate\n",
        "# f_ub = 8 #hz freq \n",
        "# f_lb = 5"
      ],
      "execution_count": 280,
      "outputs": []
    },
    {
      "cell_type": "code",
      "metadata": {
        "id": "WjMC_TfrBiRb"
      },
      "source": [
        "#original \n",
        "TR = 1.89\n",
        "f_ub = 0.15\n",
        "f_lb = 0.02"
      ],
      "execution_count": 318,
      "outputs": []
    },
    {
      "cell_type": "code",
      "metadata": {
        "id": "l2p8v0Kc0Mmt"
      },
      "source": [
        "data_path = os.path.join(nitime.__path__[0], 'data')\n",
        "\n",
        "fname = os.path.join(data_path, 'fmri_timeseries.csv')\n",
        "\n",
        "data_rec = np.genfromtxt(fname, dtype=float, delimiter=',', names=True)\n",
        "\n",
        "roi_names = np.array(data_rec.dtype.names)\n",
        "nseq = len(roi_names)\n",
        "n_samples = data_rec.shape[0]\n",
        "data = np.zeros((nseq, n_samples))\n",
        "\n",
        "for n_idx, roi in enumerate(roi_names):\n",
        "    data[n_idx] = data_rec[roi]\n"
      ],
      "execution_count": 282,
      "outputs": []
    },
    {
      "cell_type": "code",
      "metadata": {
        "id": "f9TVIWSK0gQo",
        "colab": {
          "base_uri": "https://localhost:8080/"
        },
        "outputId": "3efd11ab-bd20-42a7-c325-6da199f111e7"
      },
      "source": [
        "pdata = tsu.percent_change(data)\n",
        "time_series = ts.TimeSeries(pdata, sampling_interval=TR)\n",
        "time_series.shape\n",
        "# print(time_series)"
      ],
      "execution_count": 283,
      "outputs": [
        {
          "output_type": "execute_result",
          "data": {
            "text/plain": [
              "(31, 250)"
            ]
          },
          "metadata": {
            "tags": []
          },
          "execution_count": 283
        }
      ]
    },
    {
      "cell_type": "code",
      "metadata": {
        "id": "5GFBifSB1LAg"
      },
      "source": [
        "G = nta.GrangerAnalyzer(time_series, order=1)"
      ],
      "execution_count": 284,
      "outputs": []
    },
    {
      "cell_type": "code",
      "metadata": {
        "id": "TQVbuJQ80tXT"
      },
      "source": [
        "C1 = nta.CoherenceAnalyzer(time_series)\n",
        "C2 = nta.CorrelationAnalyzer(time_series)"
      ],
      "execution_count": 285,
      "outputs": []
    },
    {
      "cell_type": "code",
      "metadata": {
        "id": "9auP_iJA1AmH"
      },
      "source": [
        "freq_idx_G = np.where((G.frequencies > f_lb) * (G.frequencies < f_ub))[0]\n",
        "freq_idx_C = np.where((C1.frequencies > f_lb) * (C1.frequencies < f_ub))[0]"
      ],
      "execution_count": 286,
      "outputs": []
    },
    {
      "cell_type": "code",
      "metadata": {
        "id": "e-7_CPZF1Cp7",
        "colab": {
          "base_uri": "https://localhost:8080/",
          "height": 592
        },
        "outputId": "4d57fcc8-3747-43cf-db4e-7789a1154125"
      },
      "source": [
        "coh = np.mean(C1.coherence[:, :, freq_idx_C], -1)  # Averaging on the last dimension\n",
        "g1 = np.mean(G.causality_xy[:, :, freq_idx_G], -1)\n",
        "labels = session11['brain_area_lfp']\n",
        "fig01 = drawmatrix_channels(coh, roi_names, size=[10., 10.], color_anchor=0)"
      ],
      "execution_count": 287,
      "outputs": [
        {
          "output_type": "display_data",
          "data": {
            "image/png": "[encoded data removed]",
            "text/plain": [
              "<Figure size 720x720 with 2 Axes>"
            ]
          },
          "metadata": {
            "tags": [],
            "needs_background": "light"
          }
        }
      ]
    },
    {
      "cell_type": "code",
      "metadata": {
        "id": "old5Pk-98osD",
        "colab": {
          "base_uri": "https://localhost:8080/",
          "height": 592
        },
        "outputId": "a2247e6d-b8cd-4e29-a797-2be034e74859"
      },
      "source": [
        "fig02 = drawmatrix_channels(C2.corrcoef, roi_names, size=[10., 10.], color_anchor=0)"
      ],
      "execution_count": 288,
      "outputs": [
        {
          "output_type": "display_data",
          "data": {
            "image/png": "[encoded data removed]",
            "text/plain": [
              "<Figure size 720x720 with 2 Axes>"
            ]
          },
          "metadata": {
            "tags": [],
            "needs_background": "light"
          }
        }
      ]
    },
    {
      "cell_type": "code",
      "metadata": {
        "id": "h-M8qw478pUD",
        "colab": {
          "base_uri": "https://localhost:8080/",
          "height": 592
        },
        "outputId": "bb83e7e1-b0ff-426d-f7f7-cac4ab4f3a74"
      },
      "source": [
        "fig03 = drawmatrix_channels(np.transpose(g1), roi_names, size=[10., 10.], color_anchor=0)"
      ],
      "execution_count": 289,
      "outputs": [
        {
          "output_type": "display_data",
          "data": {
            "image/png": "[encoded data removed]",
            "text/plain": [
              "<Figure size 720x720 with 2 Axes>"
            ]
          },
          "metadata": {
            "tags": [],
            "needs_background": "light"
          }
        }
      ]
    },
    {
      "cell_type": "code",
      "metadata": {
        "colab": {
          "base_uri": "https://localhost:8080/",
          "height": 592
        },
        "id": "pxQ-M-43ADOC",
        "outputId": "e8da8de1-45f0-4c84-a571-7bc8a75f1563"
      },
      "source": [
        "g2 = np.mean(G.causality_xy[:, :, freq_idx_G] - G.causality_yx[:, :, freq_idx_G], -1)\n",
        "fig04 = drawmatrix_channels(np.transpose(g2), roi_names, size=[10., 10.], color_anchor=0)"
      ],
      "execution_count": 290,
      "outputs": [
        {
          "output_type": "display_data",
          "data": {
            "image/png": "[encoded data removed]",
            "text/plain": [
              "<Figure size 720x720 with 2 Axes>"
            ]
          },
          "metadata": {
            "tags": [],
            "needs_background": "light"
          }
        }
      ]
    },
    {
      "cell_type": "markdown",
      "metadata": {
        "id": "Kn-RdBYXHlNh"
      },
      "source": [
        "Now that the tutorial is fixed can start with our own data \n"
      ]
    },
    {
      "cell_type": "code",
      "metadata": {
        "id": "YOADz6tgHs5U"
      },
      "source": [
        "import nitime\n",
        "import nitime.analysis as nta\n",
        "import nitime.timeseries as ts\n",
        "import nitime.utils as tsu\n",
        "from nitime.viz import drawmatrix_channels"
      ],
      "execution_count": 291,
      "outputs": []
    },
    {
      "cell_type": "code",
      "metadata": {
        "colab": {
          "base_uri": "https://localhost:8080/"
        },
        "id": "XiAIwWvVHwyF",
        "outputId": "bc8305d5-ff66-4759-a8f8-6f53b9b9970b"
      },
      "source": [
        "print(session11_lfp.shape)\n",
        "print(labels)\n"
      ],
      "execution_count": 292,
      "outputs": [
        {
          "output_type": "stream",
          "text": [
            "(12, 340, 250)\n",
            "['DG', 'LGd', 'SUB', 'VISp', 'ACA', 'MOs', 'PL', 'CA1', 'DG', 'LH', 'MD', 'VISam']\n"
          ],
          "name": "stdout"
        }
      ]
    },
    {
      "cell_type": "code",
      "metadata": {
        "colab": {
          "base_uri": "https://localhost:8080/"
        },
        "id": "fqSoNkZEIgma",
        "outputId": "d6af9994-f016-4582-e1f8-dd6c4e108177"
      },
      "source": [
        "session11_lfp_avg = np.mean(session11_lfp,axis=1)\n",
        "session11_lfp_avg.shape"
      ],
      "execution_count": 293,
      "outputs": [
        {
          "output_type": "execute_result",
          "data": {
            "text/plain": [
              "(12, 250)"
            ]
          },
          "metadata": {
            "tags": []
          },
          "execution_count": 293
        }
      ]
    },
    {
      "cell_type": "code",
      "metadata": {
        "id": "J19rIvN6Js1a"
      },
      "source": [
        "#original \n",
        "TR = .01\n",
        "f_ub = 8\n",
        "f_lb = 5\n",
        "\n"
      ],
      "execution_count": 338,
      "outputs": []
    },
    {
      "cell_type": "code",
      "metadata": {
        "colab": {
          "base_uri": "https://localhost:8080/"
        },
        "id": "AXKEj0AjLbgI",
        "outputId": "c6017d91-e968-4051-dfe7-76770f4a15fd"
      },
      "source": [
        "pdata = tsu.percent_change(data)\n",
        "time_series = ts.TimeSeries(session11_lfp_avg, sampling_interval=TR)\n",
        "time_series.shape"
      ],
      "execution_count": 339,
      "outputs": [
        {
          "output_type": "execute_result",
          "data": {
            "text/plain": [
              "(12, 250)"
            ]
          },
          "metadata": {
            "tags": []
          },
          "execution_count": 339
        }
      ]
    },
    {
      "cell_type": "code",
      "metadata": {
        "id": "NE6MSFhSLl51"
      },
      "source": [
        "G = nta.GrangerAnalyzer(time_series, order=1)"
      ],
      "execution_count": 340,
      "outputs": []
    },
    {
      "cell_type": "code",
      "metadata": {
        "id": "FrHGnbQSLmlq"
      },
      "source": [
        "C1 = nta.CoherenceAnalyzer(time_series)\n",
        "C2 = nta.CorrelationAnalyzer(time_series)"
      ],
      "execution_count": 341,
      "outputs": []
    },
    {
      "cell_type": "code",
      "metadata": {
        "id": "_kEvRiyULpaV"
      },
      "source": [
        "freq_idx_G = np.where((G.frequencies > f_lb) * (G.frequencies < f_ub))[0]\n",
        "freq_idx_C = np.where((C1.frequencies > f_lb) * (C1.frequencies < f_ub))[0]"
      ],
      "execution_count": 342,
      "outputs": []
    },
    {
      "cell_type": "code",
      "metadata": {
        "colab": {
          "base_uri": "https://localhost:8080/",
          "height": 592
        },
        "id": "i4KDV326Lxin",
        "outputId": "b959248d-b88f-46d2-a67b-7d0b136f03c9"
      },
      "source": [
        "g2 = np.mean(G.causality_xy[:, :, freq_idx_G] - G.causality_yx[:, :, freq_idx_G], -1)\n",
        "fig01 = drawmatrix_channels(np.transpose(g2), labels, size=[10., 10.], color_anchor=0)"
      ],
      "execution_count": 343,
      "outputs": [
        {
          "output_type": "display_data",
          "data": {
            "image/png": "[encoded data removed]",
            "text/plain": [
              "<Figure size 720x720 with 2 Axes>"
            ]
          },
          "metadata": {
            "tags": [],
            "needs_background": "light"
          }
        }
      ]
    },
    {
      "cell_type": "code",
      "metadata": {
        "id": "_2Sw3-n_NEcn"
      },
      "source": [
        "#@title wrapping this process up into a little function \n",
        "TR = .01\n",
        "fb = [5,8]\n",
        "correct_right_idx = idx['right_cor']\n",
        "\n",
        "def granger_causality_analysis(averaged_data,TR,freq_band): \n",
        "  f_ub = freq_band[1]\n",
        "  f_lb = freq_band[0]\n",
        "  pdata = tsu.percent_change(averaged_data)\n",
        "  time_series = ts.TimeSeries(pdata, sampling_interval=TR)\n",
        "  G = nta.GrangerAnalyzer(time_series, order=1)\n",
        "  g2 = np.mean(G.causality_xy[:, :, freq_idx_G] - G.causality_yx[:, :, freq_idx_G], -1)\n",
        "  return G, g2\n",
        "\n",
        "\n"
      ],
      "execution_count": 349,
      "outputs": []
    },
    {
      "cell_type": "code",
      "metadata": {
        "id": "0oXAGeWpPpS5"
      },
      "source": [
        "#@title Prepping data \n",
        "session11_lfp_corr = session11_lfp[:,correct_right_idx==1,:] # pulling correct trials only \n",
        "session11_lfp_incorr = session11_lfp[:,correct_right_idx==0,:] #pulling incorrect trials only \n",
        "session11_lfp_corr_avg = np.mean(session11_lfp_corr,axis=1) #averaging \n",
        "session11_lfp_incorr_avg = np.mean(session11_lfp_incorr,axis=1)\n"
      ],
      "execution_count": 407,
      "outputs": []
    },
    {
      "cell_type": "code",
      "metadata": {
        "id": "U70mj_M22uFI"
      },
      "source": [
        "#@title only focusing of areas of interest \n",
        "session11_brain_region_idx = [0,1,1,1,1,1,1,1,0,0,1,1]\n",
        "bool_list = list(map(bool,session11_brain_region_idx))\n"
      ],
      "execution_count": 396,
      "outputs": []
    },
    {
      "cell_type": "code",
      "metadata": {
        "id": "4NCDqKq43gWv"
      },
      "source": [
        "#@title sorting to relevant areas \n",
        "session11_lfp_corr_avg = np.delete(session11_lfp_corr_avg,[0,8,9],axis=0)\n",
        "session11_lfp_incorr_avg = np.delete(session11_lfp_incorr_avg,[0,8,9],axis=0)"
      ],
      "execution_count": 408,
      "outputs": []
    },
    {
      "cell_type": "code",
      "metadata": {
        "id": "rNi2pMCg9yRb",
        "outputId": "158067ec-dc52-4355-885b-e1ffd0e82b77",
        "colab": {
          "base_uri": "https://localhost:8080/"
        }
      },
      "source": [
        "test = np.delete(labels,[0,8,9])\n",
        "\n",
        "\n",
        "print(np.sum(correct_right_idx == 0))"
      ],
      "execution_count": 422,
      "outputs": [
        {
          "output_type": "stream",
          "text": [
            "251\n"
          ],
          "name": "stdout"
        }
      ]
    },
    {
      "cell_type": "code",
      "metadata": {
        "id": "bniQULz8Qz6j"
      },
      "source": [
        "#@title running grangers \n",
        "\n",
        "G_corr, g2_corr = granger_causality_analysis(session11_lfp_corr_avg,TR,freq_band=fb)\n",
        "G_incorr, g2_incorr = granger_causality_analysis(session11_lfp_incorr_avg,TR,freq_band=fb)"
      ],
      "execution_count": 409,
      "outputs": []
    },
    {
      "cell_type": "code",
      "metadata": {
        "colab": {
          "base_uri": "https://localhost:8080/",
          "height": 592
        },
        "id": "MVGC13MTRFEX",
        "outputId": "95e573ff-f015-4400-9609-b9e01a373f19"
      },
      "source": [
        "#@title Plotting grangers Correct right trials at theta \n",
        "fig01 = drawmatrix_channels(np.transpose(g2_corr), test, size=[10., 10.], color_anchor=0)"
      ],
      "execution_count": 418,
      "outputs": [
        {
          "output_type": "display_data",
          "data": {
            "image/png": "[encoded data removed]",
            "text/plain": [
              "<Figure size 720x720 with 2 Axes>"
            ]
          },
          "metadata": {
            "tags": [],
            "needs_background": "light"
          }
        }
      ]
    },
    {
      "cell_type": "code",
      "metadata": {
        "colab": {
          "base_uri": "https://localhost:8080/",
          "height": 592
        },
        "id": "l_boTvoPRS4e",
        "outputId": "9e05d2ba-ed88-42d6-aea2-a37369341be0"
      },
      "source": [
        "fig02 = drawmatrix_channels(np.transpose(g2_incorr), test, size=[10., 10.], color_anchor=0)"
      ],
      "execution_count": 419,
      "outputs": [
        {
          "output_type": "display_data",
          "data": {
            "image/png": "[encoded data removed]",
            "text/plain": [
              "<Figure size 720x720 with 2 Axes>"
            ]
          },
          "metadata": {
            "tags": [],
            "needs_background": "light"
          }
        }
      ]
    },
    {
      "cell_type": "code",
      "metadata": {
        "id": "zhxUQmyyTBcO",
        "colab": {
          "base_uri": "https://localhost:8080/",
          "height": 312
        },
        "outputId": "cd9d639a-3572-458f-cb97-c4b17770858f"
      },
      "source": [
        "#@title visualizing normal way \n",
        "positions = (0,1, 2, 3,4,5,6,7,8,9,10,11)\n",
        "labels = session11['brain_area_lfp']\n",
        "plt.xticks(positions, labels,rotation = 'vertical')\n",
        "plt.yticks(positions, labels)\n",
        "plt.imshow(np.transpose(g2_corr))\n",
        "plt.colorbar()\n",
        "plt.title('Theta Granger Right Correct Trials')\n"
      ],
      "execution_count": 415,
      "outputs": [
        {
          "output_type": "execute_result",
          "data": {
            "text/plain": [
              "Text(0.5, 1.0, 'Theta Granger Right Correct Trials')"
            ]
          },
          "metadata": {
            "tags": []
          },
          "execution_count": 415
        },
        {
          "output_type": "display_data",
          "data": {
            "image/png": "[encoded data removed]",
            "text/plain": [
              "<Figure size 432x288 with 2 Axes>"
            ]
          },
          "metadata": {
            "tags": [],
            "needs_background": "light"
          }
        }
      ]
    },
    {
      "cell_type": "code",
      "metadata": {
        "id": "u3IWA1IGUbzf",
        "colab": {
          "base_uri": "https://localhost:8080/",
          "height": 312
        },
        "outputId": "be72e02d-c829-4a43-f477-9d0a06d3def8"
      },
      "source": [
        "\n",
        "positions = (0,1, 2, 3,4,5,6,7,8)\n",
        "labels = session11['brain_area_lfp']\n",
        "plt.xticks(positions, labels,rotation = 'vertical')\n",
        "plt.yticks(positions, labels)\n",
        "plt.imshow(np.transpose(g2_incorr))\n",
        "plt.colorbar()\n",
        "plt.title('Theta Granger Right Inorrect Trials')\n"
      ],
      "execution_count": 413,
      "outputs": [
        {
          "output_type": "execute_result",
          "data": {
            "text/plain": [
              "Text(0.5, 1.0, 'Theta Granger Right Inorrect Trials')"
            ]
          },
          "metadata": {
            "tags": []
          },
          "execution_count": 413
        },
        {
          "output_type": "display_data",
          "data": {
            "image/png": "[encoded data removed]",
            "text/plain": [
              "<Figure size 432x288 with 2 Axes>"
            ]
          },
          "metadata": {
            "tags": [],
            "needs_background": "light"
          }
        }
      ]
    },
    {
      "cell_type": "code",
      "metadata": {
        "id": "5-J09QWFTsCJ",
        "colab": {
          "base_uri": "https://localhost:8080/",
          "height": 321
        },
        "outputId": "453977bf-b663-4361-f438-f55b69379ce0"
      },
      "source": [
        "difference_granger = np.subtract(g2_corr,g2_incorr)\n",
        "positions = (0,1, 2, 3,4,5,6,7,8,9,10,11)\n",
        "labels = session11['brain_area_lfp']\n",
        "plt.xticks(positions, labels,rotation = 'vertical')\n",
        "plt.yticks(positions, labels)\n",
        "plt.imshow(np.transpose(difference_granger))\n",
        "plt.colorbar()\n",
        "plt.clim(-.1,.1) \n",
        "plt.title('Theta Granger Corr - Incorr')"
      ],
      "execution_count": 331,
      "outputs": [
        {
          "output_type": "execute_result",
          "data": {
            "text/plain": [
              "Text(0.5, 1.0, 'Theta Granger Corr - Incorr')"
            ]
          },
          "metadata": {
            "tags": []
          },
          "execution_count": 331
        },
        {
          "output_type": "display_data",
          "data": {
            "image/png": "[encoded data removed]",
            "text/plain": [
              "<Figure size 432x288 with 2 Axes>"
            ]
          },
          "metadata": {
            "tags": [],
            "needs_background": "light"
          }
        }
      ]
    }
  ]
}