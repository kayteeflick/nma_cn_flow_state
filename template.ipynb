{
  "nbformat": 4,
  "nbformat_minor": 0,
  "metadata": {
    "colab": {
      "name": "Copy of template.ipynb",
      "provenance": [],
      "include_colab_link": true
    },
    "kernelspec": {
      "name": "python3",
      "display_name": "Python 3"
    },
    "language_info": {
      "name": "python"
    }
  },
  "cells": [
    {
      "cell_type": "markdown",
      "metadata": {
        "id": "view-in-github",
        "colab_type": "text"
      },
      "source": [
        "<a href=\"https://colab.research.google.com/github/kayteeflick/nma_cn_flow_state/blob/updated_lfp_indexing/template.ipynb\" target=\"_parent\"><img src=\"https://colab.research.google.com/assets/colab-badge.svg\" alt=\"Open In Colab\"/></a>"
      ]
    },
    {
      "cell_type": "markdown",
      "metadata": {
        "id": "nxiMhxrvMqQ8"
      },
      "source": [
        "# Flow State Template Analysis File"
      ]
    },
    {
      "cell_type": "markdown",
      "metadata": {
        "id": "atk2QuhRCn7i"
      },
      "source": [
        "General functions to use in all notebooks. Make a copy of this to start a new type of analysis.\n",
        "\n",
        "\n"
      ]
    },
    {
      "cell_type": "markdown",
      "metadata": {
        "id": "UeXo3ijTMIxb"
      },
      "source": [
        "## Imports"
      ]
    },
    {
      "cell_type": "code",
      "metadata": {
        "id": "9qWJi-siDfYx",
        "colab": {
          "base_uri": "https://localhost:8080/"
        },
        "outputId": "955244cb-92fb-44af-dbbb-1cb50d4c78ae"
      },
      "source": [
        "#title \n",
        "import numpy as np\n",
        "import matplotlib.pyplot as plt\n",
        "from scipy.signal import butter, lfilter, filtfilt\n",
        "from scipy import signal\n",
        "from statsmodels.tsa.api import VAR"
      ],
      "execution_count": 1,
      "outputs": [
        {
          "output_type": "stream",
          "text": [
            "/usr/local/lib/python3.7/dist-packages/statsmodels/tools/_testing.py:19: FutureWarning: pandas.util.testing is deprecated. Use the functions in the public API at pandas.testing instead.\n",
            "  import pandas.util.testing as tm\n"
          ],
          "name": "stderr"
        }
      ]
    },
    {
      "cell_type": "markdown",
      "metadata": {
        "id": "q8F_e8RsMFRv"
      },
      "source": [
        "## Data Retrieval - spikes"
      ]
    },
    {
      "cell_type": "code",
      "metadata": {
        "id": "-VOCPJJFCk_i"
      },
      "source": [
        "#title Data retrieval - spikes\n",
        "import os, requests\n",
        "\n",
        "fname = []\n",
        "for j in range(3):\n",
        "  fname.append('steinmetz_part%d.npz'%j)\n",
        "url = [\"https://osf.io/agvxh/download\"]\n",
        "url.append(\"https://osf.io/uv3mw/download\")\n",
        "url.append(\"https://osf.io/ehmw2/download\")\n",
        "\n",
        "for j in range(len(url)):\n",
        "  if not os.path.isfile(fname[j]):\n",
        "    try:\n",
        "      r = requests.get(url[j])\n",
        "    except requests.ConnectionError:\n",
        "      print(\"!!! Failed to download data !!!\")\n",
        "    else:\n",
        "      if r.status_code != requests.codes.ok:\n",
        "        print(\"!!! Failed to download data !!!\")\n",
        "      else:\n",
        "        with open(fname[j], \"wb\") as fid:\n",
        "          fid.write(r.content)\n",
        "\n",
        "alldat = np.array([])\n",
        "for j in range(len(fname)):\n",
        "  alldat = np.hstack((alldat, np.load('steinmetz_part%d.npz'%j, allow_pickle=True)['dat']))"
      ],
      "execution_count": 2,
      "outputs": []
    },
    {
      "cell_type": "markdown",
      "metadata": {
        "id": "Qh_K2aup8jrn"
      },
      "source": [
        "## Data retrieval - LFP"
      ]
    },
    {
      "cell_type": "code",
      "metadata": {
        "id": "CL13fYEYDl6d"
      },
      "source": [
        " \n",
        "import os, requests\n",
        "\n",
        "fname = ['steinmetz_st.npz']\n",
        "fname.append('steinmetz_wav.npz')\n",
        "fname.append('steinmetz_lfp.npz')\n",
        "\n",
        "url = [\"https://osf.io/4bjns/download\"]\n",
        "url.append(\"https://osf.io/ugm9v/download\")\n",
        "url.append(\"https://osf.io/kx3v9/download\")\n",
        "\n",
        "for j in range(len(url)):\n",
        "  if not os.path.isfile(fname[j]):\n",
        "    try:\n",
        "      r = requests.get(url[j])\n",
        "    except requests.ConnectionError:\n",
        "      print(\"!!! Failed to download data !!!\")\n",
        "    else:\n",
        "      if r.status_code != requests.codes.ok:\n",
        "        print(\"!!! Failed to download data !!!\")\n",
        "      else:\n",
        "        with open(fname[j], \"wb\") as fid:\n",
        "          fid.write(r.content)\n",
        "\n",
        "dat_LFP = np.load('steinmetz_lfp.npz', allow_pickle=True)['dat']\n"
      ],
      "execution_count": 3,
      "outputs": []
    },
    {
      "cell_type": "markdown",
      "metadata": {
        "id": "5K7UT7dyj_6R"
      },
      "source": [
        "`dat_LFP`, `dat_WAV`, `dat_ST` contain 39 sessions from 10 mice, data from Steinmetz et al, 2019, supplemental to the main data provided for NMA. Time bins for all measurements are 10ms, starting 500ms before stimulus onset (same as the main data). The followin fields are available across the three supplemental files. \n",
        "\n",
        "* `dat['lfp']`: recording of the local field potential in each brain area from this experiment, binned at `10ms`.\n",
        "* `dat['brain_area_lfp']`: brain area names for the LFP channels. \n",
        "* `dat['trough_to_peak']`: measures the width of the action potential waveform for each neuron. Widths `<=10` samples are \"putative fast spiking neurons\". \n",
        "* `dat['waveform_w']`: temporal components of spike waveforms. `w@u` reconstructs the time by channels action potential shape. \n",
        "* `dat['waveform_u]`: spatial components of spike waveforms.\n",
        "* `dat['ss']`: neurons by trials. Exact spikes times for each neuron and each trial, reference to the stimulus onset. A (neuron,trial) entry can be an empty list if that neuron did not fire at all on that trial. \n",
        "* `dat['%X%_passive']`: same as above for `X` = {`lfp`, `ss`} but for  passive trials at the end of the recording when the mouse was no longer engaged and stopped making responses. \n",
        "\n",
        "\n"
      ]
    },
    {
      "cell_type": "markdown",
      "metadata": {
        "id": "xFCTeF8P8JGs"
      },
      "source": [
        "## Functions"
      ]
    },
    {
      "cell_type": "code",
      "metadata": {
        "id": "fogo6aADEKV6"
      },
      "source": [
        "# commmon functions\n",
        "\n",
        "def select_brois(data, brois, data_type, selection=True):\n",
        "  '''\n",
        "  Args:\n",
        "    data: a numpy array of the Steinmetz 2019 data\n",
        "    brois: a list of brain regions of interest\n",
        "    data_type: \"LFP\" or \"spikes\"\n",
        "    selection: if True, filters for sessions that contain all brois. If False, filters\n",
        "        for sessions that contain any of the brois\n",
        "  Returns:\n",
        "    an embedded 1-d numpy array, with length = number of filtered session\n",
        "  '''\n",
        "  selected_data = np.array([])\n",
        "\n",
        "  if data_type == \"LFP\":\n",
        "    brain_area = \"brain_area_lfp\"\n",
        "  elif data_type == \"spikes\":\n",
        "    brain_area = \"brain_area\"\n",
        "\n",
        "  if selection == True:\n",
        "    for i in range(len(data)):\n",
        "      if all(item in data[i][brain_area] for item in brois):\n",
        "        selected_data = np.hstack((selected_data, data[i]))\n",
        "  else:\n",
        "    for i in range(len(data)):\n",
        "      if any(item in data[i][brain_area] for item in brois):\n",
        "        selected_data = np.hstack((selected_data, data[i]))\n",
        "\n",
        "  return selected_data\n",
        "\n",
        "def sel_neurons():\n",
        "  print('todo')\n",
        "  return\n",
        "\n",
        "def spks_to_rate(spks):\n",
        "  print('todo')\n",
        "  return\n",
        "\n",
        "def butter_bandpass_backend(lowcut, highcut, fs, order=6):\n",
        "  nyq = 0.5 * fs\n",
        "  low = lowcut / nyq\n",
        "  high = highcut / nyq\n",
        "  b, a = butter(order, [low, high], btype='band')\n",
        "  return b, a\n",
        "\n",
        "def butter_bandpass_filter_good_func(data, lowcut, highcut, fs, order=6):\n",
        "  b, a = butter_bandpass_backend(lowcut, highcut, fs, order=order)\n",
        "  y = filtfilt(b, a, data)\n",
        "  return y \n",
        "\n",
        "def get_behavioral_idx(recording_session):\n",
        "  '''\n",
        "  Args:\n",
        "    alldat: spiking data as loaded in originally \n",
        "    recording session: what recording session as an integer you want to pull behavioral indices for \n",
        "  Returns:\n",
        "    series of arrays that you can use to index behavior \n",
        "  '''\n",
        "  response = recording_session['response'] # right - nogo - left (-1, 0, 1)\n",
        "  vis_right = recording_session['contrast_right'] # 0 - low - high\n",
        "  vis_left = recording_session['contrast_left'] # 0 - low - high\n",
        "  gocue_idx = recording_session['gocue']\n",
        "  rt_idx = recording_session['reaction_time']\n",
        "  is_correct = np.sign(response)==np.sign(vis_left-vis_right)\n",
        "  return response, vis_right, vis_left, gocue_idx, rt_idx, is_correct\n",
        "\n",
        "def concatenate_lfp(brain_area_raw_dat,zeropadsize=0): \n",
        "  '''\n",
        "  Args:\n",
        "    data: a 2d array of raw brain area LFP should be 2d after you select a specific session and area to pull. \n",
        "    zeropadsize: if you'd like to add padding to the concatenation. Default is 0 (no padding)\n",
        "  Returns:\n",
        "    1D Array of Concatenated trials for a given brain area recording. \n",
        "  '''\n",
        "  concatenated_data = np.array([])\n",
        "  N = zeropadsize\n",
        "  for i in range(len(brain_area_raw_dat)):\n",
        "    single_trial = brain_area_raw_dat[i,:]\n",
        "    trial_padded = np.pad(single_trial,(N,N),'constant')\n",
        "    concatenated_data = np.concatenate([concatenated_data,trial_padded])\n",
        "  return concatenated_data\n",
        "\n",
        "def spikes_avg(data):\n",
        "  '''\n",
        "  Args:\n",
        "    data: a single session data frame from Steinmetz 2019 data\n",
        "  Returns:\n",
        "    A 2d numpy array of trial averages. Rows are neurons. Column are time step\n",
        "  '''\n",
        "  avg = np.mean(data['spks'], axis = 1)\n",
        "\n",
        "  return avg\n",
        "\n",
        "def add_avg(data):\n",
        "  '''\n",
        "  Adds the trial average to the data structure\n",
        "\n",
        "  Args: \n",
        "    data: a single session dataframe from Steinmetz\n",
        "  '''\n",
        "  data[\"spks_avg\"] = spikes_avg(data)\n",
        "  return data\n",
        "\n",
        "def multi_add_avg(alldat):\n",
        "  \"\"\"\n",
        "  Adds trial averages to all sessions in the dataframe\n",
        "  Args:\n",
        "    alldat: a numpy array of sessions\n",
        "  \"\"\"\n",
        "  for i in range(len(alldat)):\n",
        "    alldat[i] = add_avg(alldat[i])\n",
        "  return alldat\n",
        "\n",
        "def concat_trials(data, bin_start, bin_end):\n",
        "  \"\"\"\n",
        "  Args:\n",
        "    data: a single session data frame from Steinmetz 2019 data\n",
        "    bin_start, bin_end: integers indicating which bin to start and end at\n",
        "  Returns:\n",
        "    A 2d numpy array of with trials concatenated horizontally with shape N×TK \n",
        "    (number of neurons by number of time points times number of trials).\n",
        "  \"\"\"   \n",
        "  NN = len(data['spks'][0])\n",
        "  X = np.reshape(data['spks'][:,:,bin_start:bin_end], (NN,-1))\n",
        "\n",
        "  return X\n",
        "\n",
        "def trial_result(data):\n",
        "  '''\n",
        "  Args:\n",
        "    data: a single session data frame\n",
        "  Returns:\n",
        "    numpy logical arrarys corresponding to right trials, correct right, incorrect\n",
        "    right trials, miss right trials, no_go trials\n",
        "  '''\n",
        "  # response: right - nogo - left (-1, 0, 1)\n",
        "  # vis left/right 0 - low - high\n",
        "  response, vis_right, vis_left, gocue_idx, rt_idx, is_correct = get_behavioral_idx(data)\n",
        "  ind = {}\n",
        "\n",
        "  # trial types\n",
        "  ind[\"right_go\"] = np.array(vis_right > vis_left)\n",
        "  ind[\"left_go\"] = np.array(vis_left > vis_right)\n",
        "  ind[\"nogo\"] = np.logical_and(vis_left == 0, vis_right == 0)\n",
        "  ind[\"equal\"] = np.logical_and(vis_right >0, vis_right == vis_left)\n",
        "\n",
        "  # right trials by response\n",
        "  ind[\"right_cor\"] = np.logical_and(response == -1, vis_right > vis_left)\n",
        "  ind[\"right_error\"] = np.logical_and(response == 1, vis_right > vis_left)\n",
        "  ind[\"right_miss\"] = np.logical_and(response == 0, vis_right > vis_left)\n",
        "\n",
        "  # left trials by response\n",
        "  ind[\"left_cor\"] = np.logical_and(response == 1, vis_right < vis_left)\n",
        "  ind[\"left_error\"] = np.logical_and(response == -1, vis_right < vis_left)\n",
        "  ind[\"left_miss\"] = np.logical_and(response == 0, vis_right < vis_left)\n",
        "\n",
        "  # nogo trials by response\n",
        "  ind[\"nogo_cor\"] = np.logical_and(response == 0, ind[\"nogo\"])\n",
        "  ind[\"nogo_error\"] = np.logical_and(response != 0, ind[\"nogo\"])\n",
        "  # difficulty \n",
        "  ind[\"difficulty\"] = np.array(abs(vis_left-vis_right))\n",
        "\n",
        "  return ind\n",
        "\n",
        "def frequencyband_coherence_analysis(raw_dat,correct_idx,region_of_interest,timepoints,freq_band,corr):\n",
        "  '''\n",
        "  Args:\n",
        "    raw_dat = array of LFP data for a specific session you would like to look at should be (brain_area,340,250)\n",
        "    correct_idx = idx of correct or incorrect trials to look at one vector so dimension should match second dimension ie. len = 340 \n",
        "    region_of_interest = (i = 1:12) what brain area you'd like to look at in a digit form. if using loop can go through all brain areas and do pair wise comparison. \n",
        "    timepoints =  (tp = [0,50]) what timepoints you'd like to run the coherence analysis over\n",
        "    freq_band =  (fb = [5,8]) --> Theta, What frequence band you'd like to average coherence analysis over. \n",
        "  Returns:\n",
        "    should return a vector for each comparison you chose to do. \n",
        "  '''\n",
        "\n",
        "  coherence_array = np.empty((raw_dat.shape[0]))\n",
        "  zeropadsize = 0 \n",
        "\n",
        "  for i in range(raw_dat.shape[0]):\n",
        "\n",
        "    if corr == 1:\n",
        "      brain_area_1 = raw_dat[region_of_interest,correct_idx==1,timepoints[0]:timepoints[1]] # 1 is correct response\n",
        "      brain_area_2 = raw_dat [i,correct_idx==1,timepoints[0]:timepoints[1]]\n",
        "    else:\n",
        "      brain_area_1 = raw_dat[region_of_interest,correct_idx==0,timepoints[0]:timepoints[1]] # 1 is correct response\n",
        "      brain_area_2 = raw_dat [i,correct_idx==0,timepoints[0]:timepoints[1]]\n",
        "\n",
        "    brain_area_1 = concatenate_lfp(brain_area_1,zeropadsize)\n",
        "    brain_area_2 = concatenate_lfp(brain_area_2,zeropadsize)\n",
        "    f, Cxy = signal.coherence(brain_area_1, brain_area_2, 100, nperseg=100)\n",
        "    Cxy_avg = np.mean(Cxy[freq_band[0]:freq_band[1]])\n",
        "    coherence_array[i] = Cxy_avg\n",
        "\n",
        "  return coherence_array\n",
        "\n",
        "\n"
      ],
      "execution_count": 4,
      "outputs": []
    },
    {
      "cell_type": "markdown",
      "metadata": {
        "id": "P2jZFBFKmKc1"
      },
      "source": [
        "## Testing Coherence Function with new indices "
      ]
    },
    {
      "cell_type": "code",
      "metadata": {
        "colab": {
          "base_uri": "https://localhost:8080/"
        },
        "id": "3bZpuW4_Ennq",
        "outputId": "abed0109-7720-4b0d-d85e-23a383a59704"
      },
      "source": [
        "#@title Pulling relevant indices \n",
        "temp_dat = alldat[11]\n",
        "idx = trial_result(temp_dat) \n",
        "print(idx.keys())"
      ],
      "execution_count": 5,
      "outputs": [
        {
          "output_type": "stream",
          "text": [
            "dict_keys(['right_go', 'left_go', 'nogo', 'equal', 'right_cor', 'right_error', 'right_miss', 'left_cor', 'left_error', 'left_miss', 'nogo_cor', 'nogo_error', 'difficulty'])\n"
          ],
          "name": "stdout"
        }
      ]
    },
    {
      "cell_type": "code",
      "metadata": {
        "id": "r00N6VdCFlvW"
      },
      "source": [
        "#@title Running coherence @ Theta Right Correct Trials \n",
        "#pulling data and idx of interest\n",
        "session11 = dat_LFP[11]\n",
        "session11_lfp = session11['lfp']\n",
        "correct_right_idx = idx['right_cor']\n",
        "\n",
        "#parameters \n",
        "timepoints = [0,50]\n",
        "fb = [5,8]\n",
        "\n",
        "#running analysis \n",
        "theta_array = np.empty([12,12])\n",
        "for i in range(theta_array.shape[0]): \n",
        "\n",
        "  theta_array[i,:] = frequencyband_coherence_analysis(session11_lfp,correct_right_idx,i,timepoints,fb,1)"
      ],
      "execution_count": 6,
      "outputs": []
    },
    {
      "cell_type": "code",
      "metadata": {
        "cellView": "form",
        "colab": {
          "base_uri": "https://localhost:8080/",
          "height": 321
        },
        "id": "w3nR5psJIKg1",
        "outputId": "134e613c-7774-4c1c-812a-f6dda0f15848"
      },
      "source": [
        "#@title Plotting Coherence \n",
        "positions = (0,1, 2, 3,4,5,6,7,8,9,10,11)\n",
        "labels = session11['brain_area_lfp']\n",
        "plt.xticks(positions, labels,rotation = 'vertical')\n",
        "plt.yticks(positions, labels)\n",
        "plt.imshow(theta_array)\n",
        "plt.colorbar()\n",
        "plt.title('Theta Coherence Right Correct Trials Pre Stim')\n"
      ],
      "execution_count": null,
      "outputs": [
        {
          "output_type": "execute_result",
          "data": {
            "text/plain": [
              "Text(0.5, 1.0, 'Theta Coherence Right Correct Trials Pre Stim')"
            ]
          },
          "metadata": {
            "tags": []
          },
          "execution_count": 25
        },
        {
          "output_type": "display_data",
          "data": {
            "image/png": "[encoded data removed]",
            "text/plain": [
              "<Figure size 432x288 with 2 Axes>"
            ]
          },
          "metadata": {
            "tags": [],
            "needs_background": "light"
          }
        }
      ]
    },
    {
      "cell_type": "code",
      "metadata": {
        "id": "qeH7IfUKJC-R"
      },
      "source": [
        "#@title Repeating analysis for error trials \n",
        "#parameters \n",
        "timepoints = [0,50]\n",
        "fb = [5,8]\n",
        "\n",
        "#running analysis \n",
        "theta_array_incorr = np.empty([12,12])\n",
        "for i in range(theta_array.shape[0]): \n",
        "\n",
        "  theta_array_incorr[i,:] = frequencyband_coherence_analysis(session11_lfp,correct_right_idx,i,timepoints,fb,0)"
      ],
      "execution_count": null,
      "outputs": []
    },
    {
      "cell_type": "code",
      "metadata": {
        "cellView": "form",
        "colab": {
          "base_uri": "https://localhost:8080/",
          "height": 321
        },
        "id": "tKVT5JsaJPy3",
        "outputId": "79ba1950-6786-4481-ebc8-93a1e459e462"
      },
      "source": [
        "#@title Plotting Incorrect Coherence \n",
        "positions = (0,1, 2, 3,4,5,6,7,8,9,10,11)\n",
        "labels = session11['brain_area_lfp']\n",
        "plt.xticks(positions, labels,rotation = 'vertical')\n",
        "plt.yticks(positions, labels)\n",
        "plt.imshow(theta_array_incorr)\n",
        "plt.colorbar()\n",
        "plt.title('Theta Coherence Right Incorrect Trials Pre Stim')"
      ],
      "execution_count": null,
      "outputs": [
        {
          "output_type": "execute_result",
          "data": {
            "text/plain": [
              "Text(0.5, 1.0, 'Theta Coherence Right Incorrect Trials Pre Stim')"
            ]
          },
          "metadata": {
            "tags": []
          },
          "execution_count": 27
        },
        {
          "output_type": "display_data",
          "data": {
            "image/png": "[encoded data removed]",
            "text/plain": [
              "<Figure size 432x288 with 2 Axes>"
            ]
          },
          "metadata": {
            "tags": [],
            "needs_background": "light"
          }
        }
      ]
    },
    {
      "cell_type": "code",
      "metadata": {
        "colab": {
          "base_uri": "https://localhost:8080/",
          "height": 321
        },
        "id": "tDQl0FpTJaPW",
        "outputId": "41339e0c-7481-4bd0-c16f-b4d73b6c703b"
      },
      "source": [
        "#@title Difference matrix @ right trials \n",
        "difference_coherence = np.subtract(theta_array,theta_array_incorr)\n",
        "plt.imshow(difference_coherence)\n",
        "positions = (0,1, 2, 3,4,5,6,7,8,9,10,11)\n",
        "labels = session11['brain_area_lfp']\n",
        "plt.xticks(positions, labels,rotation = 'vertical')\n",
        "plt.yticks(positions, labels)\n",
        "plt.colorbar()\n",
        "plt.clim(0,.25) \n",
        "plt.title('Theta Coherence Corr - Incorr: -500 - 0 ms')"
      ],
      "execution_count": null,
      "outputs": [
        {
          "output_type": "execute_result",
          "data": {
            "text/plain": [
              "Text(0.5, 1.0, 'Theta Coherence Corr - Incorr: -500 - 0 ms')"
            ]
          },
          "metadata": {
            "tags": []
          },
          "execution_count": 41
        },
        {
          "output_type": "display_data",
          "data": {
            "image/png": "[encoded data removed]",
            "text/plain": [
              "<Figure size 432x288 with 2 Axes>"
            ]
          },
          "metadata": {
            "tags": [],
            "needs_background": "light"
          }
        }
      ]
    },
    {
      "cell_type": "code",
      "metadata": {
        "cellView": "form",
        "id": "IetWpgQyKVUQ"
      },
      "source": [
        "#@title repeating analysis at stim onset till 500 ms out. \n",
        "timepoints = [51,100]\n",
        "fb = [5,8]\n",
        "#running analysis \n",
        "theta_array_stimon = np.empty([12,12])\n",
        "theta_array_stimon_incorr = np.empty([12,12])\n",
        "for i in range(theta_array_stimon.shape[0]): \n",
        "\n",
        "  theta_array_stimon[i,:] = frequencyband_coherence_analysis(session11_lfp,correct_right_idx,i,timepoints,fb,1)\n",
        "  theta_array_stimon_incorr[i,:] = frequencyband_coherence_analysis(session11_lfp,correct_right_idx,i,timepoints,fb,0)\n"
      ],
      "execution_count": null,
      "outputs": []
    },
    {
      "cell_type": "code",
      "metadata": {
        "colab": {
          "base_uri": "https://localhost:8080/",
          "height": 321
        },
        "cellView": "form",
        "id": "x8plDnSKLGmk",
        "outputId": "d8f0c1d3-b895-4731-ab10-04e5c7bbbafc"
      },
      "source": [
        "#@title Plotting again \n",
        "difference_coherence_stimon = np.subtract(theta_array_stimon,theta_array_stimon_incorr)\n",
        "plt.imshow(difference_coherence_stimon)\n",
        "positions = (0,1, 2, 3,4,5,6,7,8,9,10,11)\n",
        "labels = session11['brain_area_lfp']\n",
        "plt.xticks(positions, labels,rotation = 'vertical')\n",
        "plt.yticks(positions, labels)\n",
        "plt.colorbar()\n",
        "plt.clim(0,.25) \n",
        "plt.title('Theta Coherence Corr - Incorr: 0 - 500 ms ')"
      ],
      "execution_count": null,
      "outputs": [
        {
          "output_type": "execute_result",
          "data": {
            "text/plain": [
              "Text(0.5, 1.0, 'Theta Coherence Corr - Incorr: 0 - 500 ms ')"
            ]
          },
          "metadata": {
            "tags": []
          },
          "execution_count": 39
        },
        {
          "output_type": "display_data",
          "data": {
            "image/png": "[encoded data removed]",
            "text/plain": [
              "<Figure size 432x288 with 2 Axes>"
            ]
          },
          "metadata": {
            "tags": [],
            "needs_background": "light"
          }
        }
      ]
    },
    {
      "cell_type": "code",
      "metadata": {
        "cellView": "form",
        "id": "k4OrtDPvMEK_"
      },
      "source": [
        "#@title Repeating Process one more time for gamma \n",
        "#parameters \n",
        "timepoints = [0,50]\n",
        "fb = [30,50]\n",
        "\n",
        "#running analysis \n",
        "gamma_array = np.empty([12,12])\n",
        "gamma_array_incorr = np.empty([12,12])\n",
        "for i in range(gamma_array.shape[0]): \n",
        "\n",
        "  gamma_array[i,:] = frequencyband_coherence_analysis(session11_lfp,correct_right_idx,i,timepoints,fb,1)\n",
        "  gamma_array_incorr[i,:] = frequencyband_coherence_analysis(session11_lfp,correct_right_idx,i,timepoints,fb,0)"
      ],
      "execution_count": null,
      "outputs": []
    },
    {
      "cell_type": "code",
      "metadata": {
        "colab": {
          "base_uri": "https://localhost:8080/",
          "height": 321
        },
        "id": "wAUOiPOnMhFm",
        "outputId": "dddb4caf-079a-4425-d7b4-58f22cfa4c1c"
      },
      "source": [
        "#@title Plotting gamma diff \n",
        "difference_coherence_gamma = np.subtract(gamma_array,gamma_array_incorr)\n",
        "plt.imshow(difference_coherence_gamma)\n",
        "positions = (0,1, 2, 3,4,5,6,7,8,9,10,11)\n",
        "labels = session11['brain_area_lfp']\n",
        "plt.xticks(positions, labels,rotation = 'vertical')\n",
        "plt.yticks(positions, labels)\n",
        "plt.colorbar()\n",
        "plt.clim(0,.125) \n",
        "plt.title('Gamma Coherence Corr - Incorr: 0 - 500 ms ')"
      ],
      "execution_count": null,
      "outputs": [
        {
          "output_type": "execute_result",
          "data": {
            "text/plain": [
              "Text(0.5, 1.0, 'Gamma Coherence Corr - Incorr: 0 - 500 ms ')"
            ]
          },
          "metadata": {
            "tags": []
          },
          "execution_count": 51
        },
        {
          "output_type": "display_data",
          "data": {
            "image/png": "[encoded data removed]",
            "text/plain": [
              "<Figure size 432x288 with 2 Axes>"
            ]
          },
          "metadata": {
            "tags": [],
            "needs_background": "light"
          }
        }
      ]
    },
    {
      "cell_type": "code",
      "metadata": {
        "id": "_RPhlPF6RUtx"
      },
      "source": [
        "#@title Trying difficulty index. \n",
        "\n",
        "#pulling data and idx of interest\n",
        "session11 = dat_LFP[11]\n",
        "session11_lfp = session11['lfp']\n",
        "diff_idx = idx['difficulty']\n",
        "\n",
        "low_diff_idx = diff_idx == 0.25\n",
        "low_med_diff_idx = diff_idx == 0.5 \n",
        "high_med_diff_idx = diff_idx == 0.75\n",
        "high_diff_idx = diff_idx == 1\n",
        "#parameters \n",
        "timepoints = [51,100]\n",
        "fb = [5,8]\n",
        "\n",
        "\n",
        "#running analysis \n",
        "theta_array_low = np.empty([12,12])\n",
        "theta_array_low_med = np.empty([12,12])\n",
        "theta_array_high_med = np.empty([12,12])\n",
        "theta_array_high = np.empty([12,12])\n",
        "\n",
        "for i in range(theta_array_low.shape[0]): \n",
        "\n",
        "  theta_array_low[i,:] = frequencyband_coherence_analysis(session11_lfp,low_diff_idx,i,timepoints,fb,1)\n",
        "  theta_array_low_med[i,:] = frequencyband_coherence_analysis(session11_lfp,low_med_diff_idx,i,timepoints,fb,1)\n",
        "  theta_array_high_med[i,:] = frequencyband_coherence_analysis(session11_lfp,high_med_diff_idx,i,timepoints,fb,1)\n",
        "  theta_array_high[i,:] = frequencyband_coherence_analysis(session11_lfp,high_diff_idx,i,timepoints,fb,1)"
      ],
      "execution_count": 52,
      "outputs": []
    },
    {
      "cell_type": "code",
      "metadata": {
        "colab": {
          "base_uri": "https://localhost:8080/",
          "height": 287
        },
        "id": "Fzc5lwXgSy8W",
        "outputId": "07fa163a-abbf-4d22-e047-41a08397981c"
      },
      "source": [
        "#@title Plotting difficulty \n",
        "plt.imshow(theta_array_low)\n",
        "# positions = (0,1, 2, 3,4,5,6,7,8,9,10,11)\n",
        "# labels = session11['brain_area_lfp']\n",
        "# plt.xticks(positions, labels,rotation = 'vertical')\n",
        "# plt.yticks(positions, labels)\n",
        "plt.colorbar()\n",
        "#plt.clim(0,.25) "
      ],
      "execution_count": null,
      "outputs": [
        {
          "output_type": "execute_result",
          "data": {
            "text/plain": [
              "<matplotlib.colorbar.Colorbar at 0x7f441514b950>"
            ]
          },
          "metadata": {
            "tags": []
          },
          "execution_count": 94
        },
        {
          "output_type": "display_data",
          "data": {
            "image/png": "[encoded data removed]",
            "text/plain": [
              "<Figure size 432x288 with 2 Axes>"
            ]
          },
          "metadata": {
            "tags": [],
            "needs_background": "light"
          }
        }
      ]
    },
    {
      "cell_type": "code",
      "metadata": {
        "colab": {
          "base_uri": "https://localhost:8080/",
          "height": 321
        },
        "id": "2_kPo3qPbppf",
        "outputId": "dd50c5e6-ae08-457c-9963-086c4916eb0c"
      },
      "source": [
        "difference_coherence_diff = np.subtract(theta_array_low,theta_array_high)\n",
        "plt.imshow(difference_coherence_diff)\n",
        "plt.colorbar()\n",
        "positions = (0,1, 2, 3,4,5,6,7,8,9,10,11)\n",
        "labels = session11['brain_area_lfp']\n",
        "plt.xticks(positions, labels,rotation = 'vertical')\n",
        "plt.yticks(positions, labels)\n",
        "plt.clim(0,.25) \n",
        "plt.title('Theta low - high diff: 0 - 100 ms ')"
      ],
      "execution_count": null,
      "outputs": [
        {
          "output_type": "execute_result",
          "data": {
            "text/plain": [
              "Text(0.5, 1.0, 'Theta low - high diff: 0 - 100 ms ')"
            ]
          },
          "metadata": {
            "tags": []
          },
          "execution_count": 99
        },
        {
          "output_type": "display_data",
          "data": {
            "image/png": "[encoded data removed]",
            "text/plain": [
              "<Figure size 432x288 with 2 Axes>"
            ]
          },
          "metadata": {
            "tags": [],
            "needs_background": "light"
          }
        }
      ]
    },
    {
      "cell_type": "code",
      "metadata": {
        "colab": {
          "base_uri": "https://localhost:8080/"
        },
        "id": "knNiMbx7fRjx",
        "outputId": "78648d02-5440-4e43-ca45-9198ec9fb0f8"
      },
      "source": [
        "# obtain the lag P for VAR\n",
        "session11_lfp.shape\n",
        "brain_area_1 = concatenate_lfp(session11_lfp[6,:,:],0)\n",
        "brain_area_2 = concatenate_lfp(session11_lfp[7,:,:],0)\n",
        "rawData = np.column_stack((brain_area_1, brain_area_2))\n",
        "\n",
        "\n",
        "model = VAR(rawData) #recall that rawData is w/o difference operation\n",
        "\n",
        "for i in [1,2,3,4,5,6,7,8,9,10,11,12]:\n",
        "    result = model.fit(i)\n",
        "    try:\n",
        "        print('Lag Order =', i)\n",
        "        print('AIC : ', result.aic)\n",
        "        print('BIC : ', result.bic)\n",
        "        print('FPE : ', result.fpe)\n",
        "        print('HQIC: ', result.hqic, '\\n')\n",
        "    except:\n",
        "        continue\n"
      ],
      "execution_count": null,
      "outputs": [
        {
          "output_type": "stream",
          "text": [
            "Lag Order = 1\n",
            "AIC :  9.815193459386332\n",
            "BIC :  9.815853495017624\n",
            "FPE :  18309.831946424776\n",
            "HQIC:  9.815395238587248 \n",
            "\n",
            "Lag Order = 2\n",
            "AIC :  9.792766638237259\n",
            "BIC :  9.793866709180785\n",
            "FPE :  17903.770967871922\n",
            "HQIC:  9.793102940618105 \n",
            "\n",
            "Lag Order = 3\n",
            "AIC :  9.773462960218955\n",
            "BIC :  9.775003075721505\n",
            "FPE :  17561.476735707936\n",
            "HQIC:  9.773933788749977 \n",
            "\n",
            "Lag Order = 4\n",
            "AIC :  9.759869847083866\n",
            "BIC :  9.761850016392536\n",
            "FPE :  17324.376710160865\n",
            "HQIC:  9.760475204735403 \n",
            "\n",
            "Lag Order = 5\n",
            "AIC :  9.749687051657203\n",
            "BIC :  9.752107284019397\n",
            "FPE :  17148.861261789094\n",
            "HQIC:  9.750426941399702 \n",
            "\n",
            "Lag Order = 6\n",
            "AIC :  9.742131028322907\n",
            "BIC :  9.744991332986336\n",
            "FPE :  17019.772379451413\n",
            "HQIC:  9.743005453126912 \n",
            "\n",
            "Lag Order = 7\n",
            "AIC :  9.73680499162819\n",
            "BIC :  9.74010537784087\n",
            "FPE :  16929.36541637945\n",
            "HQIC:  9.737813954464347 \n",
            "\n",
            "Lag Order = 8\n",
            "AIC :  9.736292975948539\n",
            "BIC :  9.74003345295879\n",
            "FPE :  16920.69953461923\n",
            "HQIC:  9.737436479787595 \n",
            "\n",
            "Lag Order = 9\n",
            "AIC :  9.735583419573695\n",
            "BIC :  9.739763996630154\n",
            "FPE :  16908.697602996235\n",
            "HQIC:  9.736861467386502 \n",
            "\n",
            "Lag Order = 10\n",
            "AIC :  9.734717005448703\n",
            "BIC :  9.739337691800305\n",
            "FPE :  16894.054013268473\n",
            "HQIC:  9.736129600206207 \n",
            "\n",
            "Lag Order = 11\n",
            "AIC :  9.732353319157628\n",
            "BIC :  9.73741412405362\n",
            "FPE :  16854.168925990056\n",
            "HQIC:  9.733900463830881 \n",
            "\n",
            "Lag Order = 12\n",
            "AIC :  9.730114763848968\n",
            "BIC :  9.735615696538899\n",
            "FPE :  16816.48213451552\n",
            "HQIC:  9.731796461409122 \n",
            "\n"
          ],
          "name": "stdout"
        }
      ]
    },
    {
      "cell_type": "code",
      "metadata": {
        "colab": {
          "base_uri": "https://localhost:8080/"
        },
        "id": "ZfkuT1_hoF-x",
        "outputId": "a27920d7-d932-479c-9885-5405b4e7842b"
      },
      "source": [
        "!pip install nitime\n",
        "import nitime\n",
        "import nitime.analysis as nta\n",
        "import nitime.timeseries as ts\n",
        "import nitime.utils as tsu\n",
        "from nitime.viz import drawmatrix_channels\n"
      ],
      "execution_count": null,
      "outputs": [
        {
          "output_type": "stream",
          "text": [
            "Collecting nitime\n",
            "  Downloading nitime-0.9.tar.gz (6.2 MB)\n",
            "\u001b[K     |████████████████████████████████| 6.2 MB 7.7 MB/s \n",
            "\u001b[?25hRequirement already satisfied: numpy in /usr/local/lib/python3.7/dist-packages (from nitime) (1.19.5)\n",
            "Requirement already satisfied: cython in /usr/local/lib/python3.7/dist-packages (from nitime) (0.29.23)\n",
            "Requirement already satisfied: scipy in /usr/local/lib/python3.7/dist-packages (from nitime) (1.4.1)\n",
            "Requirement already satisfied: matplotlib in /usr/local/lib/python3.7/dist-packages (from nitime) (3.2.2)\n",
            "Requirement already satisfied: networkx in /usr/local/lib/python3.7/dist-packages (from nitime) (2.5.1)\n",
            "Requirement already satisfied: nibabel in /usr/local/lib/python3.7/dist-packages (from nitime) (3.0.2)\n",
            "Requirement already satisfied: kiwisolver>=1.0.1 in /usr/local/lib/python3.7/dist-packages (from matplotlib->nitime) (1.3.1)\n",
            "Requirement already satisfied: pyparsing!=2.0.4,!=2.1.2,!=2.1.6,>=2.0.1 in /usr/local/lib/python3.7/dist-packages (from matplotlib->nitime) (2.4.7)\n",
            "Requirement already satisfied: python-dateutil>=2.1 in /usr/local/lib/python3.7/dist-packages (from matplotlib->nitime) (2.8.1)\n",
            "Requirement already satisfied: cycler>=0.10 in /usr/local/lib/python3.7/dist-packages (from matplotlib->nitime) (0.10.0)\n",
            "Requirement already satisfied: six in /usr/local/lib/python3.7/dist-packages (from cycler>=0.10->matplotlib->nitime) (1.15.0)\n",
            "Requirement already satisfied: decorator<5,>=4.3 in /usr/local/lib/python3.7/dist-packages (from networkx->nitime) (4.4.2)\n",
            "Building wheels for collected packages: nitime\n",
            "  Building wheel for nitime (setup.py) ... \u001b[?25l\u001b[?25hdone\n",
            "  Created wheel for nitime: filename=nitime-0.9-cp37-cp37m-linux_x86_64.whl size=4032181 sha256=96e1ba8210df953fc73a03460daa0f110edb5051532bafcbfb163437103c27a3\n",
            "  Stored in directory: /root/.cache/pip/wheels/8e/1b/71/d7d584087121ac331c444b913abeb116b527dad2a0f1d9157a\n",
            "Successfully built nitime\n",
            "Installing collected packages: nitime\n",
            "Successfully installed nitime-0.9\n"
          ],
          "name": "stdout"
        }
      ]
    },
    {
      "cell_type": "code",
      "metadata": {
        "colab": {
          "base_uri": "https://localhost:8080/"
        },
        "id": "W6PM_ofoo6ui",
        "outputId": "e0deb457-ec6b-4b7f-97ff-e166c2035764"
      },
      "source": [
        "#@title Trying different package for Granger \n",
        "!pip install spectral_connectivity"
      ],
      "execution_count": null,
      "outputs": [
        {
          "output_type": "stream",
          "text": [
            "Collecting spectral_connectivity\n",
            "  Downloading spectral_connectivity-0.2.5.dev0-py3-none-any.whl (44 kB)\n",
            "\u001b[K     |████████████████████████████████| 44 kB 1.6 MB/s \n",
            "\u001b[?25hRequirement already satisfied: numpy>=1.11 in /usr/local/lib/python3.7/dist-packages (from spectral_connectivity) (1.19.5)\n",
            "Requirement already satisfied: pandas>=0.18.0 in /usr/local/lib/python3.7/dist-packages (from spectral_connectivity) (1.1.5)\n",
            "Requirement already satisfied: matplotlib in /usr/local/lib/python3.7/dist-packages (from spectral_connectivity) (3.2.2)\n",
            "Requirement already satisfied: xarray in /usr/local/lib/python3.7/dist-packages (from spectral_connectivity) (0.18.2)\n",
            "Requirement already satisfied: scipy in /usr/local/lib/python3.7/dist-packages (from spectral_connectivity) (1.4.1)\n",
            "Requirement already satisfied: pytz>=2017.2 in /usr/local/lib/python3.7/dist-packages (from pandas>=0.18.0->spectral_connectivity) (2018.9)\n",
            "Requirement already satisfied: python-dateutil>=2.7.3 in /usr/local/lib/python3.7/dist-packages (from pandas>=0.18.0->spectral_connectivity) (2.8.1)\n",
            "Requirement already satisfied: six>=1.5 in /usr/local/lib/python3.7/dist-packages (from python-dateutil>=2.7.3->pandas>=0.18.0->spectral_connectivity) (1.15.0)\n",
            "Requirement already satisfied: pyparsing!=2.0.4,!=2.1.2,!=2.1.6,>=2.0.1 in /usr/local/lib/python3.7/dist-packages (from matplotlib->spectral_connectivity) (2.4.7)\n",
            "Requirement already satisfied: cycler>=0.10 in /usr/local/lib/python3.7/dist-packages (from matplotlib->spectral_connectivity) (0.10.0)\n",
            "Requirement already satisfied: kiwisolver>=1.0.1 in /usr/local/lib/python3.7/dist-packages (from matplotlib->spectral_connectivity) (1.3.1)\n",
            "Requirement already satisfied: setuptools>=40.4 in /usr/local/lib/python3.7/dist-packages (from xarray->spectral_connectivity) (57.2.0)\n",
            "Installing collected packages: spectral-connectivity\n",
            "Successfully installed spectral-connectivity-0.2.5.dev0\n"
          ],
          "name": "stdout"
        }
      ]
    },
    {
      "cell_type": "code",
      "metadata": {
        "colab": {
          "base_uri": "https://localhost:8080/",
          "height": 246
        },
        "id": "61j4n4XrtM7i",
        "outputId": "f8224995-ce77-4e03-808b-4f00c92239dd"
      },
      "source": [
        "#@title Getting nowhere going back to Correlation calculation \n",
        "\n",
        "from scipy import stats\n",
        "rho, pval = stats.spearmanr(theta_array, theta_array)\n",
        "plt.imshow(rho[0:12,0:12])\n",
        "plt.colorbar()\n",
        "positions = (0,1, 2, 3,4,5,6,7,8,9,10,11)\n",
        "labels = session11['brain_area_lfp']\n",
        "plt.xticks(positions, labels,rotation = 'vertical')\n",
        "plt.yticks(positions, labels)\n",
        "plt.clim(0,1) \n",
        "plt.title('Correlation Between Brain Areas Theta: -500 - 0 ms')"
      ],
      "execution_count": null,
      "outputs": [
        {
          "output_type": "error",
          "ename": "NameError",
          "evalue": "ignored",
          "traceback": [
            "\u001b[0;31m---------------------------------------------------------------------------\u001b[0m",
            "\u001b[0;31mNameError\u001b[0m                                 Traceback (most recent call last)",
            "\u001b[0;32m<ipython-input-1-ca15c3fe6429>\u001b[0m in \u001b[0;36m<module>\u001b[0;34m()\u001b[0m\n\u001b[1;32m      2\u001b[0m \u001b[0;34m\u001b[0m\u001b[0m\n\u001b[1;32m      3\u001b[0m \u001b[0;32mfrom\u001b[0m \u001b[0mscipy\u001b[0m \u001b[0;32mimport\u001b[0m \u001b[0mstats\u001b[0m\u001b[0;34m\u001b[0m\u001b[0;34m\u001b[0m\u001b[0m\n\u001b[0;32m----> 4\u001b[0;31m \u001b[0mrho\u001b[0m\u001b[0;34m,\u001b[0m \u001b[0mpval\u001b[0m \u001b[0;34m=\u001b[0m \u001b[0mstats\u001b[0m\u001b[0;34m.\u001b[0m\u001b[0mspearmanr\u001b[0m\u001b[0;34m(\u001b[0m\u001b[0mtheta_array\u001b[0m\u001b[0;34m,\u001b[0m \u001b[0mtheta_array\u001b[0m\u001b[0;34m)\u001b[0m\u001b[0;34m\u001b[0m\u001b[0;34m\u001b[0m\u001b[0m\n\u001b[0m\u001b[1;32m      5\u001b[0m \u001b[0mplt\u001b[0m\u001b[0;34m.\u001b[0m\u001b[0mimshow\u001b[0m\u001b[0;34m(\u001b[0m\u001b[0mrho\u001b[0m\u001b[0;34m[\u001b[0m\u001b[0;36m0\u001b[0m\u001b[0;34m:\u001b[0m\u001b[0;36m12\u001b[0m\u001b[0;34m,\u001b[0m\u001b[0;36m0\u001b[0m\u001b[0;34m:\u001b[0m\u001b[0;36m12\u001b[0m\u001b[0;34m]\u001b[0m\u001b[0;34m)\u001b[0m\u001b[0;34m\u001b[0m\u001b[0;34m\u001b[0m\u001b[0m\n\u001b[1;32m      6\u001b[0m \u001b[0mplt\u001b[0m\u001b[0;34m.\u001b[0m\u001b[0mcolorbar\u001b[0m\u001b[0;34m(\u001b[0m\u001b[0;34m)\u001b[0m\u001b[0;34m\u001b[0m\u001b[0;34m\u001b[0m\u001b[0m\n",
            "\u001b[0;31mNameError\u001b[0m: name 'theta_array' is not defined"
          ]
        }
      ]
    },
    {
      "cell_type": "code",
      "metadata": {
        "id": "jSVogYqVyF1P",
        "colab": {
          "base_uri": "https://localhost:8080/",
          "height": 246
        },
        "outputId": "a178825b-1174-4b11-fac2-596f6ea9fc5f"
      },
      "source": [
        "pval[pval > 0.05] = -1\n",
        "plt.imshow(pval[0:12,0:12])\n",
        "plt.colorbar()\n",
        "plt.clim(0,0.05) \n",
        "positions = (0,1, 2, 3,4,5,6,7,8,9,10,11)\n",
        "labels = session11['brain_area_lfp']\n",
        "plt.xticks(positions, labels,rotation = 'vertical')\n",
        "plt.yticks(positions, labels)\n",
        "plt.title('Correlation Between Brain Areas Theta: -500 - 0 ms')"
      ],
      "execution_count": null,
      "outputs": [
        {
          "output_type": "error",
          "ename": "NameError",
          "evalue": "ignored",
          "traceback": [
            "\u001b[0;31m---------------------------------------------------------------------------\u001b[0m",
            "\u001b[0;31mNameError\u001b[0m                                 Traceback (most recent call last)",
            "\u001b[0;32m<ipython-input-98-9e5730b0a151>\u001b[0m in \u001b[0;36m<module>\u001b[0;34m()\u001b[0m\n\u001b[0;32m----> 1\u001b[0;31m \u001b[0mpval\u001b[0m\u001b[0;34m[\u001b[0m\u001b[0mpval\u001b[0m \u001b[0;34m>\u001b[0m \u001b[0;36m0.05\u001b[0m\u001b[0;34m]\u001b[0m \u001b[0;34m=\u001b[0m \u001b[0;34m-\u001b[0m\u001b[0;36m1\u001b[0m\u001b[0;34m\u001b[0m\u001b[0;34m\u001b[0m\u001b[0m\n\u001b[0m\u001b[1;32m      2\u001b[0m \u001b[0mplt\u001b[0m\u001b[0;34m.\u001b[0m\u001b[0mimshow\u001b[0m\u001b[0;34m(\u001b[0m\u001b[0mpval\u001b[0m\u001b[0;34m[\u001b[0m\u001b[0;36m0\u001b[0m\u001b[0;34m:\u001b[0m\u001b[0;36m12\u001b[0m\u001b[0;34m,\u001b[0m\u001b[0;36m0\u001b[0m\u001b[0;34m:\u001b[0m\u001b[0;36m12\u001b[0m\u001b[0;34m]\u001b[0m\u001b[0;34m)\u001b[0m\u001b[0;34m\u001b[0m\u001b[0;34m\u001b[0m\u001b[0m\n\u001b[1;32m      3\u001b[0m \u001b[0mplt\u001b[0m\u001b[0;34m.\u001b[0m\u001b[0mcolorbar\u001b[0m\u001b[0;34m(\u001b[0m\u001b[0;34m)\u001b[0m\u001b[0;34m\u001b[0m\u001b[0;34m\u001b[0m\u001b[0m\n\u001b[1;32m      4\u001b[0m \u001b[0mplt\u001b[0m\u001b[0;34m.\u001b[0m\u001b[0mclim\u001b[0m\u001b[0;34m(\u001b[0m\u001b[0;36m0\u001b[0m\u001b[0;34m,\u001b[0m\u001b[0;36m0.05\u001b[0m\u001b[0;34m)\u001b[0m\u001b[0;34m\u001b[0m\u001b[0;34m\u001b[0m\u001b[0m\n\u001b[1;32m      5\u001b[0m \u001b[0mpositions\u001b[0m \u001b[0;34m=\u001b[0m \u001b[0;34m(\u001b[0m\u001b[0;36m0\u001b[0m\u001b[0;34m,\u001b[0m\u001b[0;36m1\u001b[0m\u001b[0;34m,\u001b[0m \u001b[0;36m2\u001b[0m\u001b[0;34m,\u001b[0m \u001b[0;36m3\u001b[0m\u001b[0;34m,\u001b[0m\u001b[0;36m4\u001b[0m\u001b[0;34m,\u001b[0m\u001b[0;36m5\u001b[0m\u001b[0;34m,\u001b[0m\u001b[0;36m6\u001b[0m\u001b[0;34m,\u001b[0m\u001b[0;36m7\u001b[0m\u001b[0;34m,\u001b[0m\u001b[0;36m8\u001b[0m\u001b[0;34m,\u001b[0m\u001b[0;36m9\u001b[0m\u001b[0;34m,\u001b[0m\u001b[0;36m10\u001b[0m\u001b[0;34m,\u001b[0m\u001b[0;36m11\u001b[0m\u001b[0;34m)\u001b[0m\u001b[0;34m\u001b[0m\u001b[0;34m\u001b[0m\u001b[0m\n",
            "\u001b[0;31mNameError\u001b[0m: name 'pval' is not defined"
          ]
        }
      ]
    },
    {
      "cell_type": "code",
      "metadata": {
        "id": "h4RB1YvEogPo"
      },
      "source": [
        "#@title need to bandpass signal for granger (DO NOT DO THIS)\n",
        "brain_area_1 = concatenate_lfp(session11_lfp[6,:,:],0)\n",
        "brain_area_2 = concatenate_lfp(session11_lfp[7,:,:],0)\n",
        "\n",
        "low_freq = 5 \n",
        "high_freq = 8 \n",
        "fs = 100 \n",
        "\n",
        "theta_ba1 = butter_bandpass_filter_good_func(brain_area_1, low_freq, high_freq, fs, order=6)\n",
        "theta_ba2 = butter_bandpass_filter_good_func(brain_area_2, low_freq, high_freq, fs, order=6)\n"
      ],
      "execution_count": null,
      "outputs": []
    },
    {
      "cell_type": "code",
      "metadata": {
        "id": "7erwlF3BbI_6",
        "colab": {
          "base_uri": "https://localhost:8080/"
        },
        "outputId": "a7109b61-aa98-4255-e3bb-337aa70e9332"
      },
      "source": [
        "import statsmodels.api as sm\n",
        "from statsmodels.tsa.stattools import grangercausalitytests\n",
        "import numpy as np\n",
        "\n",
        "session11_lfp.shape\n",
        "\n",
        "rawData = np.column_stack((brain_area_1, brain_area_2))\n",
        "\n",
        "gc_res = grangercausalitytests(rawData,)"
      ],
      "execution_count": null,
      "outputs": [
        {
          "output_type": "stream",
          "text": [
            "\n",
            "Granger Causality\n",
            "number of lags (no zero) 1\n",
            "ssr based F test:         F=90.6835 , p=0.0000  , df_denom=84996, df_num=1\n",
            "ssr based chi2 test:   chi2=90.6867 , p=0.0000  , df=1\n",
            "likelihood ratio test: chi2=90.6384 , p=0.0000  , df=1\n",
            "parameter F test:         F=90.6835 , p=0.0000  , df_denom=84996, df_num=1\n"
          ],
          "name": "stdout"
        }
      ]
    },
    {
      "cell_type": "code",
      "metadata": {
        "id": "WcZ5R_bpgYqA",
        "colab": {
          "base_uri": "https://localhost:8080/"
        },
        "outputId": "d59a84be-b187-4336-fe47-3ff688b9a47d"
      },
      "source": [
        "#@title Testing if concatenated lfp can be considered stationary \n",
        "from statsmodels.tsa.stattools import adfuller\n",
        "\n",
        "def adf_test(df):\n",
        "    result = adfuller(df)\n",
        "    print('ADF Statistics: %f' % result[0])\n",
        "    print('p-value: %f' % result[1])\n",
        "    print('Critical values:')\n",
        "    for key, value in result[4].items():\n",
        "        print('\\t%s: %.3f' % (key, value))\n",
        "        \n",
        "print('ADF Test: Brain Area 1')\n",
        "adf_test(brain_area_1)\n",
        "print('ADF Test: Brain Area 2')\n",
        "adf_test(brain_area_2)"
      ],
      "execution_count": null,
      "outputs": [
        {
          "output_type": "stream",
          "text": [
            "ADF Test: Brain Area 1\n",
            "ADF Statistics: -38.850186\n",
            "p-value: 0.000000\n",
            "Critical values:\n",
            "\t1%: -3.430\n",
            "\t5%: -2.862\n",
            "\t10%: -2.567\n",
            "ADF Test: Brain Area 2\n",
            "ADF Statistics: -35.972823\n",
            "p-value: 0.000000\n",
            "Critical values:\n",
            "\t1%: -3.430\n",
            "\t5%: -2.862\n",
            "\t10%: -2.567\n"
          ],
          "name": "stdout"
        }
      ]
    },
    {
      "cell_type": "code",
      "metadata": {
        "id": "HFFyDo17p7As",
        "colab": {
          "base_uri": "https://localhost:8080/"
        },
        "outputId": "f7a1c54e-c9ce-4f3e-d433-b56fc0906660"
      },
      "source": [
        "from statsmodels.tsa.stattools import kpss\n",
        "\n",
        "def kpss_test(df):    \n",
        "    statistic, p_value, n_lags, critical_values = kpss(df)\n",
        "    \n",
        "    print(f'KPSS Statistic: {statistic}')\n",
        "    print(f'p-value: {p_value}')\n",
        "    print(f'num lags: {n_lags}')\n",
        "    print('Critial Values:')\n",
        "    for key, value in critical_values.items():\n",
        "        print(f'   {key} : {value}')\n",
        "        \n",
        "print('KPSS Test: Brain Area 1')\n",
        "kpss_test(brain_area_1)\n",
        "print('KPSS Test: Brain Area 2')\n",
        "kpss_test(brain_area_2)"
      ],
      "execution_count": null,
      "outputs": [
        {
          "output_type": "stream",
          "text": [
            "KPSS Test: Brain Area 1\n",
            "KPSS Statistic: 0.2765472914234745\n",
            "p-value: 0.1\n",
            "num lags: 65\n",
            "Critial Values:\n",
            "   10% : 0.347\n",
            "   5% : 0.463\n",
            "   2.5% : 0.574\n",
            "   1% : 0.739\n",
            "KPSS Test: Brain Area 2\n",
            "KPSS Statistic: 0.522994292057455\n",
            "p-value: 0.036487772059131764\n",
            "num lags: 65\n",
            "Critial Values:\n",
            "   10% : 0.347\n",
            "   5% : 0.463\n",
            "   2.5% : 0.574\n",
            "   1% : 0.739\n"
          ],
          "name": "stdout"
        },
        {
          "output_type": "stream",
          "text": [
            "/usr/local/lib/python3.7/dist-packages/statsmodels/tsa/stattools.py:1685: FutureWarning: The behavior of using lags=None will change in the next release. Currently lags=None is the same as lags='legacy', and so a sample-size lag length is used. After the next release, the default will change to be the same as lags='auto' which uses an automatic lag length selection method. To silence this warning, either use 'auto' or 'legacy'\n",
            "  warn(msg, FutureWarning)\n",
            "/usr/local/lib/python3.7/dist-packages/statsmodels/tsa/stattools.py:1711: InterpolationWarning: p-value is greater than the indicated p-value\n",
            "  warn(\"p-value is greater than the indicated p-value\", InterpolationWarning)\n"
          ],
          "name": "stderr"
        }
      ]
    },
    {
      "cell_type": "code",
      "metadata": {
        "id": "3sbq-QiOrYg0",
        "colab": {
          "base_uri": "https://localhost:8080/"
        },
        "outputId": "a0d341a8-173f-4c78-ceff-d6dea4dfc4d0"
      },
      "source": [
        "rawData = np.column_stack((theta_ba1, theta_ba2))\n",
        "\n",
        "\n",
        "model = VAR(rawData) #recall that rawData is w/o difference operation\n",
        "\n",
        "for i in [1,2,3,4,5,6,7,8,9,10,11,12]:\n",
        "    result = model.fit(i)\n",
        "    try:\n",
        "        print('Lag Order =', i)\n",
        "        print('AIC : ', result.aic)\n",
        "        print('BIC : ', result.bic)\n",
        "        print('FPE : ', result.fpe)\n",
        "        print('HQIC: ', result.hqic, '\\n')\n",
        "    except:\n",
        "        continue"
      ],
      "execution_count": null,
      "outputs": [
        {
          "output_type": "stream",
          "text": [
            "Lag Order = 1\n",
            "AIC :  4.078329836268001\n",
            "BIC :  4.078989871899293\n",
            "FPE :  59.04676967689827\n",
            "HQIC:  4.078531615468917 \n",
            "\n",
            "Lag Order = 2\n",
            "AIC :  -5.213945392615399\n",
            "BIC :  -5.212845321671873\n",
            "FPE :  0.005440167693300025\n",
            "HQIC:  -5.213609090234552 \n",
            "\n",
            "Lag Order = 3\n",
            "AIC :  -9.053447652902532\n",
            "BIC :  -9.051907537399982\n",
            "FPE :  0.00011698701024211157\n",
            "HQIC:  -9.05297682437151 \n",
            "\n",
            "Lag Order = 4\n",
            "AIC :  -18.119999837069628\n",
            "BIC :  -18.118019667760958\n",
            "FPE :  1.350778248722322e-08\n",
            "HQIC:  -18.11939447941809 \n",
            "\n",
            "Lag Order = 5\n",
            "AIC :  -21.93449937667624\n",
            "BIC :  -21.932079144314045\n",
            "FPE :  2.9782966801750044e-10\n",
            "HQIC:  -21.93375948693374 \n",
            "\n",
            "Lag Order = 6\n",
            "AIC :  -30.842771660900585\n",
            "BIC :  -30.83991135623716\n",
            "FPE :  4.028602900426412e-14\n",
            "HQIC:  -30.84189723609658 \n",
            "\n",
            "Lag Order = 7\n",
            "AIC :  -34.59735027241128\n",
            "BIC :  -34.594049886198604\n",
            "FPE :  9.431085633293736e-16\n",
            "HQIC:  -34.59634130957513 \n",
            "\n",
            "Lag Order = 8\n",
            "AIC :  -43.15232463596491\n",
            "BIC :  -43.148584158954655\n",
            "FPE :  1.816283047024374e-19\n",
            "HQIC:  -43.151181132125856 \n",
            "\n",
            "Lag Order = 9\n",
            "AIC :  -46.807505924032526\n",
            "BIC :  -46.80332534697607\n",
            "FPE :  4.6963284794607296e-21\n",
            "HQIC:  -46.806227876219715 \n",
            "\n",
            "Lag Order = 10\n",
            "AIC :  -54.94124281308387\n",
            "BIC :  -54.93662212673227\n",
            "FPE :  1.3782291063096805e-24\n",
            "HQIC:  -54.939830218326364 \n",
            "\n",
            "Lag Order = 11\n",
            "AIC :  -58.46869368404376\n",
            "BIC :  -58.46363287914777\n",
            "FPE :  4.049197582974101e-26\n",
            "HQIC:  -58.4671465393705 \n",
            "\n",
            "Lag Order = 12\n",
            "AIC :  -65.83167242486677\n",
            "BIC :  -65.82617149217684\n",
            "FPE :  2.5684311678688267e-29\n",
            "HQIC:  -65.82999072730662 \n",
            "\n"
          ],
          "name": "stdout"
        }
      ]
    },
    {
      "cell_type": "code",
      "metadata": {
        "id": "yWvoGJLktDFD",
        "colab": {
          "base_uri": "https://localhost:8080/"
        },
        "outputId": "ca9ef299-6e2e-4413-c8e9-fdd3db51cef2"
      },
      "source": [
        "results = model.fit(maxlags=10, ic='aic')\n",
        "results.summary()"
      ],
      "execution_count": null,
      "outputs": [
        {
          "output_type": "stream",
          "text": [
            "/usr/local/lib/python3.7/dist-packages/statsmodels/tsa/vector_ar/var_model.py:1431: RuntimeWarning: invalid value encountered in sqrt\n",
            "  stderr = np.sqrt(np.diag(self._cov_params()))\n"
          ],
          "name": "stderr"
        },
        {
          "output_type": "execute_result",
          "data": {
            "text/plain": [
              "  Summary of Regression Results   \n",
              "==================================\n",
              "Model:                         VAR\n",
              "Method:                        OLS\n",
              "Date:           Wed, 21, Jul, 2021\n",
              "Time:                     15:35:05\n",
              "--------------------------------------------------------------------\n",
              "No. of Equations:         2.00000    BIC:                   -54.9366\n",
              "Nobs:                     84990.0    HQIC:                  -54.9398\n",
              "Log likelihood:       2.09358e+06    FPE:                1.37823e-24\n",
              "AIC:                     -54.9412    Det(Omega_mle):     1.37755e-24\n",
              "--------------------------------------------------------------------\n",
              "Results for equation y1\n",
              "=========================================================================\n",
              "            coefficient       std. error           t-stat            prob\n",
              "-------------------------------------------------------------------------\n",
              "const          0.000000         0.000000            0.010           0.992\n",
              "L1.y1          9.111357         0.000503        18130.623           0.000\n",
              "L1.y2         -0.015791              NAN              NAN             NAN\n",
              "L2.y1        -38.192529         0.004063        -9400.684           0.000\n",
              "L2.y2          0.128235              NAN              NAN             NAN\n",
              "L3.y1         96.867249         0.014959         6475.432           0.000\n",
              "L3.y2         -0.474032              NAN              NAN             NAN\n",
              "L4.y1       -164.497245         0.032875        -5003.780           0.000\n",
              "L4.y2          1.045499              NAN              NAN             NAN\n",
              "L5.y1        195.350567         0.047478         4114.531           0.000\n",
              "L5.y2         -1.515015              NAN              NAN             NAN\n",
              "L6.y1       -164.278957         0.046712        -3516.866           0.000\n",
              "L6.y2          1.495269              NAN              NAN             NAN\n",
              "L7.y1         96.610775         0.031307         3085.872           0.000\n",
              "L7.y2         -1.005107              NAN              NAN             NAN\n",
              "L8.y1        -38.041393         0.013789        -2758.882           0.000\n",
              "L8.y2          0.443836              NAN              NAN             NAN\n",
              "L9.y1          9.063522         0.003624         2500.871           0.000\n",
              "L9.y2         -0.116904              NAN              NAN             NAN\n",
              "L10.y1        -0.993480         0.000434        -2290.629           0.000\n",
              "L10.y2         0.014009         0.000079          177.519           0.000\n",
              "=========================================================================\n",
              "\n",
              "Results for equation y2\n",
              "=========================================================================\n",
              "            coefficient       std. error           t-stat            prob\n",
              "-------------------------------------------------------------------------\n",
              "const          0.000000         0.000000            0.001           0.999\n",
              "L1.y1          0.004975         0.000362           13.759           0.000\n",
              "L1.y2          9.102201              NAN              NAN             NAN\n",
              "L2.y1         -0.040511         0.002923          -13.858           0.000\n",
              "L2.y2        -38.122849              NAN              NAN             NAN\n",
              "L3.y1          0.150460         0.010764           13.979           0.000\n",
              "L3.y2         96.625149              NAN              NAN             NAN\n",
              "L4.y1         -0.333844         0.023654          -14.114           0.000\n",
              "L4.y2       -163.994877              NAN              NAN             NAN\n",
              "L5.y1          0.487053         0.034162           14.257           0.000\n",
              "L5.y2        194.666192              NAN              NAN             NAN\n",
              "L6.y1         -0.484113         0.033610          -14.404           0.000\n",
              "L6.y2       -163.645639              NAN              NAN             NAN\n",
              "L7.y1          0.327675         0.022527           14.546           0.000\n",
              "L7.y2         96.213611              NAN              NAN             NAN\n",
              "L8.y1         -0.145607         0.009921          -14.676           0.000\n",
              "L8.y2        -37.879116              NAN              NAN             NAN\n",
              "L9.y1          0.038547         0.002608           14.782           0.000\n",
              "L9.y2          9.024492              NAN              NAN             NAN\n",
              "L10.y1        -0.004633         0.000312          -14.847           0.000\n",
              "L10.y2        -0.989303         0.000057       -17422.431           0.000\n",
              "=========================================================================\n",
              "\n",
              "Correlation matrix of residuals\n",
              "            y1        y2\n",
              "y1    1.000000  0.347328\n",
              "y2    0.347328  1.000000\n",
              "\n"
            ]
          },
          "metadata": {
            "tags": []
          },
          "execution_count": 34
        }
      ]
    },
    {
      "cell_type": "code",
      "metadata": {
        "id": "cu4yNp3ny7ID",
        "colab": {
          "base_uri": "https://localhost:8080/"
        },
        "outputId": "9cb9d803-4299-47f1-d666-60774fbcfa29"
      },
      "source": [
        "#@title Still not understanding this granger the best moving on to using a toolbox instead \n",
        "!pip install nitime"
      ],
      "execution_count": 8,
      "outputs": [
        {
          "output_type": "stream",
          "text": [
            "Collecting nitime\n",
            "  Downloading nitime-0.9.tar.gz (6.2 MB)\n",
            "\u001b[K     |████████████████████████████████| 6.2 MB 4.5 MB/s \n",
            "\u001b[?25hRequirement already satisfied: numpy in /usr/local/lib/python3.7/dist-packages (from nitime) (1.19.5)\n",
            "Requirement already satisfied: cython in /usr/local/lib/python3.7/dist-packages (from nitime) (0.29.23)\n",
            "Requirement already satisfied: scipy in /usr/local/lib/python3.7/dist-packages (from nitime) (1.4.1)\n",
            "Requirement already satisfied: matplotlib in /usr/local/lib/python3.7/dist-packages (from nitime) (3.2.2)\n",
            "Requirement already satisfied: networkx in /usr/local/lib/python3.7/dist-packages (from nitime) (2.5.1)\n",
            "Requirement already satisfied: nibabel in /usr/local/lib/python3.7/dist-packages (from nitime) (3.0.2)\n",
            "Requirement already satisfied: cycler>=0.10 in /usr/local/lib/python3.7/dist-packages (from matplotlib->nitime) (0.10.0)\n",
            "Requirement already satisfied: kiwisolver>=1.0.1 in /usr/local/lib/python3.7/dist-packages (from matplotlib->nitime) (1.3.1)\n",
            "Requirement already satisfied: pyparsing!=2.0.4,!=2.1.2,!=2.1.6,>=2.0.1 in /usr/local/lib/python3.7/dist-packages (from matplotlib->nitime) (2.4.7)\n",
            "Requirement already satisfied: python-dateutil>=2.1 in /usr/local/lib/python3.7/dist-packages (from matplotlib->nitime) (2.8.1)\n",
            "Requirement already satisfied: six in /usr/local/lib/python3.7/dist-packages (from cycler>=0.10->matplotlib->nitime) (1.15.0)\n",
            "Requirement already satisfied: decorator<5,>=4.3 in /usr/local/lib/python3.7/dist-packages (from networkx->nitime) (4.4.2)\n",
            "Building wheels for collected packages: nitime\n",
            "  Building wheel for nitime (setup.py) ... \u001b[?25l\u001b[?25hdone\n",
            "  Created wheel for nitime: filename=nitime-0.9-cp37-cp37m-linux_x86_64.whl size=4032180 sha256=6e418dadf64490b3d713c91b1e23a5b2947bf5b1f54b304dc141711dd0a3a8c0\n",
            "  Stored in directory: /root/.cache/pip/wheels/8e/1b/71/d7d584087121ac331c444b913abeb116b527dad2a0f1d9157a\n",
            "Successfully built nitime\n",
            "Installing collected packages: nitime\n",
            "Successfully installed nitime-0.9\n"
          ],
          "name": "stdout"
        }
      ]
    },
    {
      "cell_type": "code",
      "metadata": {
        "id": "ljXxVzlqzlpX"
      },
      "source": [
        "import nitime\n",
        "import nitime.analysis as nta\n",
        "import nitime.timeseries as ts\n",
        "import nitime.utils as tsu\n",
        "from nitime.viz import drawmatrix_channels"
      ],
      "execution_count": 9,
      "outputs": []
    },
    {
      "cell_type": "code",
      "metadata": {
        "id": "Nvd5DBU60HR1"
      },
      "source": [
        "#Our Data\n",
        "# TR = .01 #sampling rate\n",
        "# f_ub = 8 #hz freq \n",
        "# f_lb = 5"
      ],
      "execution_count": 10,
      "outputs": []
    },
    {
      "cell_type": "code",
      "metadata": {
        "id": "WjMC_TfrBiRb"
      },
      "source": [
        "#original \n",
        "TR = 1.89\n",
        "f_ub = 0.15\n",
        "f_lb = 0.02"
      ],
      "execution_count": 32,
      "outputs": []
    },
    {
      "cell_type": "code",
      "metadata": {
        "id": "l2p8v0Kc0Mmt"
      },
      "source": [
        "data_path = os.path.join(nitime.__path__[0], 'data')\n",
        "\n",
        "fname = os.path.join(data_path, 'fmri_timeseries.csv')\n",
        "\n",
        "data_rec = np.genfromtxt(fname, dtype=float, delimiter=',', names=True)\n",
        "\n",
        "roi_names = np.array(data_rec.dtype.names)\n",
        "nseq = len(roi_names)\n",
        "n_samples = data_rec.shape[0]\n",
        "data = np.zeros((nseq, n_samples))\n",
        "\n",
        "for n_idx, roi in enumerate(roi_names):\n",
        "    data[n_idx] = data_rec[roi]\n"
      ],
      "execution_count": 33,
      "outputs": []
    },
    {
      "cell_type": "code",
      "metadata": {
        "id": "f9TVIWSK0gQo",
        "colab": {
          "base_uri": "https://localhost:8080/"
        },
        "outputId": "d42deb33-f75c-4cbf-de2a-d379fd215010"
      },
      "source": [
        "pdata = tsu.percent_change(data)\n",
        "time_series = ts.TimeSeries(pdata, sampling_interval=TR)\n",
        "time_series.shape\n",
        "# print(time_series)"
      ],
      "execution_count": 60,
      "outputs": [
        {
          "output_type": "execute_result",
          "data": {
            "text/plain": [
              "(31, 250)"
            ]
          },
          "metadata": {
            "tags": []
          },
          "execution_count": 60
        }
      ]
    },
    {
      "cell_type": "code",
      "metadata": {
        "id": "MY9FzZg03S1j",
        "colab": {
          "base_uri": "https://localhost:8080/"
        },
        "outputId": "d0478dd1-6d9a-477a-c4c5-f4acee166a86"
      },
      "source": [
        "brain_area_1 = session11_lfp[6,0,0:50]\n",
        "brain_area_2 = session11_lfp[7,0,0:50]\n",
        "\n",
        "\n",
        "test_dat = np.vstack((brain_area_1, brain_area_2))\n",
        "pdata = tsu.percent_change(test_dat)\n",
        "time_series = ts.TimeSeries(pdata,sampling_interval=TR)\n",
        "print(time_series)"
      ],
      "execution_count": null,
      "outputs": [
        {
          "output_type": "stream",
          "text": [
            "TimeSeries:UniformTime([0.  , 0.01, 0.02, 0.03, 0.04, 0.05, 0.06, 0.07, 0.08, 0.09,\n",
            "             0.1 , 0.11, 0.12, 0.13, 0.14, 0.15, 0.16, 0.17, 0.18, 0.19,\n",
            "             0.2 , 0.21, 0.22, 0.23, 0.24, 0.25, 0.26, 0.27, 0.28, 0.29,\n",
            "             0.3 , 0.31, 0.32, 0.33, 0.34, 0.35, 0.36, 0.37, 0.38, 0.39,\n",
            "             0.4 , 0.41, 0.42, 0.43, 0.44, 0.45, 0.46, 0.47, 0.48, 0.49], time_unit='s')array([[-4.65030183e+03,  1.02746929e+04],\n",
            "       [-5.87888650e+03,  8.75902948e+03],\n",
            "       [-4.36415046e+03,  9.10300983e+03],\n",
            "       [-4.50878132e+03,  1.09304054e+04],\n",
            "       [-7.53358787e+03, -1.66787469e+03],\n",
            "       [-4.53366405e+03, -6.59109337e+03],\n",
            "       [ 1.53305594e+03, -1.10198403e+04],\n",
            "       [-1.37044732e+03, -5.60214988e+03],\n",
            "       [ 2.13024140e+03, -7.15006143e+03],\n",
            "       [-2.19621173e+02, -6.22561425e+03],\n",
            "       [ 4.10219755e+03, -5.33341523e+03],\n",
            "       [ 1.06961514e+03, -1.28579853e+04],\n",
            "       [ 6.58891513e+03, -2.67831695e+03],\n",
            "       [ 1.85186589e+03, -8.29422604e+02],\n",
            "       [ 8.98888529e+00,  3.47033170e+03],\n",
            "       [ 3.41636738e+03,  2.21265356e+03],\n",
            "       [-2.63169057e+03, -1.51738329e+03],\n",
            "       [ 2.30753083e+03,  6.21142506e+03],\n",
            "       [ 7.01039743e+02,  2.30939803e+03],\n",
            "       [-2.91784193e+03, -9.79914005e+02],\n",
            "       [-1.35645078e+03, -5.61289926e+03],\n",
            "       [-2.18380147e+03, -2.50632678e+03],\n",
            "       [ 1.52064568e+02, -6.68181818e+02],\n",
            "       [ 2.80985089e+03, -7.21928747e+02],\n",
            "       [-1.97540863e+03, -6.07512285e+03],\n",
            "       [-2.08116022e+03, -7.00429975e+02],\n",
            "       [-2.43884943e+03, -2.46332924e+03],\n",
            "       [-1.91475698e+03,  3.57782555e+03],\n",
            "       [-1.95208107e+03,  1.34195332e+03],\n",
            "       [ 1.90318651e+03, -3.60276413e+03],\n",
            "       [ 1.66524543e+03, -2.21609337e+03],\n",
            "       [ 2.33707907e+03,  2.84686732e+03],\n",
            "       [ 1.10071855e+03,  3.12635135e+03],\n",
            "       [ 1.30289071e+03, -7.13931204e+03],\n",
            "       [ 2.87983357e+03, -3.95749386e+03],\n",
            "       [ 2.92804385e+03, -5.79563882e+03],\n",
            "       [ 2.84406464e+03, -5.60687961e+02],\n",
            "       [ 7.46139686e+02,  1.00059582e+04],\n",
            "       [ 7.61691391e+02,  3.35208845e+03],\n",
            "       [ 2.78033376e+02,  9.42549140e+03],\n",
            "       [-1.68770209e+03,  9.84471744e+03],\n",
            "       [-2.42951840e+03,  1.14141278e+04],\n",
            "       [-1.19471306e+03,  1.21880835e+04],\n",
            "       [ 1.59059725e+03,  4.40552826e+03],\n",
            "       [ 6.71491504e+02, -2.67831695e+03],\n",
            "       [-3.39369299e+02, -8.96670762e+03],\n",
            "       [ 1.22046668e+03, -7.79502457e+03],\n",
            "       [-3.40924469e+02, -7.37579853e+03],\n",
            "       [ 4.70249335e+03,  1.58918919e+03],\n",
            "       [ 4.90000000e+03,  4.90000000e+03]])\n"
          ],
          "name": "stdout"
        }
      ]
    },
    {
      "cell_type": "code",
      "metadata": {
        "id": "5GFBifSB1LAg"
      },
      "source": [
        "G = nta.GrangerAnalyzer(time_series, order=1)"
      ],
      "execution_count": 35,
      "outputs": []
    },
    {
      "cell_type": "code",
      "metadata": {
        "id": "TQVbuJQ80tXT"
      },
      "source": [
        "C1 = nta.CoherenceAnalyzer(time_series)\n",
        "C2 = nta.CorrelationAnalyzer(time_series)"
      ],
      "execution_count": 36,
      "outputs": []
    },
    {
      "cell_type": "code",
      "metadata": {
        "id": "9auP_iJA1AmH"
      },
      "source": [
        "freq_idx_G = np.where((G.frequencies > f_lb) * (G.frequencies < f_ub))[0]\n",
        "freq_idx_C = np.where((C1.frequencies > f_lb) * (C1.frequencies < f_ub))[0]"
      ],
      "execution_count": 37,
      "outputs": []
    },
    {
      "cell_type": "code",
      "metadata": {
        "id": "e-7_CPZF1Cp7",
        "colab": {
          "base_uri": "https://localhost:8080/",
          "height": 592
        },
        "outputId": "3e1b5c8f-b8eb-4b6e-9858-c80d884fda28"
      },
      "source": [
        "coh = np.mean(C1.coherence[:, :, freq_idx_C], -1)  # Averaging on the last dimension\n",
        "g1 = np.mean(G.causality_xy[:, :, freq_idx_G], -1)\n",
        "labels = session11['brain_area_lfp']\n",
        "fig01 = drawmatrix_channels(coh, roi_names, size=[10., 10.], color_anchor=0)"
      ],
      "execution_count": 38,
      "outputs": [
        {
          "output_type": "display_data",
          "data": {
            "image/png": "[encoded data removed]",
            "text/plain": [
              "<Figure size 720x720 with 2 Axes>"
            ]
          },
          "metadata": {
            "tags": [],
            "needs_background": "light"
          }
        }
      ]
    },
    {
      "cell_type": "code",
      "metadata": {
        "id": "old5Pk-98osD",
        "colab": {
          "base_uri": "https://localhost:8080/",
          "height": 592
        },
        "outputId": "73e78b7c-77b5-4004-92f0-0fc0bb8a3e68"
      },
      "source": [
        "fig02 = drawmatrix_channels(C2.corrcoef, roi_names, size=[10., 10.], color_anchor=0)"
      ],
      "execution_count": 39,
      "outputs": [
        {
          "output_type": "display_data",
          "data": {
            "image/png": "[encoded data removed]",
            "text/plain": [
              "<Figure size 720x720 with 2 Axes>"
            ]
          },
          "metadata": {
            "tags": [],
            "needs_background": "light"
          }
        }
      ]
    },
    {
      "cell_type": "code",
      "metadata": {
        "id": "h-M8qw478pUD",
        "outputId": "3df7454c-97b3-4685-8b08-382e8ab43f17",
        "colab": {
          "base_uri": "https://localhost:8080/",
          "height": 592
        }
      },
      "source": [
        "fig03 = drawmatrix_channels(np.transpose(g1), roi_names, size=[10., 10.], color_anchor=0)"
      ],
      "execution_count": 50,
      "outputs": [
        {
          "output_type": "display_data",
          "data": {
            "image/png": "[encoded data removed]",
            "text/plain": [
              "<Figure size 720x720 with 2 Axes>"
            ]
          },
          "metadata": {
            "tags": [],
            "needs_background": "light"
          }
        }
      ]
    },
    {
      "cell_type": "code",
      "metadata": {
        "id": "pxQ-M-43ADOC",
        "outputId": "320611cd-806d-4c37-c5d7-ad888c03e44c",
        "colab": {
          "base_uri": "https://localhost:8080/",
          "height": 592
        }
      },
      "source": [
        "g2 = np.mean(G.causality_xy[:, :, freq_idx_G] - G.causality_yx[:, :, freq_idx_G], -1)\n",
        "fig04 = drawmatrix_channels(np.transpose(g2), roi_names, size=[10., 10.], color_anchor=0)"
      ],
      "execution_count": 51,
      "outputs": [
        {
          "output_type": "display_data",
          "data": {
            "image/png": "[encoded data removed]",
            "text/plain": [
              "<Figure size 720x720 with 2 Axes>"
            ]
          },
          "metadata": {
            "tags": [],
            "needs_background": "light"
          }
        }
      ]
    },
    {
      "cell_type": "markdown",
      "metadata": {
        "id": "Kn-RdBYXHlNh"
      },
      "source": [
        "Now that the tutorial is fixed can start with our own data \n"
      ]
    },
    {
      "cell_type": "code",
      "metadata": {
        "id": "YOADz6tgHs5U"
      },
      "source": [
        "import nitime\n",
        "import nitime.analysis as nta\n",
        "import nitime.timeseries as ts\n",
        "import nitime.utils as tsu\n",
        "from nitime.viz import drawmatrix_channels"
      ],
      "execution_count": null,
      "outputs": []
    },
    {
      "cell_type": "code",
      "metadata": {
        "id": "XiAIwWvVHwyF",
        "outputId": "39030193-6c18-47ac-ebf7-0816381588e6",
        "colab": {
          "base_uri": "https://localhost:8080/"
        }
      },
      "source": [
        "print(session11_lfp.shape)\n",
        "print(labels)\n"
      ],
      "execution_count": 55,
      "outputs": [
        {
          "output_type": "stream",
          "text": [
            "(12, 340, 250)\n",
            "['DG', 'LGd', 'SUB', 'VISp', 'ACA', 'MOs', 'PL', 'CA1', 'DG', 'LH', 'MD', 'VISam']\n"
          ],
          "name": "stdout"
        }
      ]
    },
    {
      "cell_type": "code",
      "metadata": {
        "id": "fqSoNkZEIgma",
        "outputId": "de1af983-e546-4790-dc18-96b528871f85",
        "colab": {
          "base_uri": "https://localhost:8080/"
        }
      },
      "source": [
        "session11_lfp_avg = np.mean(session11_lfp,axis=1)\n",
        "session11_lfp_avg.shape"
      ],
      "execution_count": 59,
      "outputs": [
        {
          "output_type": "execute_result",
          "data": {
            "text/plain": [
              "(12, 250)"
            ]
          },
          "metadata": {
            "tags": []
          },
          "execution_count": 59
        }
      ]
    },
    {
      "cell_type": "code",
      "metadata": {
        "id": "J19rIvN6Js1a"
      },
      "source": [
        "#original \n",
        "TR = .1\n",
        "f_ub = 5\n",
        "f_lb = 8\n",
        "\n"
      ],
      "execution_count": null,
      "outputs": []
    },
    {
      "cell_type": "code",
      "metadata": {
        "id": "AXKEj0AjLbgI",
        "outputId": "d5237281-eca5-426b-f890-a739bf57367d",
        "colab": {
          "base_uri": "https://localhost:8080/"
        }
      },
      "source": [
        "pdata = tsu.percent_change(data)\n",
        "time_series = ts.TimeSeries(session11_lfp_avg, sampling_interval=TR)\n",
        "time_series.shape"
      ],
      "execution_count": 61,
      "outputs": [
        {
          "output_type": "execute_result",
          "data": {
            "text/plain": [
              "(12, 250)"
            ]
          },
          "metadata": {
            "tags": []
          },
          "execution_count": 61
        }
      ]
    },
    {
      "cell_type": "code",
      "metadata": {
        "id": "NE6MSFhSLl51"
      },
      "source": [
        "G = nta.GrangerAnalyzer(time_series, order=1)"
      ],
      "execution_count": 62,
      "outputs": []
    },
    {
      "cell_type": "code",
      "metadata": {
        "id": "FrHGnbQSLmlq"
      },
      "source": [
        "C1 = nta.CoherenceAnalyzer(time_series)\n",
        "C2 = nta.CorrelationAnalyzer(time_series)"
      ],
      "execution_count": 63,
      "outputs": []
    },
    {
      "cell_type": "code",
      "metadata": {
        "id": "_kEvRiyULpaV"
      },
      "source": [
        "freq_idx_G = np.where((G.frequencies > f_lb) * (G.frequencies < f_ub))[0]\n",
        "freq_idx_C = np.where((C1.frequencies > f_lb) * (C1.frequencies < f_ub))[0]"
      ],
      "execution_count": 64,
      "outputs": []
    },
    {
      "cell_type": "code",
      "metadata": {
        "id": "i4KDV326Lxin",
        "outputId": "32385352-9569-4251-dd18-62cf426c0c49",
        "colab": {
          "base_uri": "https://localhost:8080/",
          "height": 592
        }
      },
      "source": [
        "g2 = np.mean(G.causality_xy[:, :, freq_idx_G] - G.causality_yx[:, :, freq_idx_G], -1)\n",
        "fig01 = drawmatrix_channels(np.transpose(g2), labels, size=[10., 10.], color_anchor=0)"
      ],
      "execution_count": 67,
      "outputs": [
        {
          "output_type": "display_data",
          "data": {
            "image/png": "[encoded data removed]",
            "text/plain": [
              "<Figure size 720x720 with 2 Axes>"
            ]
          },
          "metadata": {
            "tags": [],
            "needs_background": "light"
          }
        }
      ]
    },
    {
      "cell_type": "code",
      "metadata": {
        "id": "_2Sw3-n_NEcn"
      },
      "source": [
        "#@title wrapping this process up into a little function \n",
        "TR = .1\n",
        "fb = [5,8]\n",
        "correct_right_idx = idx['right_cor']\n",
        "\n",
        "def granger_causality_analysis(averaged_data,TR,freq_band): \n",
        "  f_ub = freq_band[0]\n",
        "  f_lb = freq_band[1]\n",
        "  pdata = tsu.percent_change(averaged_data)\n",
        "  time_series = ts.TimeSeries(pdata, sampling_interval=TR)\n",
        "  G = nta.GrangerAnalyzer(time_series, order=1)\n",
        "  g2 = np.mean(G.causality_xy[:, :, freq_idx_G] - G.causality_yx[:, :, freq_idx_G], -1)\n",
        "  return G, g2\n",
        "\n",
        "\n"
      ],
      "execution_count": 68,
      "outputs": []
    },
    {
      "cell_type": "code",
      "metadata": {
        "id": "0oXAGeWpPpS5"
      },
      "source": [
        "#@title Prepping data \n",
        "session11_lfp_corr = session11_lfp[:,correct_right_idx==1,:] # pulling correct trials only \n",
        "session11_lfp_incorr = session11_lfp[:,correct_right_idx==0,:] #pulling incorrect trials only \n",
        "session11_lfp_corr_avg = np.mean(session11_lfp_corr,axis=1) #averaging \n",
        "session11_lfp_incorr_avg = np.mean(session11_lfp_incorr,axis=1)\n"
      ],
      "execution_count": 76,
      "outputs": []
    },
    {
      "cell_type": "code",
      "metadata": {
        "id": "bniQULz8Qz6j"
      },
      "source": [
        "#@title running grangers \n",
        "\n",
        "G_corr, g2_corr = granger_causality_analysis(session11_lfp_corr_avg,TR,freq_band=fb)\n",
        "G_incorr, g2_incorr = granger_causality_analysis(session11_lfp_incorr_avg,TR,freq_band=fb)"
      ],
      "execution_count": 78,
      "outputs": []
    },
    {
      "cell_type": "code",
      "metadata": {
        "id": "MVGC13MTRFEX",
        "outputId": "a005230d-31a8-44c2-8080-3cd015068738",
        "colab": {
          "base_uri": "https://localhost:8080/",
          "height": 592
        }
      },
      "source": [
        "#@title plotting grangers \n",
        "fig01 = drawmatrix_channels(np.transpose(g2_corr), labels, size=[10., 10.], color_anchor=0)"
      ],
      "execution_count": 79,
      "outputs": [
        {
          "output_type": "display_data",
          "data": {
            "image/png": "[encoded data removed]",
            "text/plain": [
              "<Figure size 720x720 with 2 Axes>"
            ]
          },
          "metadata": {
            "tags": [],
            "needs_background": "light"
          }
        }
      ]
    },
    {
      "cell_type": "code",
      "metadata": {
        "id": "l_boTvoPRS4e",
        "outputId": "35847aae-33e8-4b24-e767-c8391b65c3a7",
        "colab": {
          "base_uri": "https://localhost:8080/",
          "height": 592
        }
      },
      "source": [
        "fig02 = drawmatrix_channels(np.transpose(g2_incorr), labels, size=[10., 10.], color_anchor=0)"
      ],
      "execution_count": 80,
      "outputs": [
        {
          "output_type": "display_data",
          "data": {
            "image/png": "[encoded data removed]",
            "text/plain": [
              "<Figure size 720x720 with 2 Axes>"
            ]
          },
          "metadata": {
            "tags": [],
            "needs_background": "light"
          }
        }
      ]
    }
  ]
}