{
  "nbformat": 4,
  "nbformat_minor": 0,
  "metadata": {
    "colab": {
      "name": "binnedSpikes.ipynb",
      "provenance": [],
      "collapsed_sections": [
        "UeXo3ijTMIxb",
        "Qh_K2aup8jrn",
        "P2jZFBFKmKc1",
        "fe4gZ1LvPfbR",
        "686g_02LLZxq"
      ],
      "include_colab_link": true
    },
    "kernelspec": {
      "name": "python3",
      "display_name": "Python 3"
    },
    "language_info": {
      "name": "python"
    }
  },
  "cells": [
    {
      "cell_type": "markdown",
      "metadata": {
        "id": "view-in-github",
        "colab_type": "text"
      },
      "source": [
        "<a href=\"https://colab.research.google.com/github/kayteeflick/nma_cn_flow_state/blob/spikeBins/binnedSpikes.ipynb\" target=\"_parent\"><img src=\"https://colab.research.google.com/assets/colab-badge.svg\" alt=\"Open In Colab\"/></a>"
      ]
    },
    {
      "cell_type": "markdown",
      "metadata": {
        "id": "nxiMhxrvMqQ8"
      },
      "source": [
        "# Flow State Template Analysis File"
      ]
    },
    {
      "cell_type": "markdown",
      "metadata": {
        "id": "atk2QuhRCn7i"
      },
      "source": [
        "General functions to use in all notebooks. Make a copy of this to start a new type of analysis.\n",
        "\n",
        "\n"
      ]
    },
    {
      "cell_type": "markdown",
      "metadata": {
        "id": "UeXo3ijTMIxb"
      },
      "source": [
        "## Imports"
      ]
    },
    {
      "cell_type": "code",
      "metadata": {
        "id": "9qWJi-siDfYx"
      },
      "source": [
        "#title \n",
        "import numpy as np\n",
        "import matplotlib.pyplot as plt\n",
        "from scipy.signal import butter, lfilter"
      ],
      "execution_count": 46,
      "outputs": []
    },
    {
      "cell_type": "markdown",
      "metadata": {
        "id": "q8F_e8RsMFRv"
      },
      "source": [
        "## Data Retrieval - spikes"
      ]
    },
    {
      "cell_type": "code",
      "metadata": {
        "id": "-VOCPJJFCk_i"
      },
      "source": [
        "#title Data retrieval - spikes\n",
        "import os, requests\n",
        "\n",
        "fname = []\n",
        "for j in range(3):\n",
        "  fname.append('steinmetz_part%d.npz'%j)\n",
        "url = [\"https://osf.io/agvxh/download\"]\n",
        "url.append(\"https://osf.io/uv3mw/download\")\n",
        "url.append(\"https://osf.io/ehmw2/download\")\n",
        "\n",
        "for j in range(len(url)):\n",
        "  if not os.path.isfile(fname[j]):\n",
        "    try:\n",
        "      r = requests.get(url[j])\n",
        "    except requests.ConnectionError:\n",
        "      print(\"!!! Failed to download data !!!\")\n",
        "    else:\n",
        "      if r.status_code != requests.codes.ok:\n",
        "        print(\"!!! Failed to download data !!!\")\n",
        "      else:\n",
        "        with open(fname[j], \"wb\") as fid:\n",
        "          fid.write(r.content)\n",
        "\n",
        "alldat = np.array([])\n",
        "for j in range(len(fname)):\n",
        "  alldat = np.hstack((alldat, np.load('steinmetz_part%d.npz'%j, allow_pickle=True)['dat']))"
      ],
      "execution_count": 47,
      "outputs": []
    },
    {
      "cell_type": "markdown",
      "metadata": {
        "id": "3cFNd4ynv-Q0"
      },
      "source": [
        "define spike as spk variable and select single mouse [11]"
      ]
    },
    {
      "cell_type": "code",
      "metadata": {
        "id": "HmQSuB5kPUcf"
      },
      "source": [
        "#for n in range [] #subset\n",
        "spk = alldat[11]['spks'] #(neurons, trials, time)"
      ],
      "execution_count": 48,
      "outputs": []
    },
    {
      "cell_type": "code",
      "metadata": {
        "id": "X50Kqw97XaWS"
      },
      "source": [
        "spikes = []\n",
        "for i in range(spk.shape[0]): # loop through all neurons (from single mouse defined above)\n",
        "  spikes.append(np.argwhere(spk[i,0,:])[:,0])\n"
      ],
      "execution_count": 49,
      "outputs": []
    },
    {
      "cell_type": "code",
      "metadata": {
        "id": "28ZOYLOXQzRL",
        "colab": {
          "base_uri": "https://localhost:8080/",
          "height": 335
        },
        "outputId": "d17188d8-5b52-4b07-8f97-55db7512e3ed"
      },
      "source": [
        "spikes = []\n",
        "for i in range(spk.shape[0]): # loop through all neurons (from single mouse defined above)\n",
        "  spikes.append(np.argwhere(spk[i,0,:])[:,0])\n",
        "_ = plt.eventplot(spikes)\n",
        "\n",
        "# index of spike indicated with a 1\n",
        "np.argwhere(spk[i,0,:]==1)[:,0]"
      ],
      "execution_count": 50,
      "outputs": [
        {
          "output_type": "execute_result",
          "data": {
            "text/plain": [
              "array([  3,  13,  22,  29,  35,  38,  44,  50,  57,  63,  67,  71,  74,\n",
              "        76,  79,  87,  96, 101, 104, 106, 107, 108, 109, 110, 120, 121,\n",
              "       128, 130, 133, 135, 140, 151, 158, 174, 177, 185, 187, 189, 193,\n",
              "       195, 198, 201, 208, 210, 213, 218, 221, 224, 229, 245, 247])"
            ]
          },
          "metadata": {
            "tags": []
          },
          "execution_count": 50
        },
        {
          "output_type": "display_data",
          "data": {
            "image/png": "[encoded data removed]",
            "text/plain": [
              "<Figure size 432x288 with 1 Axes>"
            ]
          },
          "metadata": {
            "tags": [],
            "needs_background": "light"
          }
        }
      ]
    },
    {
      "cell_type": "code",
      "metadata": {
        "id": "0rz8Hi2oPclq",
        "colab": {
          "base_uri": "https://localhost:8080/",
          "height": 264
        },
        "outputId": "f43c0f98-b333-4857-aed7-b49704e0fe88"
      },
      "source": [
        "#plt.eventplot?\n",
        "_ = plt.eventplot(np.argwhere(spk[0,:,:])[:,0])"
      ],
      "execution_count": 51,
      "outputs": [
        {
          "output_type": "display_data",
          "data": {
            "image/png": "[encoded data removed]",
            "text/plain": [
              "<Figure size 432x288 with 1 Axes>"
            ]
          },
          "metadata": {
            "tags": [],
            "needs_background": "light"
          }
        }
      ]
    },
    {
      "cell_type": "markdown",
      "metadata": {
        "id": "VCv8C_ZyyebD"
      },
      "source": [
        "individual spike visualization for subject by condition"
      ]
    },
    {
      "cell_type": "code",
      "metadata": {
        "colab": {
          "base_uri": "https://localhost:8080/",
          "height": 904
        },
        "id": "JiIqfCH9EhQT",
        "outputId": "8ab70697-8664-477b-f9d7-0007469848a1"
      },
      "source": [
        "# (-1, 0, 1) :: -1 right side correct choise, 0 no go response, 1 left side correct choice\n",
        "rsp = alldat[11]['response']\n",
        "\n",
        "print(rsp[2])\n",
        "print(rsp[3])\n",
        "print(rsp[4])\n",
        "\n",
        "# rastor plot $ $ $ $ $ $ $ $ $ $ $ $ $ $ $ $ $ $ $ $ $ $ $ $ $\n",
        "\n",
        "## no-go response\n",
        "nogospk = []\n",
        "for i in range(spk.shape[0]):\n",
        "  nogospk.append(np.argwhere(spk[i,2,:]==1)[:,0])\n",
        "_ = plt.eventplot(nogospk)\n",
        "# fig & axes title\n",
        "plt.title('spike raster plot N-11 NOGO')\n",
        "plt.xlabel('time')\n",
        "plt.ylabel('Spike')\n",
        "# Display spike raster plot  for N11 nogo resp\n",
        "plt.show()\n",
        "\n",
        "## left response\n",
        "leftspk = []\n",
        "for i in range(spk.shape[0]):\n",
        "  leftspk.append(np.argwhere(spk[i,3,:]==1)[:,0])\n",
        "_ = plt.eventplot(leftspk)\n",
        "# fig & axes title\n",
        "plt.title('spike raster plot N-11 LEFT')\n",
        "plt.xlabel('time')\n",
        "plt.ylabel('Spike')\n",
        "# Display spike raster plot for N11 left resp\n",
        "plt.show()\n",
        "\n",
        "## Right response\n",
        "rightspk = []\n",
        "for i in range(spk.shape[0]):\n",
        "  rightspk.append(np.argwhere(spk[i,4,:]==1)[:,0])\n",
        "_ = plt.eventplot(rightspk)\n",
        "# fig & axes title\n",
        "plt.title('spike raster plot N-11 RIGHT')\n",
        "plt.xlabel('time')\n",
        "plt.ylabel('Spike')\n",
        "# Display spike raster plot for N11 right resp\n",
        "plt.show()\n"
      ],
      "execution_count": 52,
      "outputs": [
        {
          "output_type": "stream",
          "text": [
            "0.0\n",
            "1.0\n",
            "-1.0\n"
          ],
          "name": "stdout"
        },
        {
          "output_type": "display_data",
          "data": {
            "image/png": "[encoded data removed]",
            "text/plain": [
              "<Figure size 432x288 with 1 Axes>"
            ]
          },
          "metadata": {
            "tags": [],
            "needs_background": "light"
          }
        },
        {
          "output_type": "display_data",
          "data": {
            "image/png": "[encoded data removed]",
            "text/plain": [
              "<Figure size 432x288 with 1 Axes>"
            ]
          },
          "metadata": {
            "tags": [],
            "needs_background": "light"
          }
        },
        {
          "output_type": "display_data",
          "data": {
            "image/png": "[encoded data removed]",
            "text/plain": [
              "<Figure size 432x288 with 1 Axes>"
            ]
          },
          "metadata": {
            "tags": [],
            "needs_background": "light"
          }
        }
      ]
    },
    {
      "cell_type": "code",
      "metadata": {
        "id": "wc-dQJyWyHq9"
      },
      "source": [
        "#define & preallocate ~ ~ ~ ~ ~ ~ ~ ~ ~ ~ ~  \n",
        "#dat['contrast_right']: contrast level for the right stimulus, \n",
        "  # which is always contralateral to the recorded brain areas.\n",
        "#dat['contrast_left']: contrast level for left stimulus.\n",
        "#dat['response']: which side the response was (-1, 0, 1). \n",
        "  # When the right-side stimulus had higher contrast, the correct choice was -1. \n",
        "  # 0 is a no go response.\n",
        "\n",
        "#get_behavioral_idx(alldat,11)\n",
        "\n",
        "def define_trials(alldat):\n",
        "\n",
        "  #for n in range(alldat.shape[0]):\n",
        "\n",
        "   data = alldat\n",
        "\n",
        "## remove left trials \n",
        "   response = data['response'] # right - nogo - left (-1, 0, 1)\n",
        "   vis_right = data['contrast_right'] # 0 - low - high\n",
        "   vis_left = data['contrast_left'] # 0 - low - high\n",
        "\n",
        "   rspLeft = data['spks'][:,response>=0] # left responses\n",
        "   rspRight = data['spks'][:,response<=0] # right responses\n",
        "   cueRight = data['spks'][:,vis_right>0] # stimulus on the right\n",
        "  #cue_nogo = (data['spks'][:,response>=0]) & (data['spks'][:,vis_right>0])\n",
        "\n",
        "   return rspRight, cueRight, cue_nogo\n",
        "\n",
        "# print(rspRight.shape)\n",
        "# print(cueRight.shape)\n",
        "# print(cue_nogo.shape)\n",
        "# print(cueRight[0,0,0])\n",
        "\n",
        "## if correct or incorrect \n",
        "def trial_result (data, rspLeft, rspRight, cueRight, cue_nogo):\n",
        "\n",
        "  #for n in range(alldat.shape[0]):\n",
        "\n",
        "    data = alldat\n",
        "    correct_trial = []\n",
        "    error_trial = []\n",
        "\n",
        "    #for i in range(data.shape[1]): # loop through all neurons\n",
        "\n",
        "    if (rspRight[:,n,:] == 1)  & (cueRight[:,n,:] == 1):\n",
        "      correct_trial = data['spks']\n",
        "\n",
        "    elif (rspRight[:,n,:] != cueRight[:,n,:] == 1):\n",
        "      error_trial = data['spks']\n",
        "\n",
        "    return correct_trial, error_trial\n",
        "\n",
        "#print(error_trial.shape)\n",
        "\n",
        "## if correct or incorrect \n",
        "def trial_result (data, rspLeft, rspRight, cueRight, cue_nogo, n):\n",
        "\n",
        "      #for n in range(alldat.shape[0]):\n",
        "    n = 11\n",
        "    data = alldat[n]\n",
        "    correct_trial = []\n",
        "    error_trial = []\n",
        "\n",
        "       # for i in range(data.shape [1]): # loop through all neurons\n",
        "\n",
        "    if (rspRight[:,n,:] == 1)  & (cueRight[:,n,:] == 1):\n",
        "      correct_trial = data['spks']\n",
        "\n",
        "    elif (rspRight[:,n,:] != cueRight[:,n,:] == 1):\n",
        "      error_trial = data['spks']\n",
        "\n",
        "    return correct_trial, error_trial"
      ],
      "execution_count": 53,
      "outputs": []
    },
    {
      "cell_type": "code",
      "metadata": {
        "id": "qi8hEVcyrB_r"
      },
      "source": [
        "# call f(x) to get trial types && seperate into correct or incorrect trials\n",
        "response, vis_right, vis_left, gocue_idx, rt_idx = get_behavioral_idx(alldat,11)\n",
        "\n",
        "# (698, 340, 250)  neurons , trials , time\n",
        "  # response  = right - nogo - left (-1, 0, 1)\n",
        "  # vis_right =  0 - low - high\n",
        "  # vis_left  =  0 - low - high\n",
        "\n",
        "# determine if trials are correct or incorrect\n",
        "\n",
        "# print(response.shape)\n",
        "# print(vis_right.shape)\n",
        "# print(vis_left.shape)\n",
        "\n",
        "data = alldat\n",
        "n = 11\n",
        "\n",
        "def trial_result (data, response, vis_right, vis_left, n):\n",
        "  data[n]\n",
        "  correct_trial  = []\n",
        "  error_trial = []\n",
        "\n",
        "  mask = np.logical_and(response == -1, vis_right >0)\n",
        "  correct_trial = mask\n",
        "  print(correct_trial.shape)\n",
        "\n",
        "  mask = np.logical_and(response == -1, vis_right == 0)\n",
        "  error_trial = mask\n",
        "  print(error_trial.shape)\n",
        "\n",
        "  return correct_trial, error_trial\n",
        "\n",
        "# neurons #trials #time\n",
        "# stack trials tip to tail based on response condition\n",
        "\n",
        "data = alldat\n",
        "n = 11\n",
        "correct_trial, error_trial = trial_result (data, response, vis_right, vis_left, n)"
      ],
      "execution_count": null,
      "outputs": []
    },
    {
      "cell_type": "code",
      "metadata": {
        "execution": {
          "iopub.execute_input": "2021-07-05T19:39:03.625149Z",
          "iopub.status.busy": "2021-07-05T19:39:03.623873Z",
          "iopub.status.idle": "2021-07-05T19:39:04.102220Z",
          "shell.execute_reply": "2021-07-05T19:39:04.102886Z"
        },
        "id": "UlBl_AOWTe7s"
      },
      "source": [
        "stim = rsp\n",
        "spike = spk[:,:,:] # all neurons, 1 trial, all time\n",
        "print(spike.shape)\n",
        "#dt_stim = 1\n",
        "#plot_stim_and_spikes(stim, spike, dt_stim)"
      ],
      "execution_count": null,
      "outputs": []
    },
    {
      "cell_type": "markdown",
      "metadata": {
        "id": "Qh_K2aup8jrn"
      },
      "source": [
        "## Data retrieval - LFP"
      ]
    },
    {
      "cell_type": "code",
      "metadata": {
        "id": "CL13fYEYDl6d"
      },
      "source": [
        " \n",
        "import os, requests\n",
        "\n",
        "fname = ['steinmetz_st.npz']\n",
        "fname.append('steinmetz_wav.npz')\n",
        "fname.append('steinmetz_lfp.npz')\n",
        "\n",
        "url = [\"https://osf.io/4bjns/download\"]\n",
        "url.append(\"https://osf.io/ugm9v/download\")\n",
        "url.append(\"https://osf.io/kx3v9/download\")\n",
        "\n",
        "for j in range(len(url)):\n",
        "  if not os.path.isfile(fname[j]):\n",
        "    try:\n",
        "      r = requests.get(url[j])\n",
        "    except requests.ConnectionError:\n",
        "      print(\"!!! Failed to download data !!!\")\n",
        "    else:\n",
        "      if r.status_code != requests.codes.ok:\n",
        "        print(\"!!! Failed to download data !!!\")\n",
        "      else:\n",
        "        with open(fname[j], \"wb\") as fid:\n",
        "          fid.write(r.content)\n",
        "\n",
        "dat_LFP = np.load('steinmetz_lfp.npz', allow_pickle=True)['dat']\n"
      ],
      "execution_count": null,
      "outputs": []
    },
    {
      "cell_type": "markdown",
      "metadata": {
        "id": "5K7UT7dyj_6R"
      },
      "source": [
        "`dat_LFP`, `dat_WAV`, `dat_ST` contain 39 sessions from 10 mice, data from Steinmetz et al, 2019, supplemental to the main data provided for NMA. Time bins for all measurements are 10ms, starting 500ms before stimulus onset (same as the main data). The followin fields are available across the three supplemental files. \n",
        "\n",
        "* `dat['lfp']`: recording of the local field potential in each brain area from this experiment, binned at `10ms`.\n",
        "* `dat['brain_area_lfp']`: brain area names for the LFP channels. \n",
        "* `dat['trough_to_peak']`: measures the width of the action potential waveform for each neuron. Widths `<=10` samples are \"putative fast spiking neurons\". \n",
        "* `dat['waveform_w']`: temporal components of spike waveforms. `w@u` reconstructs the time by channels action potential shape. \n",
        "* `dat['waveform_u]`: spatial components of spike waveforms.\n",
        "* `dat['ss']`: neurons by trials. Exact spikes times for each neuron and each trial, reference to the stimulus onset. A (neuron,trial) entry can be an empty list if that neuron did not fire at all on that trial. \n",
        "* `dat['%X%_passive']`: same as above for `X` = {`lfp`, `ss`} but for  passive trials at the end of the recording when the mouse was no longer engaged and stopped making responses. \n",
        "\n",
        "\n"
      ]
    },
    {
      "cell_type": "markdown",
      "metadata": {
        "id": "xFCTeF8P8JGs"
      },
      "source": [
        "## Functions"
      ]
    },
    {
      "cell_type": "code",
      "metadata": {
        "id": "fogo6aADEKV6"
      },
      "source": [
        "# commmon functions\n",
        "\n",
        "def select_brois(data, brois, data_type, selection=True):\n",
        "  '''\n",
        "  Args:\n",
        "    data: a numpy array of the Steinmetz 2019 data\n",
        "    brois: a list of brain regions of interest\n",
        "    data_type: \"LFP\" or \"spikes\"\n",
        "    selection: if True, filters for sessions that contain all brois. If False, filters\n",
        "        for sessions that contain any of the brois\n",
        "  Returns:\n",
        "    an embedded 1-d numpy array, with length = number of filtered session\n",
        "  '''\n",
        "  selected_data = np.array([])\n",
        "\n",
        "  if data_type == \"LFP\":\n",
        "    brain_area = \"brain_area_lfp\"\n",
        "  elif data_type == \"spikes\":\n",
        "    brain_area = \"brain_area\"\n",
        "\n",
        "  if selection == True:\n",
        "    for i in range(len(data)):\n",
        "      if all(item in data[i][brain_area] for item in brois):\n",
        "        selected_data = np.hstack((selected_data, data[i]))\n",
        "  else:\n",
        "    for i in range(len(data)):\n",
        "      if any(item in data[i][brain_area] for item in brois):\n",
        "        selected_data = np.hstack((selected_data, data[i]))\n",
        "\n",
        "  return selected_data\n",
        "\n",
        "def sel_neurons():\n",
        "  print('todo')\n",
        "  return\n",
        "\n",
        "def spks_to_rate(spks):\n",
        "  print('todo')\n",
        "  return\n",
        "\n",
        "def butter_bandpass_backend(lowcut, highcut, fs, order=6):\n",
        "  nyq = 0.5 * fs\n",
        "  low = lowcut / nyq\n",
        "  high = highcut / nyq\n",
        "  b, a = butter(order, [low, high], btype='band')\n",
        "  return b, a\n",
        "\n",
        "def butter_bandpass_filter_good_func(data, lowcut, highcut, fs, order=6):\n",
        "  b, a = butter_bandpass_backend(lowcut, highcut, fs, order=order)\n",
        "  y = lfilter(b, a, data)\n",
        "  return y \n",
        "\n",
        "def get_behavioral_idx(alldat,recording_session):\n",
        "  temp_dat = alldat[recording_session]\n",
        "  response = temp_dat['response'] # right - nogo - left (-1, 0, 1)\n",
        "  vis_right = temp_dat['contrast_right'] # 0 - low - high\n",
        "  vis_left = temp_dat['contrast_left'] # 0 - low - high\n",
        "  gocue_idx = temp_dat['gocue']\n",
        "  rt_idx = temp_dat['reaction_time']\n",
        "  return response, vis_right, vis_left, gocue_idx, rt_idx\n"
      ],
      "execution_count": null,
      "outputs": []
    },
    {
      "cell_type": "markdown",
      "metadata": {
        "id": "P2jZFBFKmKc1"
      },
      "source": [
        "## Testing Filter Function"
      ]
    },
    {
      "cell_type": "code",
      "metadata": {
        "id": "izrYPXprmJwh"
      },
      "source": [
        "# brain regions of interest\n",
        "# brois = [\"ACA\", \"CA1\", \"DG\", \"MRN\", \"PL\",\"VISp\", \"ZI\"]\n",
        "brois = [\"PL\",\"VISp\"]\n",
        "\n",
        "filtered_spikes = select_brois(alldat, brois, \"spikes\")\n",
        "print(len(filtered_spikes))\n",
        "\n",
        "#filtered_lfp = select_brois(dat_LFP, brois, \"LFP\")\n",
        "#print(len(filtered_lfp))"
      ],
      "execution_count": null,
      "outputs": []
    },
    {
      "cell_type": "markdown",
      "metadata": {
        "id": "fe4gZ1LvPfbR"
      },
      "source": [
        "##Testing Bandpass Function "
      ]
    },
    {
      "cell_type": "code",
      "metadata": {
        "id": "Miw42j0jPa76"
      },
      "source": [
        "#pulling LFP Data of mouse 11 \n",
        "dat = dat_LFP[11]\n",
        "# Sample rate and desired cutoff frequencies (in Hz).\n",
        "fs = 100.0\n",
        "lowcut = 6.0\n",
        "highcut = 9.0\n",
        "filt_data = butter_bandpass_filter_good_func(dat['lfp'], lowcut, highcut, fs,order=5)\n",
        "#plotting \n",
        "test = np.mean(filt_data,axis=0)\n",
        "plt.plot(np.mean(test,axis=0))"
      ],
      "execution_count": null,
      "outputs": []
    },
    {
      "cell_type": "markdown",
      "metadata": {
        "id": "686g_02LLZxq"
      },
      "source": [
        "## Filter Spikes Dataset"
      ]
    },
    {
      "cell_type": "code",
      "metadata": {
        "id": "kHkmZYvhLSan"
      },
      "source": [
        "# brain regions of interest\n",
        "brois = [\"ACA\", \"CA1\", \"DG\", \"MRN\", \"PL\",\"VISp\", \"ZI\"]\n",
        "data = \n",
        "data_type = 'spikes'\n",
        "select_brois(data, brois, data_type, selection=True):"
      ],
      "execution_count": null,
      "outputs": []
    }
  ]
}